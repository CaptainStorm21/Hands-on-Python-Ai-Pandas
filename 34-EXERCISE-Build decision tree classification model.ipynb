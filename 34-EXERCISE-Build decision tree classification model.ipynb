{
 "cells": [
  {
   "cell_type": "code",
   "execution_count": null,
   "id": "4748bcb6-7aca-4ad7-9946-81099abd54c2",
   "metadata": {},
   "outputs": [],
   "source": [
    "'''\n",
    "Build decision tree classification model\n",
    "Write the following code first:\n",
    "\n",
    "\n",
    "\n",
    "import pandas as pd\n",
    "import numpy as np\n",
    " \n",
    "# Create a new DataFrame for Classification\n",
    "data = {\n",
    "    'X1': np.random.randint(0, 100, 100),  # Feature 1\n",
    "    'X2': np.random.randint(0, 100, 100),  # Feature 2\n",
    "    'y': np.random.choice([0, 1], size=100)   # Target variable (binary)\n",
    "}\n",
    " \n",
    "df = pd.DataFrame(data)\n",
    "\n",
    "\n",
    "Split the data into train and test set.\n",
    "\n",
    "Fit a decision tree classification ML model.\n",
    "\n",
    "Predict the y_pred based on x_test using the model.\n",
    "\n",
    "Calculate accuracy score.\n",
    "\n",
    "Generate classification report.\n",
    "'''"
   ]
  },
  {
   "cell_type": "code",
   "execution_count": null,
   "id": "091eec15-55ea-4586-abcd-172f85b9f7ef",
   "metadata": {},
   "outputs": [],
   "source": [
    "import pandas as pd\n",
    "import numpy as np\n",
    "from sklearn.model_selection import train_test_split\n",
    "from sklearn.tree import DecisionTreeClassifier\n",
    "from sklearn.metrics import accuracy_score, classification_report\n",
    "\n",
    "# Create a new DataFrame for Classification\n",
    "data = {\n",
    "    'X1': np.random.randint(0, 100, 100),  # Feature 1\n",
    "    'X2': np.random.randint(0, 100, 100),  # Feature 2\n",
    "    'y': np.random.choice([0, 1], size=100)   # Target variable (binary)\n",
    "}\n",
    "\n",
    "df = pd.DataFrame(data)\n",
    "\n",
    "# Split the data into train and test set\n",
    "X = df[['X1', 'X2']]\n",
    "y = df['y']\n",
    "X_train, X_test, y_train, y_test = train_test_split(X, y, test_size=0.2, random_state=42)\n",
    "\n",
    "# Fit a decision tree classification ML model\n",
    "model = DecisionTreeClassifier()\n",
    "model.fit(X_train, y_train)\n",
    "\n",
    "# Predict the y_pred based on X_test using the model\n",
    "y_pred = model.predict(X_test)\n",
    "\n",
    "# Calculate accuracy score\n",
    "accuracy = accuracy_score(y_test, y_pred)\n",
    "print(\"Accuracy Score:\", accuracy)\n",
    "\n",
    "# Generate classification report\n",
    "report = classification_report(y_test, y_pred)\n",
    "print(\"Classification Report:\\n\", report)\n"
   ]
  },
  {
   "cell_type": "code",
   "execution_count": null,
   "id": "8b9b4c1d-5b1e-49e1-9d60-b6b4b1bd6b79",
   "metadata": {},
   "outputs": [],
   "source": [
    "'''\n",
    "This code did:\n",
    "\n",
    "Create a DataFrame with random integer values for features X1 and X2, and binary target variable y.\n",
    "Split the data into training and testing sets (80% train, 20% test).\n",
    "Fit a decision tree classification model on the training data.\n",
    "Make predictions on the test data.\n",
    "Calculate the accuracy score of the model.\n",
    "Generate a classification report containing precision, recall, F1-score, and support for each class.\n",
    "\n",
    "'''\n"
   ]
  }
 ],
 "metadata": {
  "kernelspec": {
   "display_name": "Python 3 (ipykernel)",
   "language": "python",
   "name": "python3"
  },
  "language_info": {
   "codemirror_mode": {
    "name": "ipython",
    "version": 3
   },
   "file_extension": ".py",
   "mimetype": "text/x-python",
   "name": "python",
   "nbconvert_exporter": "python",
   "pygments_lexer": "ipython3",
   "version": "3.12.2"
  }
 },
 "nbformat": 4,
 "nbformat_minor": 5
}
