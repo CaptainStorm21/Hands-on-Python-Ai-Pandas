{
 "cells": [
  {
   "cell_type": "code",
   "execution_count": null,
   "id": "3f85f2d2-1eec-4861-b09b-50229fd93dc6",
   "metadata": {},
   "outputs": [],
   "source": []
  },
  {
   "cell_type": "code",
   "execution_count": 4,
   "id": "7fb21ab2-e009-4142-ad80-8efd750fabc6",
   "metadata": {},
   "outputs": [
    {
     "name": "stdout",
     "output_type": "stream",
     "text": [
      "          country  order_value_EUR       cost                 date  \\\n",
      "0          Sweden         98320.37   77722.25            8/23/2020   \n",
      "1          France         46296.26   40319.41            5/15/2020   \n",
      "2        Portugal        140337.34  115708.14  2020-04-09 00:00:00   \n",
      "3          France        203604.46  175344.16            6/26/2019   \n",
      "4              UK         63979.04   56032.84           10/22/2019   \n",
      "...           ...              ...        ...                  ...   \n",
      "996        France         69126.50    55902.6  2019-08-12 00:00:00   \n",
      "997        France        140943.88  120633.87            5/28/2020   \n",
      "998        France        124784.67  106853.11            5/22/2020   \n",
      "999       Germany         61968.26   50690.04           12/27/2020   \n",
      "1000  Netherlands        172453.10  145688.38            6/24/2020   \n",
      "\n",
      "         category                     customer_name    sales_manager  \\\n",
      "0           Games                    Konopelski LLC     Maxie Marrow   \n",
      "1           Games                        Wisoky Inc    Othello Bowes   \n",
      "2      Appliances                     Hegmann Group  Celine Tumasian   \n",
      "3     Electronics                   Kirlin and Sons    Othello Bowes   \n",
      "4           Games                    Schoen-Keeling  Jessamine Apark   \n",
      "...           ...                               ...              ...   \n",
      "996   Electronics     Farrell, Swaniawski and Crist    Othello Bowes   \n",
      "997    Appliances                  Armstrong-Little    Othello Bowes   \n",
      "998   Electronics  Swaniawski, Runolfsson and Green    Othello Bowes   \n",
      "999   Electronics                Romaguera-Dietrich  Rickard Doogood   \n",
      "1000     Outdoors                   Kirlin and Sons    Denice Amberg   \n",
      "\n",
      "                sales_rep device_type    order_id  \n",
      "0      Tarrah Castelletti      Tablet  70-0511466  \n",
      "1     Amelina Piscopiello      Tablet  77-3489084  \n",
      "2           Corene Shirer          PC  65-8218141  \n",
      "3            Crysta Halls      Mobile  29-5478106  \n",
      "4      Genevra Charrisson          PC  27-3437546  \n",
      "...                   ...         ...         ...  \n",
      "996        Avrit Chanders          PC  07-3201531  \n",
      "997        Avrit Chanders      Tablet  77-0650807  \n",
      "998           Ora Grennan      Tablet  44-2757396  \n",
      "999         Casie MacBain          PC  22-7259031  \n",
      "1000       Nero Harbisher          PC  60-6986682  \n",
      "\n",
      "[1001 rows x 10 columns]\n"
     ]
    }
   ],
   "source": [
    "import pandas as pd\n",
    "\n",
    "# Specify the file path\n",
    "excel_file = 'sales data.xlsx'\n",
    "\n",
    "# Load the Excel file into a DataFrame\n",
    "df = pd.read_excel(excel_file)\n",
    "\n",
    "# Display the DataFrame\n",
    "print(df)\n"
   ]
  },
  {
   "cell_type": "code",
   "execution_count": null,
   "id": "87c9185f-7364-4376-b204-eb0dc368b9cd",
   "metadata": {},
   "outputs": [],
   "source": []
  },
  {
   "cell_type": "code",
   "execution_count": null,
   "id": "886d8755-039e-4fa8-a50d-e31353c499ba",
   "metadata": {},
   "outputs": [],
   "source": []
  }
 ],
 "metadata": {
  "kernelspec": {
   "display_name": "Python 3 (ipykernel)",
   "language": "python",
   "name": "python3"
  },
  "language_info": {
   "codemirror_mode": {
    "name": "ipython",
    "version": 3
   },
   "file_extension": ".py",
   "mimetype": "text/x-python",
   "name": "python",
   "nbconvert_exporter": "python",
   "pygments_lexer": "ipython3",
   "version": "3.12.2"
  }
 },
 "nbformat": 4,
 "nbformat_minor": 5
}
