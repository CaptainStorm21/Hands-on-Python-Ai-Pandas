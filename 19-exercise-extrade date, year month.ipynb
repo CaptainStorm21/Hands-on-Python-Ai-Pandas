{
 "cells": [
  {
   "cell_type": "code",
   "execution_count": null,
   "id": "0759f3ab-c189-40ac-8345-7f0257eef78c",
   "metadata": {},
   "outputs": [],
   "source": [
    "'''\n",
    "Extracting day, month and year\n",
    "Write the code:\n",
    "\n",
    "import pandas as pd\n",
    " \n",
    "# Create a new DataFrame with a date variable\n",
    "data = {\n",
    "    'date': ['2023-01-15', '2023-02-20', '2023-03-25', '2023-04-30', '2023-05-05']\n",
    "}\n",
    " \n",
    "df = pd.DataFrame(data)\n",
    "\n",
    "\n",
    "Then, extract day, month and year from the date.\n",
    "'''\n"
   ]
  },
  {
   "cell_type": "code",
   "execution_count": 1,
   "id": "929edd90-836e-44d6-92ec-f349ea99bb9d",
   "metadata": {},
   "outputs": [
    {
     "name": "stdout",
     "output_type": "stream",
     "text": [
      "        date  day  month  year\n",
      "0 2023-01-15   15      1  2023\n",
      "1 2023-02-20   20      2  2023\n",
      "2 2023-03-25   25      3  2023\n",
      "3 2023-04-30   30      4  2023\n",
      "4 2023-05-05    5      5  2023\n"
     ]
    }
   ],
   "source": [
    "import pandas as pd\n",
    " \n",
    "# Create a new DataFrame with a date variable\n",
    "data = {\n",
    "    'date': ['2023-01-15', '2023-02-20', '2023-03-25', '2023-04-30', '2023-05-05']\n",
    "}\n",
    " \n",
    "df = pd.DataFrame(data)\n",
    "\n",
    "# Convert 'date' column to datetime type\n",
    "df['date'] = pd.to_datetime(df['date'])\n",
    "\n",
    "# Extract day, month, and year\n",
    "df['day'] = df['date'].dt.day\n",
    "df['month'] = df['date'].dt.month\n",
    "df['year'] = df['date'].dt.year\n",
    "\n",
    "print(df)"
   ]
  }
 ],
 "metadata": {
  "kernelspec": {
   "display_name": "Python 3 (ipykernel)",
   "language": "python",
   "name": "python3"
  },
  "language_info": {
   "codemirror_mode": {
    "name": "ipython",
    "version": 3
   },
   "file_extension": ".py",
   "mimetype": "text/x-python",
   "name": "python",
   "nbconvert_exporter": "python",
   "pygments_lexer": "ipython3",
   "version": "3.12.2"
  }
 },
 "nbformat": 4,
 "nbformat_minor": 5
}
