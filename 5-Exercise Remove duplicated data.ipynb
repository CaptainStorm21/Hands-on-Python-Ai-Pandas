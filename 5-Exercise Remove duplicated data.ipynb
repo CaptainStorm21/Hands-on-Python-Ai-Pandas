{
 "cells": [
  {
   "cell_type": "code",
   "execution_count": 2,
   "id": "cd7f695b-03e7-4b9f-b8ed-bbdf4b63be82",
   "metadata": {},
   "outputs": [],
   "source": [
    "'''\n",
    "\n",
    "Tasks: \n",
    "    Add a duplicate row\n",
    "    Then Remove the duplicated rows\n",
    "    Then display the output\n",
    "\n",
    "\n",
    "import pandas as pd\n",
    " \n",
    "# Create DataFrame\n",
    "data = {\n",
    "    'age': [25, 30, None, 40, 35],  # Three missing values\n",
    "    'income': [50000, 60000, 'XXX', 80000, 70000],  # Inconsistent value 'XXX'\n",
    "    'city': ['New York', 'Los Angeles', 'Chicago', 'Houston', 'New York']\n",
    "}\n",
    " \n",
    "df = pd.DataFrame(data)\n",
    " \n",
    "# Add duplicated row\n",
    "duplicate_row = pd.DataFrame({'age': [30, None], 'income': [60000, 'YYY'], 'city': ['Los Angeles', 'Los Angeles']})\n",
    "df = pd.concat([df, duplicate_row], ignore_index=True)\n",
    "\n",
    "'''\n"
   ]
  },
  {
   "cell_type": "code",
   "execution_count": 5,
   "id": "0c84e149-1ef5-4cff-ab63-b9d01c91a9f2",
   "metadata": {},
   "outputs": [
    {
     "name": "stdout",
     "output_type": "stream",
     "text": [
      "    age income         city\n",
      "0  25.0  50000     New York\n",
      "1  30.0  60000  Los Angeles\n",
      "2   NaN    XXX      Chicago\n",
      "3  40.0  80000      Houston\n",
      "4  35.0  70000     New York\n"
     ]
    }
   ],
   "source": [
    "import pandas as pd\n",
    "\n",
    "# Create DataFrame\n",
    "data = {\n",
    "    'age': [25, 30, None, 40, 35],  # Three missing values\n",
    "    'income': [50000, 60000, 'XXX', 80000, 70000],  # Inconsistent value 'XXX'\n",
    "    'city': ['New York', 'Los Angeles', 'Chicago', 'Houston', 'New York']\n",
    "}\n",
    "\n",
    "df = pd.DataFrame(data)\n",
    "print(df)\n",
    "\n"
   ]
  },
  {
   "cell_type": "code",
   "execution_count": 10,
   "id": "e4911322-9788-43bd-ab9f-61c271fd70f4",
   "metadata": {},
   "outputs": [
    {
     "name": "stdout",
     "output_type": "stream",
     "text": [
      "    age income         city\n",
      "0  25.0  50000     New York\n",
      "1  30.0  60000  Los Angeles\n",
      "2   NaN    XXX      Chicago\n",
      "3  40.0  80000      Houston\n",
      "4  35.0  70000     New York\n",
      "5   NaN    YYY  Los Angeles\n",
      "6  30.0  60000  Los Angeles\n",
      "7   NaN    YYY  Los Angeles\n"
     ]
    }
   ],
   "source": [
    "# Add duplicated row\n",
    "duplicate_row = pd.DataFrame({\n",
    "    'age': [30, None], \n",
    "    'income': [60000, 'YYY'], \n",
    "    'city': ['Los Angeles', 'Los Angeles']\n",
    "})\n",
    "df = pd.concat([df, duplicate_row], ignore_index=True)\n",
    "\n",
    "print(df)"
   ]
  },
  {
   "cell_type": "code",
   "execution_count": 9,
   "id": "384142c2-335c-412e-9a3d-b6909339b49c",
   "metadata": {},
   "outputs": [
    {
     "name": "stdout",
     "output_type": "stream",
     "text": [
      "    age income         city\n",
      "0  25.0  50000     New York\n",
      "1  30.0  60000  Los Angeles\n",
      "2   NaN    XXX      Chicago\n",
      "3  40.0  80000      Houston\n",
      "4  35.0  70000     New York\n",
      "5   NaN    YYY  Los Angeles\n"
     ]
    }
   ],
   "source": [
    "# Remove duplicated rows\n",
    "df = df.drop_duplicates()\n",
    "\n",
    "print(df)"
   ]
  }
 ],
 "metadata": {
  "kernelspec": {
   "display_name": "Python 3 (ipykernel)",
   "language": "python",
   "name": "python3"
  },
  "language_info": {
   "codemirror_mode": {
    "name": "ipython",
    "version": 3
   },
   "file_extension": ".py",
   "mimetype": "text/x-python",
   "name": "python",
   "nbconvert_exporter": "python",
   "pygments_lexer": "ipython3",
   "version": "3.12.2"
  }
 },
 "nbformat": 4,
 "nbformat_minor": 5
}
