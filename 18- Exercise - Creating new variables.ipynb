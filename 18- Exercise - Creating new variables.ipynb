{
 "cells": [
  {
   "cell_type": "code",
   "execution_count": null,
   "id": "f03832f5-b208-491f-9c9f-d976059db7dd",
   "metadata": {},
   "outputs": [],
   "source": [
    "'''\n",
    "Creating new variable\n",
    "Write this code first to create a new dataframe:\n",
    "\n",
    "import pandas as pd\n",
    " \n",
    "# Create a new DataFrame with revenue and cost variables\n",
    "data = {\n",
    "    'product_id': [101, 102, 103, 104, 105],\n",
    "    'revenue': [50000, 60000, 55000, 80000, 70000],\n",
    "    'cost': [30000, 35000, 40000, 45000, 40000]\n",
    "}\n",
    " \n",
    "df = pd.DataFrame(data)\n",
    "\n",
    "Then, create a new variable Profit.\n",
    "'''"
   ]
  },
  {
   "cell_type": "code",
   "execution_count": 6,
   "id": "e3ca3fb5-9c36-4e15-b36c-02b03c2b171d",
   "metadata": {},
   "outputs": [
    {
     "name": "stdout",
     "output_type": "stream",
     "text": [
      "\n",
      "DataFrame with Profit Variable:\n",
      "   product_id  revenue   cost  profit\n",
      "0         101    50000  30000   20000\n",
      "1         102    60000  35000   25000\n",
      "2         103    55000  40000   15000\n",
      "3         104    80000  45000   35000\n",
      "4         105    70000  40000   30000\n"
     ]
    }
   ],
   "source": [
    "import pandas as pd\n",
    "\n",
    "# Create a new DataFrame with revenue and cost variables\n",
    "data = {\n",
    "    'product_id': [101, 102, 103, 104, 105],\n",
    "    'revenue': [50000, 60000, 55000, 80000, 70000],\n",
    "    'cost': [30000, 35000, 40000, 45000, 40000]\n",
    "}\n",
    "\n",
    "df = pd.DataFrame(data)\n",
    "\n",
    "# Create a new variable 'Profit' by subtracting 'cost' from 'revenue'\n",
    "df['profit'] = df['revenue'] - df['cost']\n",
    "\n",
    "print(\"\\nDataFrame with Profit Variable:\")\n",
    "print(df)"
   ]
  }
 ],
 "metadata": {
  "kernelspec": {
   "display_name": "Python 3 (ipykernel)",
   "language": "python",
   "name": "python3"
  },
  "language_info": {
   "codemirror_mode": {
    "name": "ipython",
    "version": 3
   },
   "file_extension": ".py",
   "mimetype": "text/x-python",
   "name": "python",
   "nbconvert_exporter": "python",
   "pygments_lexer": "ipython3",
   "version": "3.12.2"
  }
 },
 "nbformat": 4,
 "nbformat_minor": 5
}
