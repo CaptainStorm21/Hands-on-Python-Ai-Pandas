{
 "cells": [
  {
   "cell_type": "code",
   "execution_count": 1,
   "id": "fceccc08-2000-469f-ad8e-4bd85e35e371",
   "metadata": {},
   "outputs": [
    {
     "data": {
      "text/plain": [
       "\"\\nBuild support vector regression model\\nWrite the following code first:\\n\\n\\n\\nimport pandas as pd\\nimport numpy as np\\n \\n# Create a new DataFrame for Linear Regression\\ndata = {\\n    'X': np.random.randint(0, 100, 100),  # Independent variable\\n    'y': np.random.randint(0, 100, 100)   # Dependent variable\\n}\\n \\ndf = pd.DataFrame(data)\\n\\n\\nSplit the data into train and test set.\\n\\nFit a support vector regression ML model.\\n\\nPredict the y_pred based on x_test using the model.\\n\\nCalculate mean squared error.\\n\\n\""
      ]
     },
     "execution_count": 1,
     "metadata": {},
     "output_type": "execute_result"
    }
   ],
   "source": [
    "'''\n",
    "Build support vector regression model\n",
    "Write the following code first:\n",
    "\n",
    "\n",
    "\n",
    "import pandas as pd\n",
    "import numpy as np\n",
    " \n",
    "# Create a new DataFrame for Linear Regression\n",
    "data = {\n",
    "    'X': np.random.randint(0, 100, 100),  # Independent variable\n",
    "    'y': np.random.randint(0, 100, 100)   # Dependent variable\n",
    "}\n",
    " \n",
    "df = pd.DataFrame(data)\n",
    "\n",
    "\n",
    "Split the data into train and test set.\n",
    "\n",
    "Fit a support vector regression ML model.\n",
    "\n",
    "Predict the y_pred based on x_test using the model.\n",
    "\n",
    "Calculate mean squared error.\n",
    "\n",
    "'''"
   ]
  },
  {
   "cell_type": "code",
   "execution_count": null,
   "id": "6a7efd38-eb4b-4f50-8e00-818f1e42fff8",
   "metadata": {},
   "outputs": [],
   "source": [
    "import pandas as pd\n",
    "import numpy as np\n",
    "from sklearn.model_selection import train_test_split\n",
    "from sklearn.svm import SVR\n",
    "from sklearn.metrics import mean_squared_error\n",
    "\n",
    "# Create a new DataFrame for Linear Regression\n",
    "data = {\n",
    "    'X': np.random.randint(0, 100, 100),  # Independent variable\n",
    "    'y': np.random.randint(0, 100, 100)   # Dependent variable\n",
    "}\n",
    "\n",
    "df = pd.DataFrame(data)\n",
    "\n",
    "# Split the data into train and test sets\n",
    "X_train, X_test, y_train, y_test = train_test_split(df['X'].values.reshape(-1, 1), df['y'], test_size=0.2, random_state=42)\n",
    "\n",
    "# Fit a Support Vector Regression model\n",
    "model = SVR()\n",
    "model.fit(X_train, y_train)\n",
    "\n",
    "# Predict y_pred based on x_test\n",
    "y_pred = model.predict(X_test)\n",
    "\n",
    "# Calculate mean squared error\n",
    "mse = mean_squared_error(y_test, y_pred)\n",
    "print(\"Mean Squared Error:\", mse)\n"
   ]
  }
 ],
 "metadata": {
  "kernelspec": {
   "display_name": "Python 3 (ipykernel)",
   "language": "python",
   "name": "python3"
  },
  "language_info": {
   "codemirror_mode": {
    "name": "ipython",
    "version": 3
   },
   "file_extension": ".py",
   "mimetype": "text/x-python",
   "name": "python",
   "nbconvert_exporter": "python",
   "pygments_lexer": "ipython3",
   "version": "3.12.2"
  }
 },
 "nbformat": 4,
 "nbformat_minor": 5
}
