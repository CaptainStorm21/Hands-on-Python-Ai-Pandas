{
 "cells": [
  {
   "cell_type": "code",
   "execution_count": 8,
   "id": "39d8dbbc-27ba-4614-8f2d-341efa00265e",
   "metadata": {},
   "outputs": [
    {
     "data": {
      "text/plain": [
       "\"\\nSplitting datasets\\nWrite the following code first:\\n\\nimport pandas as pd\\nimport numpy as np\\n \\n# Create a new DataFrame with y and x1, x2, x3\\ndata = {\\n    'y': [10, 20, 30, 40, 50],\\n    'x1': [1, 2, 3, 4, 5],\\n    'x2': [2, 4, 6, 8, 10],\\n    'x3': [3, 6, 9, 12, 15]\\n}\\n \\ndf = pd.DataFrame(data)\\n\\nThe, perform train test split with test_size = 0.2\\n\""
      ]
     },
     "execution_count": 8,
     "metadata": {},
     "output_type": "execute_result"
    }
   ],
   "source": [
    "'''\n",
    "Splitting datasets\n",
    "Write the following code first:\n",
    "\n",
    "import pandas as pd\n",
    "import numpy as np\n",
    " \n",
    "# Create a new DataFrame with y and x1, x2, x3\n",
    "data = {\n",
    "    'y': [10, 20, 30, 40, 50],\n",
    "    'x1': [1, 2, 3, 4, 5],\n",
    "    'x2': [2, 4, 6, 8, 10],\n",
    "    'x3': [3, 6, 9, 12, 15]\n",
    "}\n",
    " \n",
    "df = pd.DataFrame(data)\n",
    "\n",
    "The, perform train test split with test_size = 0.2\n",
    "'''"
   ]
  },
  {
   "cell_type": "code",
   "execution_count": 7,
   "id": "e6031b64-0e26-4570-a637-5df102a97375",
   "metadata": {},
   "outputs": [
    {
     "name": "stdout",
     "output_type": "stream",
     "text": [
      "   x1  x2  x3\n",
      "4   5  10  15\n",
      "2   3   6   9\n",
      "0   1   2   3\n",
      "3   4   8  12\n",
      "   x1  x2  x3\n",
      "1   2   4   6\n",
      "4    50\n",
      "2    30\n",
      "0    10\n",
      "3    40\n",
      "Name: y, dtype: int64\n",
      "1    20\n",
      "Name: y, dtype: int64\n"
     ]
    }
   ],
   "source": [
    "import pandas as pd\n",
    "import numpy as np\n",
    "from sklearn.model_selection import train_test_split\n",
    "\n",
    "data = {\n",
    "    'y': [10, 20, 30, 40, 50],\n",
    "    'x1': [1, 2, 3, 4, 5],\n",
    "    'x2': [2, 4, 6, 8, 10],\n",
    "    'x3': [3, 6, 9, 12, 15]\n",
    "}\n",
    " \n",
    "df = pd.DataFrame(data)\n",
    "\n",
    "# Define the features (x) and the target variable (y)\n",
    "X = df[['x1', 'x2', 'x3']]\n",
    "y = df['y']\n",
    "\n",
    "X_train, X_test, y_train, y_test = train_test_split(X, y, test_size=0.2, random_state=42)\n",
    "\n",
    "print(X_train)\n",
    "print(X_test )\n",
    "print(y_train)\n",
    "print(y_test)"
   ]
  },
  {
   "cell_type": "code",
   "execution_count": null,
   "id": "717371cb-eeee-45b3-ac1a-d391f067503f",
   "metadata": {},
   "outputs": [],
   "source": []
  },
  {
   "cell_type": "code",
   "execution_count": null,
   "id": "cfe95635-bc3b-4817-a9e2-17ab3abed533",
   "metadata": {},
   "outputs": [],
   "source": []
  }
 ],
 "metadata": {
  "kernelspec": {
   "display_name": "Python 3 (ipykernel)",
   "language": "python",
   "name": "python3"
  },
  "language_info": {
   "codemirror_mode": {
    "name": "ipython",
    "version": 3
   },
   "file_extension": ".py",
   "mimetype": "text/x-python",
   "name": "python",
   "nbconvert_exporter": "python",
   "pygments_lexer": "ipython3",
   "version": "3.12.2"
  }
 },
 "nbformat": 4,
 "nbformat_minor": 5
}
