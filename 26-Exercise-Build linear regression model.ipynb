{
 "cells": [
  {
   "cell_type": "code",
   "execution_count": 1,
   "id": "e53c423b-0fe8-47d5-9bbc-2f0b83d664c6",
   "metadata": {},
   "outputs": [
    {
     "data": {
      "text/plain": [
       "\"\\nimport pandas as pd\\nimport numpy as np\\n \\n# Create a new DataFrame for Linear Regression\\ndata = {\\n    'X': np.random.randint(0, 100, 100),  # Independent variable\\n    'y': np.random.randint(0, 100, 100)   # Dependent variable\\n}\\n \\ndf = pd.DataFrame(data)\\n\\n\\nSplit the data into train and test set.\\n\\nFit a linear regression ML model.\\n\\nPredict the y_pred based on x_test using the model.\\n\\nCalculate mean squared error.\\n\""
      ]
     },
     "execution_count": 1,
     "metadata": {},
     "output_type": "execute_result"
    }
   ],
   "source": [
    "'''\n",
    "import pandas as pd\n",
    "import numpy as np\n",
    " \n",
    "# Create a new DataFrame for Linear Regression\n",
    "data = {\n",
    "    'X': np.random.randint(0, 100, 100),  # Independent variable\n",
    "    'y': np.random.randint(0, 100, 100)   # Dependent variable\n",
    "}\n",
    " \n",
    "df = pd.DataFrame(data)\n",
    "\n",
    "\n",
    "Split the data into train and test set.\n",
    "\n",
    "Fit a linear regression ML model.\n",
    "\n",
    "Predict the y_pred based on x_test using the model.\n",
    "\n",
    "Calculate mean squared error.\n",
    "'''"
   ]
  },
  {
   "cell_type": "code",
   "execution_count": null,
   "id": "aa54e707-562e-455f-81a8-eb2f5b010b67",
   "metadata": {},
   "outputs": [],
   "source": [
    "import pandas as pd\n",
    "import numpy as np\n",
    "from sklearn.model_selection import train_test_split\n",
    "from sklearn.linear_model import LinearRegression\n",
    "from sklearn.metrics import mean_squared_error\n",
    "\n",
    "# Create a new DataFrame for Linear Regression\n",
    "data = {\n",
    "    'X': np.random.randint(0, 100, 100),  # Independent variable\n",
    "    'y': np.random.randint(0, 100, 100)   # Dependent variable\n",
    "}\n",
    "\n",
    "df = pd.DataFrame(data)\n",
    "\n",
    "# Split the data into train and test set\n",
    "X_train, X_test, y_train, y_test = train_test_split(df[['X']], df['y'], test_size=0.2, random_state=42)\n",
    "\n",
    "# Fit a linear regression ML model\n",
    "model = LinearRegression()\n",
    "model.fit(X_train, y_train)\n",
    "\n",
    "# Predict the y_pred based on x_test using the model\n",
    "y_pred = model.predict(X_test)\n",
    "\n",
    "# Calculate mean squared error\n",
    "mse = mean_squared_error(y_test, y_pred)\n",
    "print(\"Mean Squared Error:\", mse)\n"
   ]
  }
 ],
 "metadata": {
  "kernelspec": {
   "display_name": "Python 3 (ipykernel)",
   "language": "python",
   "name": "python3"
  },
  "language_info": {
   "codemirror_mode": {
    "name": "ipython",
    "version": 3
   },
   "file_extension": ".py",
   "mimetype": "text/x-python",
   "name": "python",
   "nbconvert_exporter": "python",
   "pygments_lexer": "ipython3",
   "version": "3.12.2"
  }
 },
 "nbformat": 4,
 "nbformat_minor": 5
}
