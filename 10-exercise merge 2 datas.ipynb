{
 "cells": [
  {
   "cell_type": "code",
   "execution_count": null,
   "id": "869686a8-10a8-4ef4-ad92-c1f9fb400da4",
   "metadata": {},
   "outputs": [],
   "source": [
    "'''\n",
    "Merging dataframes\n",
    "Write this dataframe first:\n",
    "\n",
    "import pandas as pd\n",
    " \n",
    "# Create DataFrame df1\n",
    "data1 = {\n",
    "    'age': [25, 30, 35, 40, 45],  \n",
    "    'income': [50000, 60000, 55000, 80000, 70000],  \n",
    "    'city': ['New York', 'Los Angeles', 'Chicago', 'Houston', 'Miami'],\n",
    "    'gender': ['Male', 'Female', 'Male', 'Female', 'Male']\n",
    "}\n",
    " \n",
    "df1 = pd.DataFrame(data1)\n",
    "Then, write this dataframe:\n",
    "\n",
    "# Create DataFrame df2\n",
    "data2 = {\n",
    "    'age': [28, 32, 37, 42, 47],  \n",
    "    'income': [55000, 62000, 58000, 85000, 72000],  \n",
    "    'city': ['San Francisco', 'Seattle', 'Austin', 'Denver', 'Boston'],\n",
    "    'gender': ['Female', 'Male', 'Female', 'Male', 'Female']\n",
    "}\n",
    " \n",
    "df2 = pd.DataFrame(data2)\n",
    "Finally, merge the dataframes.\n",
    "'''"
   ]
  },
  {
   "cell_type": "code",
   "execution_count": null,
   "id": "e9e1a6ca-dfad-4a24-a5e7-944ae50b759a",
   "metadata": {},
   "outputs": [],
   "source": [
    "import pandas as pd\n",
    " \n",
    "# Create DataFrame df1\n",
    "data1 = {\n",
    "    'age': [25, 30, 35, 40, 45],  \n",
    "    'income': [50000, 60000, 55000, 80000, 70000],  \n",
    "    'city': ['New York', 'Los Angeles', 'Chicago', 'Houston', 'Miami'],\n",
    "    'gender': ['Male', 'Female', 'Male', 'Female', 'Male']\n",
    "}\n",
    " \n",
    "df1 = pd.DataFrame(data1)\n",
    "\n",
    "# Create DataFrame df2\n",
    "data2 = {\n",
    "    'age': [28, 32, 37, 42, 47],  \n",
    "    'income': [55000, 62000, 58000, 85000, 72000],  \n",
    "    'city': ['San Francisco', 'Seattle', 'Austin', 'Denver', 'Boston'],\n",
    "    'gender': ['Female', 'Male', 'Female', 'Male', 'Female']\n",
    "}\n",
    " \n",
    "df2 = pd.DataFrame(data2)\n",
    "\n",
    "# Merge the dataframes\n",
    "merged_df = pd.concat([df1, df2], ignore_index=True)\n",
    "\n",
    "# Display the merged dataframe\n",
    "print(merged_df)"
   ]
  }
 ],
 "metadata": {
  "kernelspec": {
   "display_name": "Python 3 (ipykernel)",
   "language": "python",
   "name": "python3"
  },
  "language_info": {
   "codemirror_mode": {
    "name": "ipython",
    "version": 3
   },
   "file_extension": ".py",
   "mimetype": "text/x-python",
   "name": "python",
   "nbconvert_exporter": "python",
   "pygments_lexer": "ipython3",
   "version": "3.12.2"
  }
 },
 "nbformat": 4,
 "nbformat_minor": 5
}
