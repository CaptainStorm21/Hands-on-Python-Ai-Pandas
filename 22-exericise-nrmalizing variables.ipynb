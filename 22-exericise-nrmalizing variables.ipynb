{
 "cells": [
  {
   "cell_type": "code",
   "execution_count": null,
   "id": "e388c403-4122-4469-b3ac-04951d8174ca",
   "metadata": {},
   "outputs": [],
   "source": [
    "'''\n",
    "Normalizing variables\n",
    "Write the following code first:\n",
    "\n",
    "import pandas as pd\n",
    " \n",
    "# Create a new DataFrame with numeric variables\n",
    "data = {\n",
    "    'age': [30, 35, 28, 42, 45],\n",
    "    'income': [60000, 75000, 50000, 80000, 70000],\n",
    "    'height': [165, 170, 160, 175, 180]\n",
    "}\n",
    " \n",
    "df = pd.DataFrame(data)\n",
    "\n",
    "Then scale all the numeric variables with StandardScaler. Transform the scaled variables in a new dataframe df_scaled.\n",
    "'''"
   ]
  },
  {
   "cell_type": "code",
   "execution_count": 2,
   "id": "34ffbea3-2c22-4537-89cc-dda51561db7e",
   "metadata": {},
   "outputs": [
    {
     "name": "stdout",
     "output_type": "stream",
     "text": [
      "        age    income    height\n",
      "0 -0.908674 -0.649934 -0.707107\n",
      "1 -0.151446  0.742781  0.000000\n",
      "2 -1.211565 -1.578410 -1.414214\n",
      "3  0.908674  1.207020  0.707107\n",
      "4  1.363011  0.278543  1.414214\n"
     ]
    }
   ],
   "source": [
    "import pandas as pd\n",
    "from sklearn.preprocessing import StandardScaler\n",
    " \n",
    "# Create a new DataFrame with numeric variables\n",
    "data = {\n",
    "    'age': [30, 35, 28, 42, 45],\n",
    "    'income': [60000, 75000, 50000, 80000, 70000],\n",
    "    'height': [165, 170, 160, 175, 180]\n",
    "}\n",
    " \n",
    "df = pd.DataFrame(data)\n",
    "\n",
    "# Initialize StandardScaler\n",
    "scaler = StandardScaler()\n",
    "\n",
    "# Fit and transform the DataFrame\n",
    "scaled_data = scaler.fit_transform(df)\n",
    "\n",
    "# Convert the scaled array to a DataFrame\n",
    "df_scaled = pd.DataFrame(scaled_data, columns=df.columns)\n",
    "\n",
    "print(df_scaled)"
   ]
  },
  {
   "cell_type": "code",
   "execution_count": null,
   "id": "0709c271-833d-4a5a-8ba8-ae2b4baf90a0",
   "metadata": {},
   "outputs": [],
   "source": []
  }
 ],
 "metadata": {
  "kernelspec": {
   "display_name": "Python 3 (ipykernel)",
   "language": "python",
   "name": "python3"
  },
  "language_info": {
   "codemirror_mode": {
    "name": "ipython",
    "version": 3
   },
   "file_extension": ".py",
   "mimetype": "text/x-python",
   "name": "python",
   "nbconvert_exporter": "python",
   "pygments_lexer": "ipython3",
   "version": "3.12.2"
  }
 },
 "nbformat": 4,
 "nbformat_minor": 5
}
