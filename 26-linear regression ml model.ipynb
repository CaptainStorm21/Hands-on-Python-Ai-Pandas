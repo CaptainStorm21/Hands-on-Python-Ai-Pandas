{
 "cells": [
  {
   "cell_type": "code",
   "execution_count": 13,
   "id": "f8f10f82-ce6b-43a9-b6b4-e1c5850893ea",
   "metadata": {},
   "outputs": [
    {
     "data": {
      "text/html": [
       "<div>\n",
       "<style scoped>\n",
       "    .dataframe tbody tr th:only-of-type {\n",
       "        vertical-align: middle;\n",
       "    }\n",
       "\n",
       "    .dataframe tbody tr th {\n",
       "        vertical-align: top;\n",
       "    }\n",
       "\n",
       "    .dataframe thead th {\n",
       "        text-align: right;\n",
       "    }\n",
       "</style>\n",
       "<table border=\"1\" class=\"dataframe\">\n",
       "  <thead>\n",
       "    <tr style=\"text-align: right;\">\n",
       "      <th></th>\n",
       "      <th>country</th>\n",
       "      <th>order_value_EUR</th>\n",
       "      <th>cost</th>\n",
       "      <th>date</th>\n",
       "      <th>category</th>\n",
       "      <th>customer_name</th>\n",
       "      <th>sales_manager</th>\n",
       "      <th>sales_rep</th>\n",
       "      <th>device_type</th>\n",
       "      <th>order_id</th>\n",
       "    </tr>\n",
       "  </thead>\n",
       "  <tbody>\n",
       "    <tr>\n",
       "      <th>0</th>\n",
       "      <td>Sweden</td>\n",
       "      <td>98320.37</td>\n",
       "      <td>77722.25</td>\n",
       "      <td>8/23/2020</td>\n",
       "      <td>Games</td>\n",
       "      <td>Konopelski LLC</td>\n",
       "      <td>Maxie Marrow</td>\n",
       "      <td>Tarrah Castelletti</td>\n",
       "      <td>Tablet</td>\n",
       "      <td>70-0511466</td>\n",
       "    </tr>\n",
       "    <tr>\n",
       "      <th>1</th>\n",
       "      <td>France</td>\n",
       "      <td>46296.26</td>\n",
       "      <td>40319.41</td>\n",
       "      <td>5/15/2020</td>\n",
       "      <td>Games</td>\n",
       "      <td>Wisoky Inc</td>\n",
       "      <td>Othello Bowes</td>\n",
       "      <td>Amelina Piscopiello</td>\n",
       "      <td>Tablet</td>\n",
       "      <td>77-3489084</td>\n",
       "    </tr>\n",
       "    <tr>\n",
       "      <th>2</th>\n",
       "      <td>Portugal</td>\n",
       "      <td>140337.34</td>\n",
       "      <td>115708.14</td>\n",
       "      <td>2020-04-09 00:00:00</td>\n",
       "      <td>Appliances</td>\n",
       "      <td>Hegmann Group</td>\n",
       "      <td>Celine Tumasian</td>\n",
       "      <td>Corene Shirer</td>\n",
       "      <td>PC</td>\n",
       "      <td>65-8218141</td>\n",
       "    </tr>\n",
       "    <tr>\n",
       "      <th>3</th>\n",
       "      <td>France</td>\n",
       "      <td>203604.46</td>\n",
       "      <td>175344.16</td>\n",
       "      <td>6/26/2019</td>\n",
       "      <td>Electronics</td>\n",
       "      <td>Kirlin and Sons</td>\n",
       "      <td>Othello Bowes</td>\n",
       "      <td>Crysta Halls</td>\n",
       "      <td>Mobile</td>\n",
       "      <td>29-5478106</td>\n",
       "    </tr>\n",
       "    <tr>\n",
       "      <th>4</th>\n",
       "      <td>UK</td>\n",
       "      <td>63979.04</td>\n",
       "      <td>56032.84</td>\n",
       "      <td>10/22/2019</td>\n",
       "      <td>Games</td>\n",
       "      <td>Schoen-Keeling</td>\n",
       "      <td>Jessamine Apark</td>\n",
       "      <td>Genevra Charrisson</td>\n",
       "      <td>PC</td>\n",
       "      <td>27-3437546</td>\n",
       "    </tr>\n",
       "  </tbody>\n",
       "</table>\n",
       "</div>"
      ],
      "text/plain": [
       "    country  order_value_EUR       cost                 date     category  \\\n",
       "0    Sweden         98320.37   77722.25            8/23/2020        Games   \n",
       "1    France         46296.26   40319.41            5/15/2020        Games   \n",
       "2  Portugal        140337.34  115708.14  2020-04-09 00:00:00   Appliances   \n",
       "3    France        203604.46  175344.16            6/26/2019  Electronics   \n",
       "4        UK         63979.04   56032.84           10/22/2019        Games   \n",
       "\n",
       "     customer_name    sales_manager            sales_rep device_type  \\\n",
       "0   Konopelski LLC     Maxie Marrow   Tarrah Castelletti      Tablet   \n",
       "1       Wisoky Inc    Othello Bowes  Amelina Piscopiello      Tablet   \n",
       "2    Hegmann Group  Celine Tumasian        Corene Shirer          PC   \n",
       "3  Kirlin and Sons    Othello Bowes         Crysta Halls      Mobile   \n",
       "4   Schoen-Keeling  Jessamine Apark   Genevra Charrisson          PC   \n",
       "\n",
       "     order_id  \n",
       "0  70-0511466  \n",
       "1  77-3489084  \n",
       "2  65-8218141  \n",
       "3  29-5478106  \n",
       "4  27-3437546  "
      ]
     },
     "execution_count": 13,
     "metadata": {},
     "output_type": "execute_result"
    }
   ],
   "source": [
    "import pandas as pd\n",
    "from sklearn.preprocessing import StandardScaler\n",
    "\n",
    "# Replace 'your_file.xlsx' with the path to your Excel file\n",
    "sales_data = 'sales data.xlsx'\n",
    "\n",
    "# Read the Excel file into a pandas DataFrame\n",
    "final_df = pd.read_excel(sales_data)\n",
    "\n",
    "# Now you can work with the DataFrame 'df'\n",
    "final_df.head()  # Display the first few rows of the DataFrame\n",
    "\n"
   ]
  },
  {
   "cell_type": "code",
   "execution_count": 14,
   "id": "894b6246-c79f-46f4-a656-d944bc19843f",
   "metadata": {},
   "outputs": [],
   "source": [
    "# Create a pivot table with median sales, median cost, and purchase frequency by customers\n",
    "pivot_table = final_df.pivot_table(\n",
    "                              index='customer_name', \n",
    "                              values=['order_value_EUR', 'cost'], \n",
    "                              aggfunc={'order_value_EUR': 'median', 'cost': 'median', 'customer_name': 'count'})\n",
    "\n",
    "# Rename the 'Customer' column to 'Purchase Frequency'\n",
    "pivot_table.columns=['Median Cost', 'Purchase Frequency', 'Median Cost']\n"
   ]
  },
  {
   "cell_type": "code",
   "execution_count": 15,
   "id": "dcb4e909-a4e2-4fb1-a463-e3008f6a4b64",
   "metadata": {},
   "outputs": [
    {
     "name": "stdout",
     "output_type": "stream",
     "text": [
      "                    Median Cost  Purchase Frequency   Median Cost\n",
      "customer_name                                                    \n",
      "Hegmann Group         115708.14                   1  1.403373e+05\n",
      "Kirlin and Sons       249788.24                   2  5.009896e+07\n",
      "Konopelski LLC         77722.25                   1  9.832037e+04\n",
      "Labadie and Sons      110924.13                   1  1.270754e+05\n",
      "Romaguera-Dietrich     55529.13                   3  6.968143e+04\n",
      "Schoen-Keeling         56032.84                   1  6.397904e+04\n",
      "Wisoky Inc             40319.41                   1  4.629626e+04\n"
     ]
    }
   ],
   "source": [
    "# Print the pivot table\n",
    "print(pivot_table)"
   ]
  },
  {
   "cell_type": "code",
   "execution_count": 16,
   "id": "c0009dbe-05f0-4fdf-aea4-9759af6c9f1f",
   "metadata": {},
   "outputs": [],
   "source": [
    "sorted_pivot_table = pivot_table.sort_values(by = 'Purchase Frequency', ascending=False)"
   ]
  },
  {
   "cell_type": "code",
   "execution_count": 17,
   "id": "a0b160f1-f622-420a-ac43-102e95fbdfa6",
   "metadata": {},
   "outputs": [
    {
     "data": {
      "text/html": [
       "<div>\n",
       "<style scoped>\n",
       "    .dataframe tbody tr th:only-of-type {\n",
       "        vertical-align: middle;\n",
       "    }\n",
       "\n",
       "    .dataframe tbody tr th {\n",
       "        vertical-align: top;\n",
       "    }\n",
       "\n",
       "    .dataframe thead th {\n",
       "        text-align: right;\n",
       "    }\n",
       "</style>\n",
       "<table border=\"1\" class=\"dataframe\">\n",
       "  <thead>\n",
       "    <tr style=\"text-align: right;\">\n",
       "      <th></th>\n",
       "      <th>Median Cost</th>\n",
       "      <th>Purchase Frequency</th>\n",
       "      <th>Median Cost</th>\n",
       "    </tr>\n",
       "    <tr>\n",
       "      <th>customer_name</th>\n",
       "      <th></th>\n",
       "      <th></th>\n",
       "      <th></th>\n",
       "    </tr>\n",
       "  </thead>\n",
       "  <tbody>\n",
       "    <tr>\n",
       "      <th>Romaguera-Dietrich</th>\n",
       "      <td>55529.13</td>\n",
       "      <td>3</td>\n",
       "      <td>6.968143e+04</td>\n",
       "    </tr>\n",
       "    <tr>\n",
       "      <th>Kirlin and Sons</th>\n",
       "      <td>249788.24</td>\n",
       "      <td>2</td>\n",
       "      <td>5.009896e+07</td>\n",
       "    </tr>\n",
       "    <tr>\n",
       "      <th>Hegmann Group</th>\n",
       "      <td>115708.14</td>\n",
       "      <td>1</td>\n",
       "      <td>1.403373e+05</td>\n",
       "    </tr>\n",
       "    <tr>\n",
       "      <th>Konopelski LLC</th>\n",
       "      <td>77722.25</td>\n",
       "      <td>1</td>\n",
       "      <td>9.832037e+04</td>\n",
       "    </tr>\n",
       "    <tr>\n",
       "      <th>Labadie and Sons</th>\n",
       "      <td>110924.13</td>\n",
       "      <td>1</td>\n",
       "      <td>1.270754e+05</td>\n",
       "    </tr>\n",
       "    <tr>\n",
       "      <th>Schoen-Keeling</th>\n",
       "      <td>56032.84</td>\n",
       "      <td>1</td>\n",
       "      <td>6.397904e+04</td>\n",
       "    </tr>\n",
       "    <tr>\n",
       "      <th>Wisoky Inc</th>\n",
       "      <td>40319.41</td>\n",
       "      <td>1</td>\n",
       "      <td>4.629626e+04</td>\n",
       "    </tr>\n",
       "  </tbody>\n",
       "</table>\n",
       "</div>"
      ],
      "text/plain": [
       "                    Median Cost  Purchase Frequency   Median Cost\n",
       "customer_name                                                    \n",
       "Romaguera-Dietrich     55529.13                   3  6.968143e+04\n",
       "Kirlin and Sons       249788.24                   2  5.009896e+07\n",
       "Hegmann Group         115708.14                   1  1.403373e+05\n",
       "Konopelski LLC         77722.25                   1  9.832037e+04\n",
       "Labadie and Sons      110924.13                   1  1.270754e+05\n",
       "Schoen-Keeling         56032.84                   1  6.397904e+04\n",
       "Wisoky Inc             40319.41                   1  4.629626e+04"
      ]
     },
     "execution_count": 17,
     "metadata": {},
     "output_type": "execute_result"
    }
   ],
   "source": [
    "sorted_pivot_table"
   ]
  },
  {
   "cell_type": "code",
   "execution_count": 18,
   "id": "90850a50-0988-4d0b-8fb0-3e5def30a604",
   "metadata": {},
   "outputs": [
    {
     "data": {
      "text/html": [
       "<div>\n",
       "<style scoped>\n",
       "    .dataframe tbody tr th:only-of-type {\n",
       "        vertical-align: middle;\n",
       "    }\n",
       "\n",
       "    .dataframe tbody tr th {\n",
       "        vertical-align: top;\n",
       "    }\n",
       "\n",
       "    .dataframe thead th {\n",
       "        text-align: right;\n",
       "    }\n",
       "</style>\n",
       "<table border=\"1\" class=\"dataframe\">\n",
       "  <thead>\n",
       "    <tr style=\"text-align: right;\">\n",
       "      <th></th>\n",
       "      <th>Median Cost</th>\n",
       "      <th>Purchase Frequency</th>\n",
       "      <th>Median Cost</th>\n",
       "    </tr>\n",
       "    <tr>\n",
       "      <th>customer_name</th>\n",
       "      <th></th>\n",
       "      <th></th>\n",
       "      <th></th>\n",
       "    </tr>\n",
       "  </thead>\n",
       "  <tbody>\n",
       "    <tr>\n",
       "      <th>Romaguera-Dietrich</th>\n",
       "      <td>55529.13</td>\n",
       "      <td>3</td>\n",
       "      <td>6.968143e+04</td>\n",
       "    </tr>\n",
       "    <tr>\n",
       "      <th>Kirlin and Sons</th>\n",
       "      <td>249788.24</td>\n",
       "      <td>2</td>\n",
       "      <td>5.009896e+07</td>\n",
       "    </tr>\n",
       "    <tr>\n",
       "      <th>Hegmann Group</th>\n",
       "      <td>115708.14</td>\n",
       "      <td>1</td>\n",
       "      <td>1.403373e+05</td>\n",
       "    </tr>\n",
       "    <tr>\n",
       "      <th>Konopelski LLC</th>\n",
       "      <td>77722.25</td>\n",
       "      <td>1</td>\n",
       "      <td>9.832037e+04</td>\n",
       "    </tr>\n",
       "  </tbody>\n",
       "</table>\n",
       "</div>"
      ],
      "text/plain": [
       "                    Median Cost  Purchase Frequency   Median Cost\n",
       "customer_name                                                    \n",
       "Romaguera-Dietrich     55529.13                   3  6.968143e+04\n",
       "Kirlin and Sons       249788.24                   2  5.009896e+07\n",
       "Hegmann Group         115708.14                   1  1.403373e+05\n",
       "Konopelski LLC         77722.25                   1  9.832037e+04"
      ]
     },
     "execution_count": 18,
     "metadata": {},
     "output_type": "execute_result"
    }
   ],
   "source": [
    "# sort by range\n",
    "top_4 = sorted_pivot_table[0:4]\n",
    "top_4"
   ]
  },
  {
   "cell_type": "code",
   "execution_count": 19,
   "id": "a5e3c43b-57cf-43cd-a068-baeeb5b56948",
   "metadata": {},
   "outputs": [
    {
     "data": {
      "text/plain": [
       "Index(['Romaguera-Dietrich', 'Kirlin and Sons', 'Hegmann Group',\n",
       "       'Konopelski LLC'],\n",
       "      dtype='object', name='customer_name')"
      ]
     },
     "execution_count": 19,
     "metadata": {},
     "output_type": "execute_result"
    }
   ],
   "source": [
    "top_4.index"
   ]
  },
  {
   "cell_type": "code",
   "execution_count": 20,
   "id": "1210677d-9649-41b2-a401-eeddd361b3b2",
   "metadata": {},
   "outputs": [],
   "source": [
    "\n",
    "# List of special customer names\n",
    "loyal_customer_names = ['Romaguera-Dietrich', 'Kirlin and Sons', 'Hegmann Group', 'Konopelski LLC']\n",
    "\n",
    "# Function to assign customer type\n",
    "def customer_type(name):\n",
    "    if name in loyal_customer_names:\n",
    "        return 'Loyal customer'\n",
    "    else:\n",
    "        return 'Regular customer'\n",
    "\n",
    "# Assigning new variable 'customer_type'\n",
    "final_df['customer_type'] = final_df['customer_name'].apply(customer_type)"
   ]
  },
  {
   "cell_type": "code",
   "execution_count": 21,
   "id": "06ceac12-3834-4f9a-9dda-d55bd7eb76d5",
   "metadata": {},
   "outputs": [
    {
     "data": {
      "text/html": [
       "<div>\n",
       "<style scoped>\n",
       "    .dataframe tbody tr th:only-of-type {\n",
       "        vertical-align: middle;\n",
       "    }\n",
       "\n",
       "    .dataframe tbody tr th {\n",
       "        vertical-align: top;\n",
       "    }\n",
       "\n",
       "    .dataframe thead th {\n",
       "        text-align: right;\n",
       "    }\n",
       "</style>\n",
       "<table border=\"1\" class=\"dataframe\">\n",
       "  <thead>\n",
       "    <tr style=\"text-align: right;\">\n",
       "      <th></th>\n",
       "      <th>country</th>\n",
       "      <th>order_value_EUR</th>\n",
       "      <th>cost</th>\n",
       "      <th>date</th>\n",
       "      <th>category</th>\n",
       "      <th>customer_name</th>\n",
       "      <th>sales_manager</th>\n",
       "      <th>sales_rep</th>\n",
       "      <th>device_type</th>\n",
       "      <th>order_id</th>\n",
       "      <th>customer_type</th>\n",
       "    </tr>\n",
       "  </thead>\n",
       "  <tbody>\n",
       "    <tr>\n",
       "      <th>0</th>\n",
       "      <td>Sweden</td>\n",
       "      <td>98320.37</td>\n",
       "      <td>77722.25</td>\n",
       "      <td>8/23/2020</td>\n",
       "      <td>Games</td>\n",
       "      <td>Konopelski LLC</td>\n",
       "      <td>Maxie Marrow</td>\n",
       "      <td>Tarrah Castelletti</td>\n",
       "      <td>Tablet</td>\n",
       "      <td>70-0511466</td>\n",
       "      <td>Loyal customer</td>\n",
       "    </tr>\n",
       "    <tr>\n",
       "      <th>1</th>\n",
       "      <td>France</td>\n",
       "      <td>46296.26</td>\n",
       "      <td>40319.41</td>\n",
       "      <td>5/15/2020</td>\n",
       "      <td>Games</td>\n",
       "      <td>Wisoky Inc</td>\n",
       "      <td>Othello Bowes</td>\n",
       "      <td>Amelina Piscopiello</td>\n",
       "      <td>Tablet</td>\n",
       "      <td>77-3489084</td>\n",
       "      <td>Regular customer</td>\n",
       "    </tr>\n",
       "    <tr>\n",
       "      <th>2</th>\n",
       "      <td>Portugal</td>\n",
       "      <td>140337.34</td>\n",
       "      <td>115708.14</td>\n",
       "      <td>2020-04-09 00:00:00</td>\n",
       "      <td>Appliances</td>\n",
       "      <td>Hegmann Group</td>\n",
       "      <td>Celine Tumasian</td>\n",
       "      <td>Corene Shirer</td>\n",
       "      <td>PC</td>\n",
       "      <td>65-8218141</td>\n",
       "      <td>Loyal customer</td>\n",
       "    </tr>\n",
       "    <tr>\n",
       "      <th>3</th>\n",
       "      <td>France</td>\n",
       "      <td>203604.46</td>\n",
       "      <td>175344.16</td>\n",
       "      <td>6/26/2019</td>\n",
       "      <td>Electronics</td>\n",
       "      <td>Kirlin and Sons</td>\n",
       "      <td>Othello Bowes</td>\n",
       "      <td>Crysta Halls</td>\n",
       "      <td>Mobile</td>\n",
       "      <td>29-5478106</td>\n",
       "      <td>Loyal customer</td>\n",
       "    </tr>\n",
       "    <tr>\n",
       "      <th>4</th>\n",
       "      <td>UK</td>\n",
       "      <td>63979.04</td>\n",
       "      <td>56032.84</td>\n",
       "      <td>10/22/2019</td>\n",
       "      <td>Games</td>\n",
       "      <td>Schoen-Keeling</td>\n",
       "      <td>Jessamine Apark</td>\n",
       "      <td>Genevra Charrisson</td>\n",
       "      <td>PC</td>\n",
       "      <td>27-3437546</td>\n",
       "      <td>Regular customer</td>\n",
       "    </tr>\n",
       "  </tbody>\n",
       "</table>\n",
       "</div>"
      ],
      "text/plain": [
       "    country  order_value_EUR       cost                 date     category  \\\n",
       "0    Sweden         98320.37   77722.25            8/23/2020        Games   \n",
       "1    France         46296.26   40319.41            5/15/2020        Games   \n",
       "2  Portugal        140337.34  115708.14  2020-04-09 00:00:00   Appliances   \n",
       "3    France        203604.46  175344.16            6/26/2019  Electronics   \n",
       "4        UK         63979.04   56032.84           10/22/2019        Games   \n",
       "\n",
       "     customer_name    sales_manager            sales_rep device_type  \\\n",
       "0   Konopelski LLC     Maxie Marrow   Tarrah Castelletti      Tablet   \n",
       "1       Wisoky Inc    Othello Bowes  Amelina Piscopiello      Tablet   \n",
       "2    Hegmann Group  Celine Tumasian        Corene Shirer          PC   \n",
       "3  Kirlin and Sons    Othello Bowes         Crysta Halls      Mobile   \n",
       "4   Schoen-Keeling  Jessamine Apark   Genevra Charrisson          PC   \n",
       "\n",
       "     order_id     customer_type  \n",
       "0  70-0511466    Loyal customer  \n",
       "1  77-3489084  Regular customer  \n",
       "2  65-8218141    Loyal customer  \n",
       "3  29-5478106    Loyal customer  \n",
       "4  27-3437546  Regular customer  "
      ]
     },
     "execution_count": 21,
     "metadata": {},
     "output_type": "execute_result"
    }
   ],
   "source": [
    "final_df.head()"
   ]
  },
  {
   "cell_type": "code",
   "execution_count": 22,
   "id": "9046f751-d876-4f33-8827-2c3d1531e4c6",
   "metadata": {},
   "outputs": [
    {
     "data": {
      "text/plain": [
       "customer_type\n",
       "Loyal customer      7\n",
       "Regular customer    3\n",
       "Name: count, dtype: int64"
      ]
     },
     "execution_count": 22,
     "metadata": {},
     "output_type": "execute_result"
    }
   ],
   "source": [
    "final_df['customer_type'].value_counts()"
   ]
  },
  {
   "cell_type": "code",
   "execution_count": 23,
   "id": "7cc280f6-6ff0-41b2-861d-cda632b0ebca",
   "metadata": {},
   "outputs": [],
   "source": [
    "# Give me a python code to extract day, month and a year form date variable in a dataframe"
   ]
  },
  {
   "cell_type": "raw",
   "id": "67887405-221f-4f7d-87c1-8c0151a0ff33",
   "metadata": {},
   "source": [
    "# Convert 'date' column to datetime type\n",
    "final_df['date'] = pd.to_datetime(final_df['date'])\n",
    "\n",
    "# Extract day, month, and year\n",
    "final_df['day'] = final_df['date'].dt.day\n",
    "final_df['month'] = final_df['date'].dt.month\n",
    "final_df['year'] = final_df['date'].dt.year\n",
    "\n",
    "final_df.head()\n",
    "final_df['year'].value_counts()"
   ]
  },
  {
   "cell_type": "code",
   "execution_count": 24,
   "id": "5eec806a-ab8c-47c5-8f4c-7c2f6108a7fb",
   "metadata": {},
   "outputs": [],
   "source": [
    "# Give me a python code to assign 1 for \"loyal customer\" and 0 for \"regular customer\" in a variable CustomerType in a dataframe"
   ]
  },
  {
   "cell_type": "code",
   "execution_count": 25,
   "id": "3a9452f8-c394-4428-bb87-7a9b21bc0e31",
   "metadata": {},
   "outputs": [
    {
     "name": "stderr",
     "output_type": "stream",
     "text": [
      "C:\\Users\\Gennie\\AppData\\Local\\Temp\\ipykernel_2600\\57327186.py:1: FutureWarning: Downcasting behavior in `replace` is deprecated and will be removed in a future version. To retain the old behavior, explicitly call `result.infer_objects(copy=False)`. To opt-in to the future behavior, set `pd.set_option('future.no_silent_downcasting', True)`\n",
      "  final_df['Customer_Type_encoded'] = final_df['customer_type'].replace({'Loyal customer': 1, 'Regular customer': 0})\n"
     ]
    }
   ],
   "source": [
    "final_df['Customer_Type_encoded'] = final_df['customer_type'].replace({'Loyal customer': 1, 'Regular customer': 0})"
   ]
  },
  {
   "cell_type": "code",
   "execution_count": 26,
   "id": "376e1e88-f203-47f0-97c3-0f2cf798d954",
   "metadata": {},
   "outputs": [
    {
     "data": {
      "text/html": [
       "<div>\n",
       "<style scoped>\n",
       "    .dataframe tbody tr th:only-of-type {\n",
       "        vertical-align: middle;\n",
       "    }\n",
       "\n",
       "    .dataframe tbody tr th {\n",
       "        vertical-align: top;\n",
       "    }\n",
       "\n",
       "    .dataframe thead th {\n",
       "        text-align: right;\n",
       "    }\n",
       "</style>\n",
       "<table border=\"1\" class=\"dataframe\">\n",
       "  <thead>\n",
       "    <tr style=\"text-align: right;\">\n",
       "      <th></th>\n",
       "      <th>country</th>\n",
       "      <th>order_value_EUR</th>\n",
       "      <th>cost</th>\n",
       "      <th>date</th>\n",
       "      <th>category</th>\n",
       "      <th>customer_name</th>\n",
       "      <th>sales_manager</th>\n",
       "      <th>sales_rep</th>\n",
       "      <th>device_type</th>\n",
       "      <th>order_id</th>\n",
       "      <th>customer_type</th>\n",
       "      <th>Customer_Type_encoded</th>\n",
       "    </tr>\n",
       "  </thead>\n",
       "  <tbody>\n",
       "    <tr>\n",
       "      <th>0</th>\n",
       "      <td>Sweden</td>\n",
       "      <td>98320.37</td>\n",
       "      <td>77722.25</td>\n",
       "      <td>8/23/2020</td>\n",
       "      <td>Games</td>\n",
       "      <td>Konopelski LLC</td>\n",
       "      <td>Maxie Marrow</td>\n",
       "      <td>Tarrah Castelletti</td>\n",
       "      <td>Tablet</td>\n",
       "      <td>70-0511466</td>\n",
       "      <td>Loyal customer</td>\n",
       "      <td>1</td>\n",
       "    </tr>\n",
       "    <tr>\n",
       "      <th>1</th>\n",
       "      <td>France</td>\n",
       "      <td>46296.26</td>\n",
       "      <td>40319.41</td>\n",
       "      <td>5/15/2020</td>\n",
       "      <td>Games</td>\n",
       "      <td>Wisoky Inc</td>\n",
       "      <td>Othello Bowes</td>\n",
       "      <td>Amelina Piscopiello</td>\n",
       "      <td>Tablet</td>\n",
       "      <td>77-3489084</td>\n",
       "      <td>Regular customer</td>\n",
       "      <td>0</td>\n",
       "    </tr>\n",
       "    <tr>\n",
       "      <th>2</th>\n",
       "      <td>Portugal</td>\n",
       "      <td>140337.34</td>\n",
       "      <td>115708.14</td>\n",
       "      <td>2020-04-09 00:00:00</td>\n",
       "      <td>Appliances</td>\n",
       "      <td>Hegmann Group</td>\n",
       "      <td>Celine Tumasian</td>\n",
       "      <td>Corene Shirer</td>\n",
       "      <td>PC</td>\n",
       "      <td>65-8218141</td>\n",
       "      <td>Loyal customer</td>\n",
       "      <td>1</td>\n",
       "    </tr>\n",
       "    <tr>\n",
       "      <th>3</th>\n",
       "      <td>France</td>\n",
       "      <td>203604.46</td>\n",
       "      <td>175344.16</td>\n",
       "      <td>6/26/2019</td>\n",
       "      <td>Electronics</td>\n",
       "      <td>Kirlin and Sons</td>\n",
       "      <td>Othello Bowes</td>\n",
       "      <td>Crysta Halls</td>\n",
       "      <td>Mobile</td>\n",
       "      <td>29-5478106</td>\n",
       "      <td>Loyal customer</td>\n",
       "      <td>1</td>\n",
       "    </tr>\n",
       "    <tr>\n",
       "      <th>4</th>\n",
       "      <td>UK</td>\n",
       "      <td>63979.04</td>\n",
       "      <td>56032.84</td>\n",
       "      <td>10/22/2019</td>\n",
       "      <td>Games</td>\n",
       "      <td>Schoen-Keeling</td>\n",
       "      <td>Jessamine Apark</td>\n",
       "      <td>Genevra Charrisson</td>\n",
       "      <td>PC</td>\n",
       "      <td>27-3437546</td>\n",
       "      <td>Regular customer</td>\n",
       "      <td>0</td>\n",
       "    </tr>\n",
       "  </tbody>\n",
       "</table>\n",
       "</div>"
      ],
      "text/plain": [
       "    country  order_value_EUR       cost                 date     category  \\\n",
       "0    Sweden         98320.37   77722.25            8/23/2020        Games   \n",
       "1    France         46296.26   40319.41            5/15/2020        Games   \n",
       "2  Portugal        140337.34  115708.14  2020-04-09 00:00:00   Appliances   \n",
       "3    France        203604.46  175344.16            6/26/2019  Electronics   \n",
       "4        UK         63979.04   56032.84           10/22/2019        Games   \n",
       "\n",
       "     customer_name    sales_manager            sales_rep device_type  \\\n",
       "0   Konopelski LLC     Maxie Marrow   Tarrah Castelletti      Tablet   \n",
       "1       Wisoky Inc    Othello Bowes  Amelina Piscopiello      Tablet   \n",
       "2    Hegmann Group  Celine Tumasian        Corene Shirer          PC   \n",
       "3  Kirlin and Sons    Othello Bowes         Crysta Halls      Mobile   \n",
       "4   Schoen-Keeling  Jessamine Apark   Genevra Charrisson          PC   \n",
       "\n",
       "     order_id     customer_type  Customer_Type_encoded  \n",
       "0  70-0511466    Loyal customer                      1  \n",
       "1  77-3489084  Regular customer                      0  \n",
       "2  65-8218141    Loyal customer                      1  \n",
       "3  29-5478106    Loyal customer                      1  \n",
       "4  27-3437546  Regular customer                      0  "
      ]
     },
     "execution_count": 26,
     "metadata": {},
     "output_type": "execute_result"
    }
   ],
   "source": [
    "final_df.head(5)\n"
   ]
  },
  {
   "cell_type": "code",
   "execution_count": 27,
   "id": "8fea9e2c-459b-4cd5-9171-f9d6a94e92d2",
   "metadata": {},
   "outputs": [],
   "source": [
    "# give me a python code to create a new dummy var for the variables country, category, device_type in a dataframe"
   ]
  },
  {
   "cell_type": "code",
   "execution_count": 28,
   "id": "316a7a6c-40cd-4198-b0a9-fc045ec94739",
   "metadata": {},
   "outputs": [],
   "source": [
    "# Create dummy variables for multiple categorical variables\n",
    "prep_df = pd.get_dummies(final_df, columns=['country', 'category', 'device_type'], dtype=int)\n",
    "\n",
    "# Concatenate the dummy variables with the original DataFrame\n",
    "df = pd.concat([final_df, prep_df], axis=1)"
   ]
  },
  {
   "cell_type": "code",
   "execution_count": 29,
   "id": "2d725cac-09e0-4fd7-9ee0-c2fca217cd45",
   "metadata": {},
   "outputs": [
    {
     "data": {
      "text/html": [
       "<div>\n",
       "<style scoped>\n",
       "    .dataframe tbody tr th:only-of-type {\n",
       "        vertical-align: middle;\n",
       "    }\n",
       "\n",
       "    .dataframe tbody tr th {\n",
       "        vertical-align: top;\n",
       "    }\n",
       "\n",
       "    .dataframe thead th {\n",
       "        text-align: right;\n",
       "    }\n",
       "</style>\n",
       "<table border=\"1\" class=\"dataframe\">\n",
       "  <thead>\n",
       "    <tr style=\"text-align: right;\">\n",
       "      <th></th>\n",
       "      <th>country</th>\n",
       "      <th>order_value_EUR</th>\n",
       "      <th>cost</th>\n",
       "      <th>date</th>\n",
       "      <th>category</th>\n",
       "      <th>customer_name</th>\n",
       "      <th>sales_manager</th>\n",
       "      <th>sales_rep</th>\n",
       "      <th>device_type</th>\n",
       "      <th>order_id</th>\n",
       "      <th>...</th>\n",
       "      <th>country_Sweden</th>\n",
       "      <th>country_UK</th>\n",
       "      <th>category_Appliances</th>\n",
       "      <th>category_Clothing</th>\n",
       "      <th>category_Electronics</th>\n",
       "      <th>category_Games</th>\n",
       "      <th>device_type_MAC</th>\n",
       "      <th>device_type_Mobile</th>\n",
       "      <th>device_type_PC</th>\n",
       "      <th>device_type_Tablet</th>\n",
       "    </tr>\n",
       "  </thead>\n",
       "  <tbody>\n",
       "    <tr>\n",
       "      <th>0</th>\n",
       "      <td>Sweden</td>\n",
       "      <td>98320.37</td>\n",
       "      <td>77722.25</td>\n",
       "      <td>8/23/2020</td>\n",
       "      <td>Games</td>\n",
       "      <td>Konopelski LLC</td>\n",
       "      <td>Maxie Marrow</td>\n",
       "      <td>Tarrah Castelletti</td>\n",
       "      <td>Tablet</td>\n",
       "      <td>70-0511466</td>\n",
       "      <td>...</td>\n",
       "      <td>1</td>\n",
       "      <td>0</td>\n",
       "      <td>0</td>\n",
       "      <td>0</td>\n",
       "      <td>0</td>\n",
       "      <td>1</td>\n",
       "      <td>0</td>\n",
       "      <td>0</td>\n",
       "      <td>0</td>\n",
       "      <td>1</td>\n",
       "    </tr>\n",
       "    <tr>\n",
       "      <th>1</th>\n",
       "      <td>France</td>\n",
       "      <td>46296.26</td>\n",
       "      <td>40319.41</td>\n",
       "      <td>5/15/2020</td>\n",
       "      <td>Games</td>\n",
       "      <td>Wisoky Inc</td>\n",
       "      <td>Othello Bowes</td>\n",
       "      <td>Amelina Piscopiello</td>\n",
       "      <td>Tablet</td>\n",
       "      <td>77-3489084</td>\n",
       "      <td>...</td>\n",
       "      <td>0</td>\n",
       "      <td>0</td>\n",
       "      <td>0</td>\n",
       "      <td>0</td>\n",
       "      <td>0</td>\n",
       "      <td>1</td>\n",
       "      <td>0</td>\n",
       "      <td>0</td>\n",
       "      <td>0</td>\n",
       "      <td>1</td>\n",
       "    </tr>\n",
       "    <tr>\n",
       "      <th>2</th>\n",
       "      <td>Portugal</td>\n",
       "      <td>140337.34</td>\n",
       "      <td>115708.14</td>\n",
       "      <td>2020-04-09 00:00:00</td>\n",
       "      <td>Appliances</td>\n",
       "      <td>Hegmann Group</td>\n",
       "      <td>Celine Tumasian</td>\n",
       "      <td>Corene Shirer</td>\n",
       "      <td>PC</td>\n",
       "      <td>65-8218141</td>\n",
       "      <td>...</td>\n",
       "      <td>0</td>\n",
       "      <td>0</td>\n",
       "      <td>1</td>\n",
       "      <td>0</td>\n",
       "      <td>0</td>\n",
       "      <td>0</td>\n",
       "      <td>0</td>\n",
       "      <td>0</td>\n",
       "      <td>1</td>\n",
       "      <td>0</td>\n",
       "    </tr>\n",
       "    <tr>\n",
       "      <th>3</th>\n",
       "      <td>France</td>\n",
       "      <td>203604.46</td>\n",
       "      <td>175344.16</td>\n",
       "      <td>6/26/2019</td>\n",
       "      <td>Electronics</td>\n",
       "      <td>Kirlin and Sons</td>\n",
       "      <td>Othello Bowes</td>\n",
       "      <td>Crysta Halls</td>\n",
       "      <td>Mobile</td>\n",
       "      <td>29-5478106</td>\n",
       "      <td>...</td>\n",
       "      <td>0</td>\n",
       "      <td>0</td>\n",
       "      <td>0</td>\n",
       "      <td>0</td>\n",
       "      <td>1</td>\n",
       "      <td>0</td>\n",
       "      <td>0</td>\n",
       "      <td>1</td>\n",
       "      <td>0</td>\n",
       "      <td>0</td>\n",
       "    </tr>\n",
       "    <tr>\n",
       "      <th>4</th>\n",
       "      <td>UK</td>\n",
       "      <td>63979.04</td>\n",
       "      <td>56032.84</td>\n",
       "      <td>10/22/2019</td>\n",
       "      <td>Games</td>\n",
       "      <td>Schoen-Keeling</td>\n",
       "      <td>Jessamine Apark</td>\n",
       "      <td>Genevra Charrisson</td>\n",
       "      <td>PC</td>\n",
       "      <td>27-3437546</td>\n",
       "      <td>...</td>\n",
       "      <td>0</td>\n",
       "      <td>1</td>\n",
       "      <td>0</td>\n",
       "      <td>0</td>\n",
       "      <td>0</td>\n",
       "      <td>1</td>\n",
       "      <td>0</td>\n",
       "      <td>0</td>\n",
       "      <td>1</td>\n",
       "      <td>0</td>\n",
       "    </tr>\n",
       "  </tbody>\n",
       "</table>\n",
       "<p>5 rows × 35 columns</p>\n",
       "</div>"
      ],
      "text/plain": [
       "    country  order_value_EUR       cost                 date     category  \\\n",
       "0    Sweden         98320.37   77722.25            8/23/2020        Games   \n",
       "1    France         46296.26   40319.41            5/15/2020        Games   \n",
       "2  Portugal        140337.34  115708.14  2020-04-09 00:00:00   Appliances   \n",
       "3    France        203604.46  175344.16            6/26/2019  Electronics   \n",
       "4        UK         63979.04   56032.84           10/22/2019        Games   \n",
       "\n",
       "     customer_name    sales_manager            sales_rep device_type  \\\n",
       "0   Konopelski LLC     Maxie Marrow   Tarrah Castelletti      Tablet   \n",
       "1       Wisoky Inc    Othello Bowes  Amelina Piscopiello      Tablet   \n",
       "2    Hegmann Group  Celine Tumasian        Corene Shirer          PC   \n",
       "3  Kirlin and Sons    Othello Bowes         Crysta Halls      Mobile   \n",
       "4   Schoen-Keeling  Jessamine Apark   Genevra Charrisson          PC   \n",
       "\n",
       "     order_id  ... country_Sweden  country_UK  category_Appliances  \\\n",
       "0  70-0511466  ...              1           0                    0   \n",
       "1  77-3489084  ...              0           0                    0   \n",
       "2  65-8218141  ...              0           0                    1   \n",
       "3  29-5478106  ...              0           0                    0   \n",
       "4  27-3437546  ...              0           1                    0   \n",
       "\n",
       "   category_Clothing category_Electronics category_Games device_type_MAC  \\\n",
       "0                  0                    0              1               0   \n",
       "1                  0                    0              1               0   \n",
       "2                  0                    0              0               0   \n",
       "3                  0                    1              0               0   \n",
       "4                  0                    0              1               0   \n",
       "\n",
       "  device_type_Mobile device_type_PC device_type_Tablet  \n",
       "0                  0              0                  1  \n",
       "1                  0              0                  1  \n",
       "2                  0              1                  0  \n",
       "3                  1              0                  0  \n",
       "4                  0              1                  0  \n",
       "\n",
       "[5 rows x 35 columns]"
      ]
     },
     "execution_count": 29,
     "metadata": {},
     "output_type": "execute_result"
    }
   ],
   "source": [
    "df.head()"
   ]
  },
  {
   "cell_type": "code",
   "execution_count": 30,
   "id": "28e2ffab-81be-4095-a807-adf282f0e914",
   "metadata": {},
   "outputs": [],
   "source": [
    "y=prep_df['cost']"
   ]
  },
  {
   "cell_type": "code",
   "execution_count": 31,
   "id": "7ae187f9-95f7-42e7-bc54-03bca2c8a746",
   "metadata": {},
   "outputs": [
    {
     "data": {
      "text/plain": [
       "0     77722.25\n",
       "1     40319.41\n",
       "2    115708.14\n",
       "3    175344.16\n",
       "4     56032.84\n",
       "5    110924.13\n",
       "6     55529.13\n",
       "7     55529.13\n",
       "8     55529.13\n",
       "9    324232.32\n",
       "Name: cost, dtype: float64"
      ]
     },
     "execution_count": 31,
     "metadata": {},
     "output_type": "execute_result"
    }
   ],
   "source": [
    "y"
   ]
  },
  {
   "cell_type": "code",
   "execution_count": 32,
   "id": "4d3ca571-6bc8-482a-b104-6e0701c996c5",
   "metadata": {},
   "outputs": [
    {
     "data": {
      "text/plain": [
       "Index(['order_value_EUR', 'cost', 'date', 'customer_name', 'sales_manager',\n",
       "       'sales_rep', 'order_id', 'customer_type', 'Customer_Type_encoded',\n",
       "       'country_France', 'country_Italy', 'country_Korea', 'country_Portugal',\n",
       "       'country_Sweden', 'country_UK', 'category_Appliances',\n",
       "       'category_Clothing', 'category_Electronics', 'category_Games',\n",
       "       'device_type_MAC', 'device_type_Mobile', 'device_type_PC',\n",
       "       'device_type_Tablet'],\n",
       "      dtype='object')"
      ]
     },
     "execution_count": 32,
     "metadata": {},
     "output_type": "execute_result"
    }
   ],
   "source": [
    "prep_df.columns"
   ]
  },
  {
   "cell_type": "code",
   "execution_count": 33,
   "id": "9470f778-f6cd-4598-b602-d4174b1b52a1",
   "metadata": {},
   "outputs": [],
   "source": [
    "# give me a python code to drop 5 categorical variables from a dataframe"
   ]
  },
  {
   "cell_type": "code",
   "execution_count": 34,
   "id": "d5305281-632c-4e16-aa3b-20ea5ec26ade",
   "metadata": {},
   "outputs": [
    {
     "data": {
      "text/html": [
       "<div>\n",
       "<style scoped>\n",
       "    .dataframe tbody tr th:only-of-type {\n",
       "        vertical-align: middle;\n",
       "    }\n",
       "\n",
       "    .dataframe tbody tr th {\n",
       "        vertical-align: top;\n",
       "    }\n",
       "\n",
       "    .dataframe thead th {\n",
       "        text-align: right;\n",
       "    }\n",
       "</style>\n",
       "<table border=\"1\" class=\"dataframe\">\n",
       "  <thead>\n",
       "    <tr style=\"text-align: right;\">\n",
       "      <th></th>\n",
       "      <th>order_value_EUR</th>\n",
       "      <th>cost</th>\n",
       "    </tr>\n",
       "  </thead>\n",
       "  <tbody>\n",
       "    <tr>\n",
       "      <th>0</th>\n",
       "      <td>98320.37</td>\n",
       "      <td>77722.25</td>\n",
       "    </tr>\n",
       "    <tr>\n",
       "      <th>1</th>\n",
       "      <td>46296.26</td>\n",
       "      <td>40319.41</td>\n",
       "    </tr>\n",
       "    <tr>\n",
       "      <th>2</th>\n",
       "      <td>140337.34</td>\n",
       "      <td>115708.14</td>\n",
       "    </tr>\n",
       "    <tr>\n",
       "      <th>3</th>\n",
       "      <td>203604.46</td>\n",
       "      <td>175344.16</td>\n",
       "    </tr>\n",
       "    <tr>\n",
       "      <th>4</th>\n",
       "      <td>63979.04</td>\n",
       "      <td>56032.84</td>\n",
       "    </tr>\n",
       "    <tr>\n",
       "      <th>5</th>\n",
       "      <td>127075.41</td>\n",
       "      <td>110924.13</td>\n",
       "    </tr>\n",
       "    <tr>\n",
       "      <th>6</th>\n",
       "      <td>69681.43</td>\n",
       "      <td>55529.13</td>\n",
       "    </tr>\n",
       "    <tr>\n",
       "      <th>7</th>\n",
       "      <td>69681.43</td>\n",
       "      <td>55529.13</td>\n",
       "    </tr>\n",
       "    <tr>\n",
       "      <th>8</th>\n",
       "      <td>69681.43</td>\n",
       "      <td>55529.13</td>\n",
       "    </tr>\n",
       "    <tr>\n",
       "      <th>9</th>\n",
       "      <td>99994324.23</td>\n",
       "      <td>324232.32</td>\n",
       "    </tr>\n",
       "  </tbody>\n",
       "</table>\n",
       "</div>"
      ],
      "text/plain": [
       "   order_value_EUR       cost\n",
       "0         98320.37   77722.25\n",
       "1         46296.26   40319.41\n",
       "2        140337.34  115708.14\n",
       "3        203604.46  175344.16\n",
       "4         63979.04   56032.84\n",
       "5        127075.41  110924.13\n",
       "6         69681.43   55529.13\n",
       "7         69681.43   55529.13\n",
       "8         69681.43   55529.13\n",
       "9      99994324.23  324232.32"
      ]
     },
     "execution_count": 34,
     "metadata": {},
     "output_type": "execute_result"
    }
   ],
   "source": [
    "# List of categorical variables to drop\n",
    "categorical_vars_to_drop = [  'customer_type', 'Customer_Type_encoded',\n",
    "       'country_France', 'country_Italy', 'country_Korea', 'country_Portugal',\n",
    "       'country_Sweden', 'country_UK', 'category_Appliances',\n",
    "       'category_Clothing', 'category_Electronics', 'category_Games',\n",
    "       'device_type_MAC', 'device_type_Mobile', 'device_type_PC',\n",
    "       'device_type_Tablet', 'date', 'customer_name', 'sales_manager', 'sales_rep', 'order_id']\n",
    "\n",
    "# Drop the categorical variables from the DataFrame\n",
    "x = prep_df.drop(columns=categorical_vars_to_drop, axis=1)\n",
    "x\n"
   ]
  },
  {
   "cell_type": "code",
   "execution_count": 35,
   "id": "a77b76dd-8fca-410e-bf39-9334915de12c",
   "metadata": {},
   "outputs": [
    {
     "data": {
      "text/plain": [
       "Index(['order_value_EUR', 'cost'], dtype='object')"
      ]
     },
     "execution_count": 35,
     "metadata": {},
     "output_type": "execute_result"
    }
   ],
   "source": [
    "x.columns"
   ]
  },
  {
   "cell_type": "code",
   "execution_count": 36,
   "id": "c2c6456b-0851-4d09-a038-2fa66f5e1ac4",
   "metadata": {},
   "outputs": [],
   "source": [
    "# give me a python code to scale a dataframe with standardscaler."
   ]
  },
  {
   "cell_type": "code",
   "execution_count": 37,
   "id": "0262101f-b5b4-450d-b973-c76863c41283",
   "metadata": {},
   "outputs": [
    {
     "data": {
      "text/html": [
       "<div>\n",
       "<style scoped>\n",
       "    .dataframe tbody tr th:only-of-type {\n",
       "        vertical-align: middle;\n",
       "    }\n",
       "\n",
       "    .dataframe tbody tr th {\n",
       "        vertical-align: top;\n",
       "    }\n",
       "\n",
       "    .dataframe thead th {\n",
       "        text-align: right;\n",
       "    }\n",
       "</style>\n",
       "<table border=\"1\" class=\"dataframe\">\n",
       "  <thead>\n",
       "    <tr style=\"text-align: right;\">\n",
       "      <th></th>\n",
       "      <th>order_value_EUR</th>\n",
       "      <th>cost</th>\n",
       "    </tr>\n",
       "  </thead>\n",
       "  <tbody>\n",
       "    <tr>\n",
       "      <th>0</th>\n",
       "      <td>98320.37</td>\n",
       "      <td>77722.25</td>\n",
       "    </tr>\n",
       "    <tr>\n",
       "      <th>1</th>\n",
       "      <td>46296.26</td>\n",
       "      <td>40319.41</td>\n",
       "    </tr>\n",
       "    <tr>\n",
       "      <th>2</th>\n",
       "      <td>140337.34</td>\n",
       "      <td>115708.14</td>\n",
       "    </tr>\n",
       "    <tr>\n",
       "      <th>3</th>\n",
       "      <td>203604.46</td>\n",
       "      <td>175344.16</td>\n",
       "    </tr>\n",
       "    <tr>\n",
       "      <th>4</th>\n",
       "      <td>63979.04</td>\n",
       "      <td>56032.84</td>\n",
       "    </tr>\n",
       "    <tr>\n",
       "      <th>5</th>\n",
       "      <td>127075.41</td>\n",
       "      <td>110924.13</td>\n",
       "    </tr>\n",
       "    <tr>\n",
       "      <th>6</th>\n",
       "      <td>69681.43</td>\n",
       "      <td>55529.13</td>\n",
       "    </tr>\n",
       "    <tr>\n",
       "      <th>7</th>\n",
       "      <td>69681.43</td>\n",
       "      <td>55529.13</td>\n",
       "    </tr>\n",
       "    <tr>\n",
       "      <th>8</th>\n",
       "      <td>69681.43</td>\n",
       "      <td>55529.13</td>\n",
       "    </tr>\n",
       "    <tr>\n",
       "      <th>9</th>\n",
       "      <td>99994324.23</td>\n",
       "      <td>324232.32</td>\n",
       "    </tr>\n",
       "  </tbody>\n",
       "</table>\n",
       "</div>"
      ],
      "text/plain": [
       "   order_value_EUR       cost\n",
       "0         98320.37   77722.25\n",
       "1         46296.26   40319.41\n",
       "2        140337.34  115708.14\n",
       "3        203604.46  175344.16\n",
       "4         63979.04   56032.84\n",
       "5        127075.41  110924.13\n",
       "6         69681.43   55529.13\n",
       "7         69681.43   55529.13\n",
       "8         69681.43   55529.13\n",
       "9      99994324.23  324232.32"
      ]
     },
     "execution_count": 37,
     "metadata": {},
     "output_type": "execute_result"
    }
   ],
   "source": [
    "# Initialize the StandardScaler\n",
    "scaler = StandardScaler()\n",
    "\n",
    "# Fit and transform the DataFrame\n",
    "scaled_data = scaler.fit_transform(x)\n",
    "x\n"
   ]
  },
  {
   "cell_type": "code",
   "execution_count": 38,
   "id": "5f66e56a-dcdc-4c84-8dd6-983835260c07",
   "metadata": {},
   "outputs": [
    {
     "data": {
      "text/plain": [
       "array([[-0.33334695, -0.35176779],\n",
       "       [-0.3350829 , -0.80601252],\n",
       "       [-0.33194493,  0.10955789],\n",
       "       [-0.32983382,  0.83381702],\n",
       "       [-0.33449286, -0.61517828],\n",
       "       [-0.33238745,  0.05145772],\n",
       "       [-0.33430258, -0.62129566],\n",
       "       [-0.33430258, -0.62129566],\n",
       "       [-0.33430258, -0.62129566],\n",
       "       [ 2.99999666,  2.64201294]])"
      ]
     },
     "execution_count": 38,
     "metadata": {},
     "output_type": "execute_result"
    }
   ],
   "source": [
    "scaled_data"
   ]
  },
  {
   "cell_type": "code",
   "execution_count": 39,
   "id": "1c0c1cae-9f51-4564-99e0-dd1bd79248cb",
   "metadata": {},
   "outputs": [],
   "source": [
    "from sklearn.model_selection import train_test_split"
   ]
  },
  {
   "cell_type": "code",
   "execution_count": 40,
   "id": "850c96d6-8612-4932-8306-402c775439ea",
   "metadata": {},
   "outputs": [],
   "source": [
    "\n",
    "# Assuming you have your data stored in variables x and y\n",
    "\n",
    "# Split the data into training and testing sets\n",
    "train_x, test_x, train_y, test_y = train_test_split(scaled_data, y, test_size=0.2, random_state=42)\n",
    "\n"
   ]
  },
  {
   "cell_type": "code",
   "execution_count": 41,
   "id": "634321b1-28b9-4c21-a3cf-b03381153792",
   "metadata": {},
   "outputs": [
    {
     "data": {
      "text/plain": [
       "array([[-0.33238745,  0.05145772],\n",
       "       [-0.33334695, -0.35176779],\n",
       "       [-0.33430258, -0.62129566],\n",
       "       [-0.33194493,  0.10955789],\n",
       "       [ 2.99999666,  2.64201294],\n",
       "       [-0.33449286, -0.61517828],\n",
       "       [-0.32983382,  0.83381702],\n",
       "       [-0.33430258, -0.62129566]])"
      ]
     },
     "execution_count": 41,
     "metadata": {},
     "output_type": "execute_result"
    }
   ],
   "source": [
    "train_x"
   ]
  },
  {
   "cell_type": "code",
   "execution_count": 42,
   "id": "59ff9254-a15e-4c94-bd36-2d4e769c2495",
   "metadata": {},
   "outputs": [
    {
     "data": {
      "text/plain": [
       "array([[-0.33430258, -0.62129566],\n",
       "       [-0.3350829 , -0.80601252]])"
      ]
     },
     "execution_count": 42,
     "metadata": {},
     "output_type": "execute_result"
    }
   ],
   "source": [
    "test_x"
   ]
  },
  {
   "cell_type": "code",
   "execution_count": 43,
   "id": "0baf7dc1-61f3-4d04-816e-1520c1ceaf9c",
   "metadata": {},
   "outputs": [
    {
     "data": {
      "text/plain": [
       "5    110924.13\n",
       "0     77722.25\n",
       "7     55529.13\n",
       "2    115708.14\n",
       "9    324232.32\n",
       "4     56032.84\n",
       "3    175344.16\n",
       "6     55529.13\n",
       "Name: cost, dtype: float64"
      ]
     },
     "execution_count": 43,
     "metadata": {},
     "output_type": "execute_result"
    }
   ],
   "source": [
    "train_y"
   ]
  },
  {
   "cell_type": "code",
   "execution_count": 44,
   "id": "1b289606-8ae7-448c-8fad-58628004c56a",
   "metadata": {},
   "outputs": [
    {
     "data": {
      "text/plain": [
       "8    55529.13\n",
       "1    40319.41\n",
       "Name: cost, dtype: float64"
      ]
     },
     "execution_count": 44,
     "metadata": {},
     "output_type": "execute_result"
    }
   ],
   "source": [
    "test_y"
   ]
  },
  {
   "cell_type": "code",
   "execution_count": 45,
   "id": "65398fd9-0b25-4681-a0c5-8dc208d5be12",
   "metadata": {},
   "outputs": [],
   "source": [
    "from sklearn.linear_model import LinearRegression\n",
    "from sklearn.metrics import mean_absolute_error"
   ]
  },
  {
   "cell_type": "code",
   "execution_count": 46,
   "id": "030ea846-9511-4472-934b-0c9ab1673e8e",
   "metadata": {},
   "outputs": [],
   "source": [
    "# Give me a python code build Linear Regression ML modelon train data, \n",
    "# make prediction on test data, measure accuracy with MAPE, a plot to visualize y_pred against test_y\n",
    "# and kde plot to visualize the disturbution of a residual"
   ]
  },
  {
   "cell_type": "code",
   "execution_count": 47,
   "id": "bf37185d-7f54-4e4f-a04b-4376c1fc461b",
   "metadata": {},
   "outputs": [],
   "source": [
    "from sklearn.linear_model import LinearRegression\n",
    "from sklearn.metrics import mean_absolute_percentage_error"
   ]
  },
  {
   "cell_type": "code",
   "execution_count": 63,
   "id": "3f3832e5-2874-4cec-8678-004ef21e5fee",
   "metadata": {},
   "outputs": [],
   "source": [
    "# Train linear regression model\n",
    "model = LinearRegression()\n",
    "\n",
    "# Train (fit) the model z\n",
    "model.fit(train_x, train_y)\n",
    "\n",
    "# Make predictions of the test data\n",
    "y_pred = model.predict(test_x)"
   ]
  },
  {
   "cell_type": "code",
   "execution_count": 69,
   "id": "28c85e28-42ee-4700-9118-b41f248ebe03",
   "metadata": {},
   "outputs": [],
   "source": [
    "import numpy as np"
   ]
  },
  {
   "cell_type": "code",
   "execution_count": 70,
   "id": "c044a923-6b41-4923-b158-08440d35629a",
   "metadata": {},
   "outputs": [],
   "source": [
    "# Define a function to calculate Mean Absolute Percentage Error (MAPE)\n",
    "def calculate_mape(test_y, y_pred):\n",
    "    return np.mean(np.abs((test_y - y_pred) / test_y)) * 100\n",
    "# Calculating the Mean Absolute Percentage Error (MAPE) using the custom function\n",
    "mape = calculate_mape(test_y, y_pred)\n"
   ]
  },
  {
   "cell_type": "code",
   "execution_count": 85,
   "id": "f54edae4-99e6-42fa-b112-163840677960",
   "metadata": {},
   "outputs": [],
   "source": [
    "import numpy as np\n",
    "import pandas as pd\n",
    "import matplotlib.pyplot as plt\n",
    "from sklearn.model_selection import train_test_split\n",
    "from sklearn.linear_model import LinearRegression\n",
    "from sklearn.metrics import mean_absolute_percentage_error"
   ]
  },
  {
   "cell_type": "code",
   "execution_count": 86,
   "id": "211175c2-8024-4b31-a928-0684a994f177",
   "metadata": {},
   "outputs": [
    {
     "data": {
      "image/png": "[encoded data removed]",
      "text/plain": [
       "<Figure size 640x480 with 1 Axes>"
      ]
     },
     "metadata": {},
     "output_type": "display_data"
    }
   ],
   "source": [
    "plt.scatter(y_pred, test_y, color=\"blue\")\n",
    "plt.xlabel('Prediction')\n",
    "plt.ylabel('Actual data')\n",
    "plt.title('Linear Regression prediction vs actual data')\n",
    "plt.show()"
   ]
  },
  {
   "cell_type": "code",
   "execution_count": null,
   "id": "c1e5f713-7968-4453-bfc2-b6f7e4faeeb9",
   "metadata": {},
   "outputs": [],
   "source": []
  }
 ],
 "metadata": {
  "kernelspec": {
   "display_name": "Python 3 (ipykernel)",
   "language": "python",
   "name": "python3"
  },
  "language_info": {
   "codemirror_mode": {
    "name": "ipython",
    "version": 3
   },
   "file_extension": ".py",
   "mimetype": "text/x-python",
   "name": "python",
   "nbconvert_exporter": "python",
   "pygments_lexer": "ipython3",
   "version": "3.12.2"
  }
 },
 "nbformat": 4,
 "nbformat_minor": 5
}
