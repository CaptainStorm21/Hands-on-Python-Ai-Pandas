{
 "cells": [
  {
   "cell_type": "code",
   "execution_count": null,
   "id": "c6b23ad6-7daf-4bf4-9cdf-40783bb6e547",
   "metadata": {},
   "outputs": [],
   "source": [
    "'''\n",
    "Concatenating dataframe\n",
    "Write this dataframe first:\n",
    "\n",
    "import pandas as pd\n",
    " \n",
    "# Create DataFrame df1\n",
    "data1 = {\n",
    "    'age': [25, 30, 35, 40, 45],  \n",
    "    'income': [50000, 60000, 55000, 80000, 70000],  \n",
    "    'city': ['New York', 'Los Angeles', 'Chicago', 'Houston', 'Miami'],\n",
    "    'gender': ['Male', 'Female', 'Male', 'Female', 'Male']\n",
    "}\n",
    " \n",
    "df1 = pd.DataFrame(data1)\n",
    "Then, write this new dataframe:\n",
    "\n",
    "# Create new DataFrame data3 with education and marital_status variables\n",
    "data3 = pd.DataFrame({\n",
    "    'education': ['Bachelor', 'Master', 'PhD', 'Bachelor', 'Master'],\n",
    "    'marital_status': ['Single', 'Married', 'Single', 'Married', 'Divorced']\n",
    "})\n",
    "Finally, concate both dataframes.\n",
    "'''"
   ]
  },
  {
   "cell_type": "code",
   "execution_count": null,
   "id": "71f2ade6-561a-438f-9c9f-c84752975d4d",
   "metadata": {},
   "outputs": [],
   "source": [
    "import pandas as pd\n",
    " \n",
    "# Create DataFrame df1\n",
    "data1 = {\n",
    "    'age': [25, 30, 35, 40, 45],  \n",
    "    'income': [50000, 60000, 55000, 80000, 70000],  \n",
    "    'city': ['New York', 'Los Angeles', 'Chicago', 'Houston', 'Miami'],\n",
    "    'gender': ['Male', 'Female', 'Male', 'Female', 'Male']\n",
    "}\n",
    " \n",
    "df1 = pd.DataFrame(data1)\n",
    "\n",
    "# Create new DataFrame data3 with education and marital_status variables\n",
    "data3 = pd.DataFrame({\n",
    "    'education': ['Bachelor', 'Master', 'PhD', 'Bachelor', 'Master'],\n",
    "    'marital_status': ['Single', 'Married', 'Single', 'Married', 'Divorced']\n",
    "})\n",
    "\n",
    "\n",
    "\n",
    "concatenated_df = pd.concat ([df1, data3], axis=1)\n",
    "print(concatenated_df)"
   ]
  }
 ],
 "metadata": {
  "kernelspec": {
   "display_name": "Python 3 (ipykernel)",
   "language": "python",
   "name": "python3"
  },
  "language_info": {
   "codemirror_mode": {
    "name": "ipython",
    "version": 3
   },
   "file_extension": ".py",
   "mimetype": "text/x-python",
   "name": "python",
   "nbconvert_exporter": "python",
   "pygments_lexer": "ipython3",
   "version": "3.12.2"
  }
 },
 "nbformat": 4,
 "nbformat_minor": 5
}
