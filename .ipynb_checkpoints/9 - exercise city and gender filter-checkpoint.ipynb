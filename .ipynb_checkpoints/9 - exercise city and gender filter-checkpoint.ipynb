{
 "cells": [
  {
   "cell_type": "code",
   "execution_count": null,
   "id": "d904d97e-7ccc-4a22-96fc-931f659eb2e2",
   "metadata": {},
   "outputs": [],
   "source": [
    "'''\n",
    "Write the following code first:\n",
    "\n",
    "import pandas as pd\n",
    " \n",
    "# Create DataFrame\n",
    "data = {\n",
    "    'age': [25, 30, 35, 40, 45],  \n",
    "    'income': [50000, 60000, 55000, 80000, 70000],  \n",
    "    'city': ['New York', 'Los Angeles', 'Chicago', 'Houston', 'New York'],\n",
    "    'gender': ['Male', 'Female', 'Male', 'Female', 'Male']\n",
    "}\n",
    " \n",
    "df = pd.DataFrame(data)\n",
    "Filter data for city New York and gender Male\n",
    "'''"
   ]
  },
  {
   "cell_type": "code",
   "execution_count": null,
   "id": "e78e4526-1893-4ec5-9b08-b311bb4f85a1",
   "metadata": {},
   "outputs": [],
   "source": [
    "'''\n",
    "Filter data for city New York and gender Male\n",
    "'''\n",
    "\n",
    " \n",
    "# Create DataFrame\n",
    "data = {\n",
    "    'age': [25, 30, 35, 40, 45],  \n",
    "    'income': [50000, 60000, 55000, 80000, 70000],  \n",
    "    'city': ['New York', 'Los Angeles', 'Chicago', 'Houston', 'New York'],\n",
    "    'gender': ['Male', 'Female', 'Male', 'Female', 'Male']\n",
    "}\n",
    "df = pd.DataFrame(data)\n",
    "\n",
    " \n",
    "df = df[(df['city'] == 'New York') & (df['gender'] == 'Male')]\n",
    "print(df)"
   ]
  }
 ],
 "metadata": {
  "kernelspec": {
   "display_name": "Python 3 (ipykernel)",
   "language": "python",
   "name": "python3"
  },
  "language_info": {
   "codemirror_mode": {
    "name": "ipython",
    "version": 3
   },
   "file_extension": ".py",
   "mimetype": "text/x-python",
   "name": "python",
   "nbconvert_exporter": "python",
   "pygments_lexer": "ipython3",
   "version": "3.12.2"
  }
 },
 "nbformat": 4,
 "nbformat_minor": 5
}
