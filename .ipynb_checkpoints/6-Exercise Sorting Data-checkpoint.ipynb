{
 "cells": [
  {
   "cell_type": "code",
   "execution_count": null,
   "id": "5ee8e088-dc48-4cf4-99d7-f152b83c4552",
   "metadata": {},
   "outputs": [],
   "source": [
    "'''\n",
    "Sorting dataset\n",
    "Write the following code first:\n",
    "\n",
    "import pandas as pd\n",
    " \n",
    "# Create DataFrame\n",
    "data = {\n",
    "    'age': [25, 30, 35, 40, 45],  \n",
    "    'income': [50000, 60000, 55000, 80000, 70000],  \n",
    "    'city': ['New York', 'Los Angeles', 'Chicago', 'Houston', 'Miami'],\n",
    "    'gender': ['Male', 'Female', 'Male', 'Female', 'Male']\n",
    "}\n",
    " \n",
    "df = pd.DataFrame(data)\n",
    "Now sort the dataset from higher to lower income.\n",
    "'''"
   ]
  },
  {
   "cell_type": "code",
   "execution_count": 1,
   "id": "e712bd3b-85bd-4420-81b2-e93450fa2337",
   "metadata": {},
   "outputs": [
    {
     "name": "stdout",
     "output_type": "stream",
     "text": [
      "   age  income         city  gender\n",
      "3   40   80000      Houston  Female\n",
      "4   45   70000        Miami    Male\n",
      "1   30   60000  Los Angeles  Female\n",
      "2   35   55000      Chicago    Male\n",
      "0   25   50000     New York    Male\n"
     ]
    }
   ],
   "source": [
    "\n",
    "import pandas as pd\n",
    " \n",
    "# Create DataFrame\n",
    "data = {\n",
    "    'age': [25, 30, 35, 40, 45],  \n",
    "    'income': [50000, 60000, 55000, 80000, 70000],  \n",
    "    'city': ['New York', 'Los Angeles', 'Chicago', 'Houston', 'Miami'],\n",
    "    'gender': ['Male', 'Female', 'Male', 'Female', 'Male']\n",
    "}\n",
    " \n",
    "df = pd.DataFrame(data)\n",
    " \n",
    "# Sort by income in descending order\n",
    "df = df.sort_values(by='income', ascending=False)\n",
    " \n",
    "print(df)"
   ]
  }
 ],
 "metadata": {
  "kernelspec": {
   "display_name": "Python 3 (ipykernel)",
   "language": "python",
   "name": "python3"
  },
  "language_info": {
   "codemirror_mode": {
    "name": "ipython",
    "version": 3
   },
   "file_extension": ".py",
   "mimetype": "text/x-python",
   "name": "python",
   "nbconvert_exporter": "python",
   "pygments_lexer": "ipython3",
   "version": "3.12.2"
  }
 },
 "nbformat": 4,
 "nbformat_minor": 5
}
