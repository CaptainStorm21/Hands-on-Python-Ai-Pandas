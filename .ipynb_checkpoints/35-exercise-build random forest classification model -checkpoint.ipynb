{
 "cells": [
  {
   "cell_type": "code",
   "execution_count": 1,
   "id": "13c80709-596a-4681-aa40-1acbbbb243f5",
   "metadata": {},
   "outputs": [
    {
     "data": {
      "text/plain": [
       "\"\\nBuild random forest classification model\\nWrite the following code first:\\n\\n\\n\\nimport pandas as pd\\nimport numpy as np\\n \\n# Create a new DataFrame for Classification\\ndata = {\\n    'X1': np.random.randint(0, 100, 100),  # Feature 1\\n    'X2': np.random.randint(0, 100, 100),  # Feature 2\\n    'y': np.random.choice([0, 1], size=100)   # Target variable (binary)\\n}\\n \\ndf = pd.DataFrame(data)\\n\\n\\nSplit the data into train and test set.\\n\\nFit a random forest classification ML model.\\n\\nPredict the y_pred based on x_test using the model.\\n\\nCalculate accuracy score.\\n\\nGenerate classification report.\\n\""
      ]
     },
     "execution_count": 1,
     "metadata": {},
     "output_type": "execute_result"
    }
   ],
   "source": [
    "'''\n",
    "Build random forest classification model\n",
    "Write the following code first:\n",
    "\n",
    "\n",
    "\n",
    "import pandas as pd\n",
    "import numpy as np\n",
    " \n",
    "# Create a new DataFrame for Classification\n",
    "data = {\n",
    "    'X1': np.random.randint(0, 100, 100),  # Feature 1\n",
    "    'X2': np.random.randint(0, 100, 100),  # Feature 2\n",
    "    'y': np.random.choice([0, 1], size=100)   # Target variable (binary)\n",
    "}\n",
    " \n",
    "df = pd.DataFrame(data)\n",
    "\n",
    "\n",
    "Split the data into train and test set.\n",
    "\n",
    "Fit a random forest classification ML model.\n",
    "\n",
    "Predict the y_pred based on x_test using the model.\n",
    "\n",
    "Calculate accuracy score.\n",
    "\n",
    "Generate classification report.\n",
    "'''"
   ]
  },
  {
   "cell_type": "code",
   "execution_count": 2,
   "id": "ae034b21-25aa-43fa-8838-343eff64511a",
   "metadata": {},
   "outputs": [
    {
     "name": "stdout",
     "output_type": "stream",
     "text": [
      "Accuracy Score: 0.45\n",
      "Classification Report:\n",
      "               precision    recall  f1-score   support\n",
      "\n",
      "           0       0.62      0.38      0.48        13\n",
      "           1       0.33      0.57      0.42         7\n",
      "\n",
      "    accuracy                           0.45        20\n",
      "   macro avg       0.48      0.48      0.45        20\n",
      "weighted avg       0.52      0.45      0.46        20\n",
      "\n"
     ]
    }
   ],
   "source": [
    "import pandas as pd\n",
    "import numpy as np\n",
    "from sklearn.model_selection import train_test_split\n",
    "from sklearn.ensemble import RandomForestClassifier\n",
    "from sklearn.metrics import accuracy_score, classification_report\n",
    "\n",
    "# Create a new DataFrame for Classification\n",
    "data = {\n",
    "    'X1': np.random.randint(0, 100, 100),  # Feature 1\n",
    "    'X2': np.random.randint(0, 100, 100),  # Feature 2\n",
    "    'y': np.random.choice([0, 1], size=100)   # Target variable (binary)\n",
    "}\n",
    "\n",
    "df = pd.DataFrame(data)\n",
    "\n",
    "# Split the data into train and test set\n",
    "X = df[['X1', 'X2']]\n",
    "y = df['y']\n",
    "X_train, X_test, y_train, y_test = train_test_split(X, y, test_size=0.2, random_state=42)\n",
    "\n",
    "# Fit a random forest classification ML model\n",
    "model = RandomForestClassifier()\n",
    "model.fit(X_train, y_train)\n",
    "\n",
    "# Predict the y_pred based on X_test using the model\n",
    "y_pred = model.predict(X_test)\n",
    "\n",
    "# Calculate accuracy score\n",
    "accuracy = accuracy_score(y_test, y_pred)\n",
    "print(\"Accuracy Score:\", accuracy)\n",
    "\n",
    "# Generate classification report\n",
    "report = classification_report(y_test, y_pred)\n",
    "print(\"Classification Report:\\n\", report)\n"
   ]
  },
  {
   "cell_type": "code",
   "execution_count": 3,
   "id": "b39913de-b38b-41cf-b4c7-211f685f1a84",
   "metadata": {},
   "outputs": [
    {
     "data": {
      "text/plain": [
       "'\\nthis code did \\n\\nCreate a DataFrame with random integer values for features X1 and X2, and binary target variable y.\\nSplit the data into training and testing sets (80% train, 20% test).\\nFit a random forest classification model on the training data.\\nMake predictions on the test data.\\nCalculate the accuracy score of the model.\\nGenerate a classification report containing precision, recall, F1-score, and support for each class.\\n\\n\\n\\n3 free results left todayCheck Hallucination\\n'"
      ]
     },
     "execution_count": 3,
     "metadata": {},
     "output_type": "execute_result"
    }
   ],
   "source": [
    "'''\n",
    "this code did \n",
    "\n",
    "Create a DataFrame with random integer values for features X1 and X2, and binary target variable y.\n",
    "Split the data into training and testing sets (80% train, 20% test).\n",
    "Fit a random forest classification model on the training data.\n",
    "Make predictions on the test data.\n",
    "Calculate the accuracy score of the model.\n",
    "Generate a classification report containing precision, recall, F1-score, and support for each class.\n",
    "\n",
    "\n",
    "\n",
    "3 free results left todayCheck Hallucination\n",
    "'''"
   ]
  },
  {
   "cell_type": "code",
   "execution_count": null,
   "id": "4be3d24f-8212-4dbc-8061-6296e42cd79b",
   "metadata": {},
   "outputs": [],
   "source": []
  }
 ],
 "metadata": {
  "kernelspec": {
   "display_name": "Python 3 (ipykernel)",
   "language": "python",
   "name": "python3"
  },
  "language_info": {
   "codemirror_mode": {
    "name": "ipython",
    "version": 3
   },
   "file_extension": ".py",
   "mimetype": "text/x-python",
   "name": "python",
   "nbconvert_exporter": "python",
   "pygments_lexer": "ipython3",
   "version": "3.12.2"
  }
 },
 "nbformat": 4,
 "nbformat_minor": 5
}
