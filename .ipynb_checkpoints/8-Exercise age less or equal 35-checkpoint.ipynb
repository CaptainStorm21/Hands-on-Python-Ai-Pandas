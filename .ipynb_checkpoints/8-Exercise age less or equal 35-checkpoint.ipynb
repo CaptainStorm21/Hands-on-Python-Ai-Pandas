{
 "cells": [
  {
   "cell_type": "code",
   "execution_count": null,
   "id": "61feadd8-0695-4fe8-b013-42fc3dcdd3da",
   "metadata": {},
   "outputs": [],
   "source": [
    "'''\n",
    "Write the following code first:\n",
    "\n",
    "import pandas as pd\n",
    " \n",
    "# Create DataFrame\n",
    "data = {\n",
    "    'age': [25, 30, 35, 40, 45],  \n",
    "    'income': [50000, 60000, 55000, 80000, 70000],  \n",
    "    'city': ['New York', 'Los Angeles', 'Chicago', 'Houston', 'Miami'],\n",
    "    'gender': ['Male', 'Female', 'Male', 'Female', 'Male']\n",
    "}\n",
    " \n",
    "df = pd.DataFrame(data)\n",
    "Filter data for ages lower than or equal to 35\n",
    "'''"
   ]
  },
  {
   "cell_type": "code",
   "execution_count": null,
   "id": "86d3e127-5dc2-4f48-96a3-494e954a513b",
   "metadata": {},
   "outputs": [],
   "source": [
    "import pandas as pd\n",
    " \n",
    "# Create DataFrame\n",
    "data = {\n",
    "    'age': [25, 30, 35, 40, 45],  \n",
    "    'income': [50000, 60000, 55000, 80000, 70000],  \n",
    "    'city': ['New York', 'Los Angeles', 'Chicago', 'Houston', 'Miami'],\n",
    "    'gender': ['Male', 'Female', 'Male', 'Female', 'Male']\n",
    "}\n",
    " \n",
    "df = pd.DataFrame(data)\n",
    "\n",
    "df= df[df['age'] <= 35]\n",
    "df"
   ]
  }
 ],
 "metadata": {
  "kernelspec": {
   "display_name": "Python 3 (ipykernel)",
   "language": "python",
   "name": "python3"
  },
  "language_info": {
   "codemirror_mode": {
    "name": "ipython",
    "version": 3
   },
   "file_extension": ".py",
   "mimetype": "text/x-python",
   "name": "python",
   "nbconvert_exporter": "python",
   "pygments_lexer": "ipython3",
   "version": "3.12.2"
  }
 },
 "nbformat": 4,
 "nbformat_minor": 5
}
