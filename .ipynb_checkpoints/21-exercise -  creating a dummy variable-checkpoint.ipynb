{
 "cells": [
  {
   "cell_type": "code",
   "execution_count": null,
   "id": "b5f60c21-abe7-4a8c-a263-60e9ba6e90e5",
   "metadata": {},
   "outputs": [],
   "source": [
    "'''\n",
    "Creating dummy variables\n",
    "Write the code first:\n",
    "\n",
    "import pandas as pd\n",
    " \n",
    "# Create a new DataFrame with a nominal variable\n",
    "data = {\n",
    "    'color': ['red', 'blue', 'green', 'blue', 'red', 'green']\n",
    "}\n",
    " \n",
    "df = pd.DataFrame(data)\n",
    "\n",
    "Create dummy variables for the variable in the dataframe.\n",
    "'''\n"
   ]
  },
  {
   "cell_type": "code",
   "execution_count": null,
   "id": "804cfd91-2bd0-4042-844b-081278167ef0",
   "metadata": {},
   "outputs": [],
   "source": [
    "import pandas as pd\n",
    " \n",
    "# Create a new DataFrame with a nominal variable\n",
    "data = {\n",
    "    'color': ['red', 'blue', 'green', 'blue', 'red', 'green']\n",
    "}\n",
    " \n",
    "df = pd.DataFrame(data)\n",
    "\n",
    "# Create dummy variables for the variable in the DataFrame\n",
    "dummy_vars = pd.get_dummies(df['color'], prefix='color')\n",
    "\n",
    "# Concatenate the dummy variables with the original DataFrame\n",
    "df = pd.concat([df, dummy_vars], axis=1)\n",
    "\n",
    "print(df)"
   ]
  }
 ],
 "metadata": {
  "kernelspec": {
   "display_name": "Python 3 (ipykernel)",
   "language": "python",
   "name": "python3"
  },
  "language_info": {
   "codemirror_mode": {
    "name": "ipython",
    "version": 3
   },
   "file_extension": ".py",
   "mimetype": "text/x-python",
   "name": "python",
   "nbconvert_exporter": "python",
   "pygments_lexer": "ipython3",
   "version": "3.12.2"
  }
 },
 "nbformat": 4,
 "nbformat_minor": 5
}
