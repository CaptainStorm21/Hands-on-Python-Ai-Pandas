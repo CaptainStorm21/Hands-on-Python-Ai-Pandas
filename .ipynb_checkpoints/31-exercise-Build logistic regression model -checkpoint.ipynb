{
 "cells": [
  {
   "cell_type": "code",
   "execution_count": 1,
   "id": "ea8107bc-9dd3-48aa-a5d8-8684ac42c48a",
   "metadata": {},
   "outputs": [
    {
     "data": {
      "text/plain": [
       "\"\\nBuild logistic regression model\\nWrite the following code first:\\n\\n\\n\\nimport pandas as pd\\nimport numpy as np\\n \\n# Create a new DataFrame for Classification\\ndata = {\\n    'X1': np.random.randint(0, 100, 100),  # Feature 1\\n    'X2': np.random.randint(0, 100, 100),  # Feature 2\\n    'y': np.random.choice([0, 1], size=100)   # Target variable (binary)\\n}\\n \\ndf = pd.DataFrame(data)\\n\\n\\nSplit the data into train and test set.\\n\\nFit a logistic regression ML model.\\n\\nPredict the y_pred based on x_test using the model.\\n\\nCalculate accuracy score.\\n\\nGenerate classification report.\\n\""
      ]
     },
     "execution_count": 1,
     "metadata": {},
     "output_type": "execute_result"
    }
   ],
   "source": [
    "'''\n",
    "Build logistic regression model\n",
    "Write the following code first:\n",
    "\n",
    "\n",
    "\n",
    "import pandas as pd\n",
    "import numpy as np\n",
    " \n",
    "# Create a new DataFrame for Classification\n",
    "data = {\n",
    "    'X1': np.random.randint(0, 100, 100),  # Feature 1\n",
    "    'X2': np.random.randint(0, 100, 100),  # Feature 2\n",
    "    'y': np.random.choice([0, 1], size=100)   # Target variable (binary)\n",
    "}\n",
    " \n",
    "df = pd.DataFrame(data)\n",
    "\n",
    "\n",
    "Split the data into train and test set.\n",
    "\n",
    "Fit a logistic regression ML model.\n",
    "\n",
    "Predict the y_pred based on x_test using the model.\n",
    "\n",
    "Calculate accuracy score.\n",
    "\n",
    "Generate classification report.\n",
    "'''"
   ]
  },
  {
   "cell_type": "code",
   "execution_count": null,
   "id": "40dc7285-b89a-4fec-b16a-6723553db181",
   "metadata": {},
   "outputs": [],
   "source": [
    "import pandas as pd\n",
    "import numpy as np\n",
    "from sklearn.model_selection import train_test_split\n",
    "from sklearn.linear_model import LogisticRegression\n",
    "from sklearn.metrics import accuracy_score, classification_report\n",
    "\n",
    "# Create a new DataFrame for Classification\n",
    "data = {\n",
    "    'X1': np.random.randint(0, 100, 100),  # Feature 1\n",
    "    'X2': np.random.randint(0, 100, 100),  # Feature 2\n",
    "    'y': np.random.choice([0, 1], size=100)   # Target variable (binary)\n",
    "}\n",
    "\n",
    "df = pd.DataFrame(data)\n",
    "\n",
    "# Split the data into train and test set\n",
    "X = df[['X1', 'X2']]\n",
    "y = df['y']\n",
    "X_train, X_test, y_train, y_test = train_test_split(X, y, test_size=0.2, random_state=42)\n",
    "\n",
    "# Fit a logistic regression ML model\n",
    "model = LogisticRegression()\n",
    "model.fit(X_train, y_train)\n",
    "\n",
    "# Predict the y_pred based on X_test using the model\n",
    "y_pred = model.predict(X_test)\n",
    "\n",
    "# Calculate accuracy score\n",
    "accuracy = accuracy_score(y_test, y_pred)\n",
    "print(\"Accuracy Score:\", accuracy)\n",
    "\n",
    "# Generate classification report\n",
    "report = classification_report(y_test, y_pred)\n",
    "print(\"Classification Report:\\n\", report)\n"
   ]
  }
 ],
 "metadata": {
  "kernelspec": {
   "display_name": "Python 3 (ipykernel)",
   "language": "python",
   "name": "python3"
  },
  "language_info": {
   "codemirror_mode": {
    "name": "ipython",
    "version": 3
   },
   "file_extension": ".py",
   "mimetype": "text/x-python",
   "name": "python",
   "nbconvert_exporter": "python",
   "pygments_lexer": "ipython3",
   "version": "3.12.2"
  }
 },
 "nbformat": 4,
 "nbformat_minor": 5
}
