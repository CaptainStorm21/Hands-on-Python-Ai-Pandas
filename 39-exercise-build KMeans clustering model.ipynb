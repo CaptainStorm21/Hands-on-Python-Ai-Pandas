{
 "cells": [
  {
   "cell_type": "code",
   "execution_count": null,
   "id": "59f07ad6-e83f-4b5a-b1e0-728656082685",
   "metadata": {},
   "outputs": [],
   "source": [
    "'''\n",
    "Build KMeans clustering model\n",
    "Write the following code first:\n",
    "\n",
    "import pandas as pd\n",
    "import numpy as np\n",
    " \n",
    "# Create a new DataFrame for KMeans Clustering\n",
    "data = {\n",
    "    'X1': np.random.randint(0, 100, 100),  # Feature 1\n",
    "    'X2': np.random.randint(0, 100, 100)   # Feature 2\n",
    "}\n",
    " \n",
    "df = pd.DataFrame(data)\n",
    "Perform KMeans clustering with n_clusters = 3\n",
    "\n",
    "Assigne clusters in the df in a new variable 'Cluster'\n",
    "\n",
    "Plot X1 and X2 in a scatterplot by clusters\n",
    "''''"
   ]
  },
  {
   "cell_type": "code",
   "execution_count": null,
   "id": "f7de4970-4fcc-46f7-8e15-1d7276a9d8e8",
   "metadata": {},
   "outputs": [],
   "source": [
    "import pandas as pd\n",
    "import numpy as np\n",
    "import matplotlib.pyplot as plt\n",
    "from sklearn.cluster import KMeans\n",
    "\n",
    "# Create a new DataFrame for KMeans Clustering\n",
    "data = {\n",
    "    'X1': np.random.randint(0, 100, 100),  # Feature 1\n",
    "    'X2': np.random.randint(0, 100, 100)   # Feature 2\n",
    "}\n",
    "\n",
    "df = pd.DataFrame(data)\n",
    "\n",
    "# Perform KMeans clustering with n_clusters = 3\n",
    "kmeans = KMeans(n_clusters=3)\n",
    "kmeans.fit(df)\n",
    "\n",
    "# Assign clusters in the df in a new variable 'Cluster'\n",
    "df['Cluster'] = kmeans.labels_\n",
    "\n",
    "# Plot X1 and X2 in a scatterplot by clusters\n",
    "plt.figure(figsize=(8, 6))\n",
    "for cluster in df['Cluster'].unique():\n",
    "    cluster_data = df[df['Cluster'] == cluster]\n",
    "    plt.scatter(cluster_data['X1'], cluster_data['X2'], label=f'Cluster {cluster}')\n",
    "\n",
    "plt.title('KMeans Clustering')\n",
    "plt.xlabel('X1')\n",
    "plt.ylabel('X2')\n",
    "plt.legend()\n",
    "plt.show()\n"
   ]
  },
  {
   "cell_type": "code",
   "execution_count": null,
   "id": "a1d3aa81-910d-4437-8729-2b5adcbb6577",
   "metadata": {},
   "outputs": [],
   "source": [
    "'''\n",
    "this code did this\n",
    "\n",
    "Create a DataFrame with random integer values for features X1 and X2.\n",
    "Perform KMeans clustering with n_clusters = 3.\n",
    "Assign clusters to the DataFrame in a new variable called 'Cluster'.\n",
    "Plot a scatterplot of X1 and X2, with each cluster represented by a different color.\n",
    "'''"
   ]
  }
 ],
 "metadata": {
  "kernelspec": {
   "display_name": "Python 3 (ipykernel)",
   "language": "python",
   "name": "python3"
  },
  "language_info": {
   "codemirror_mode": {
    "name": "ipython",
    "version": 3
   },
   "file_extension": ".py",
   "mimetype": "text/x-python",
   "name": "python",
   "nbconvert_exporter": "python",
   "pygments_lexer": "ipython3",
   "version": "3.12.2"
  }
 },
 "nbformat": 4,
 "nbformat_minor": 5
}
