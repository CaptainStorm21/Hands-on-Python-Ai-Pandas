{
 "cells": [
  {
   "cell_type": "code",
   "execution_count": null,
   "id": "c307c190-0aea-475e-8a4d-e0ddd92a03df",
   "metadata": {},
   "outputs": [],
   "source": [
    "'''\n",
    "Build KNN classification model\n",
    "Write the following code first:\n",
    "\n",
    "\n",
    "\n",
    "import pandas as pd\n",
    "import numpy as np\n",
    " \n",
    "# Create a new DataFrame for Classification\n",
    "data = {\n",
    "    'X1': np.random.randint(0, 100, 100),  # Feature 1\n",
    "    'X2': np.random.randint(0, 100, 100),  # Feature 2\n",
    "    'y': np.random.choice([0, 1], size=100)   # Target variable (binary)\n",
    "}\n",
    " \n",
    "df = pd.DataFrame(data)\n",
    "\n",
    "\n",
    "Split the data into train and test set.\n",
    "\n",
    "Fit a KNN classification ML model.\n",
    "\n",
    "Predict the y_pred based on x_test using the model.\n",
    "\n",
    "Calculate accuracy score.\n",
    "\n",
    "Generate classification report.\n",
    "''''"
   ]
  },
  {
   "cell_type": "code",
   "execution_count": null,
   "id": "b226d17c-5cf5-466c-819c-254c47d4165e",
   "metadata": {},
   "outputs": [],
   "source": [
    "import pandas as pd\n",
    "import numpy as np\n",
    "from sklearn.model_selection import train_test_split\n",
    "from sklearn.neighbors import KNeighborsClassifier\n",
    "from sklearn.metrics import accuracy_score, classification_report\n",
    "\n",
    "# Create a new DataFrame for Classification\n",
    "data = {\n",
    "    'X1': np.random.randint(0, 100, 100),  # Feature 1\n",
    "    'X2': np.random.randint(0, 100, 100),  # Feature 2\n",
    "    'y': np.random.choice([0, 1], size=100)   # Target variable (binary)\n",
    "}\n",
    "\n",
    "df = pd.DataFrame(data)\n",
    "\n",
    "# Split the data into train and test set\n",
    "X = df[['X1', 'X2']]\n",
    "y = df['y']\n",
    "X_train, X_test, y_train, y_test = train_test_split(X, y, test_size=0.2, random_state=42)\n",
    "\n",
    "# Fit a KNN classification ML model\n",
    "model = KNeighborsClassifier()\n",
    "model.fit(X_train, y_train)\n",
    "\n",
    "# Predict the y_pred based on X_test using the model\n",
    "y_pred = model.predict(X_test)\n",
    "\n",
    "# Calculate accuracy score\n",
    "accuracy = accuracy_score(y_test, y_pred)\n",
    "print(\"Accuracy Score:\", accuracy)\n",
    "\n",
    "# Generate classification report\n",
    "report = classification_report(y_test, y_pred)\n",
    "print(\"Classification Report:\\n\", report)\n"
   ]
  },
  {
   "cell_type": "code",
   "execution_count": null,
   "id": "277c3384-3c90-46c1-8b11-6045b48d1ad9",
   "metadata": {},
   "outputs": [],
   "source": [
    "'''\n",
    "Create a DataFrame with random integer values for features X1 and X2, and binary target variable y.\n",
    "Split the data into training and testing sets (80% train, 20% test).\n",
    "Fit a KNN classification model on the training data.\n",
    "Make predictions on the test data.\n",
    "Calculate the accuracy score of the model.\n",
    "Generate a classification report containing precision, recall, F1-score, and support for each class.\n",
    "'''"
   ]
  }
 ],
 "metadata": {
  "kernelspec": {
   "display_name": "Python 3 (ipykernel)",
   "language": "python",
   "name": "python3"
  },
  "language_info": {
   "codemirror_mode": {
    "name": "ipython",
    "version": 3
   },
   "file_extension": ".py",
   "mimetype": "text/x-python",
   "name": "python",
   "nbconvert_exporter": "python",
   "pygments_lexer": "ipython3",
   "version": "3.12.2"
  }
 },
 "nbformat": 4,
 "nbformat_minor": 5
}
