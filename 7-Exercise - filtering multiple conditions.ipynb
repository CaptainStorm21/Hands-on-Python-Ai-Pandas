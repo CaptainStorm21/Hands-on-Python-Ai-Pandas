{
 "cells": [
  {
   "cell_type": "code",
   "execution_count": null,
   "id": "fab2d85a-b213-4105-96c8-507e05d68772",
   "metadata": {},
   "outputs": [],
   "source": [
    "'''#Filter data exclude 'clothing' category\n",
    "filtered_data_exclude_clothing = df[df['category'] !='Clothing']\n",
    "\n",
    "# Display filtered data \n",
    "filtered_data_exclude_clothing'''\n",
    "\n",
    "# Filter the dataframe by income higher than 60,000.\n",
    "\n",
    "import pandas as pd\n",
    " \n",
    "# Create DataFrame\n",
    "data = {\n",
    "    'age': [25, 30, 35, 40, 45],  \n",
    "    'income': [50000, 60000, 55000, 80000, 70000],  \n",
    "    'city': ['New York', 'Los Angeles', 'Chicago', 'Houston', 'Miami'],\n",
    "    'gender': ['Male', 'Female', 'Male', 'Female', 'Male']\n",
    "}\n",
    " \n",
    "df = pd.DataFrame(data)\n",
    "\n",
    "df= df[df['income'] > '60000']\n",
    "df\n",
    "\n"
   ]
  }
 ],
 "metadata": {
  "kernelspec": {
   "display_name": "Python 3 (ipykernel)",
   "language": "python",
   "name": "python3"
  },
  "language_info": {
   "codemirror_mode": {
    "name": "ipython",
    "version": 3
   },
   "file_extension": ".py",
   "mimetype": "text/x-python",
   "name": "python",
   "nbconvert_exporter": "python",
   "pygments_lexer": "ipython3",
   "version": "3.12.2"
  }
 },
 "nbformat": 4,
 "nbformat_minor": 5
}
