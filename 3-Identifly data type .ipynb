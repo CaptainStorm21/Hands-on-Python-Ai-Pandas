{
 "cells": [
  {
   "cell_type": "code",
   "execution_count": 28,
   "id": "66767032-27f2-47ee-8908-169cf107859b",
   "metadata": {},
   "outputs": [],
   "source": [
    "import pandas as pd\n",
    "\n",
    "# Specify the file path\n",
    "excel_file = 'sales data.xlsx'\n",
    "\n",
    "# Load the Excel file into a DataFrame\n",
    "df = pd.read_excel(excel_file)"
   ]
  },
  {
   "cell_type": "code",
   "execution_count": 30,
   "id": "37f942e0-6ec9-446a-968c-7aaa11e4b087",
   "metadata": {},
   "outputs": [],
   "source": [
    "# Sample Variable containing mixed data\n",
    "mixed_data = df['cost']"
   ]
  },
  {
   "cell_type": "code",
   "execution_count": 34,
   "id": "d66e35e5-f68b-40b3-8526-f78213480d1f",
   "metadata": {},
   "outputs": [],
   "source": [
    "# create an empty list to store non-numeric values\n",
    "non_numeric_values = []"
   ]
  },
  {
   "cell_type": "code",
   "execution_count": 35,
   "id": "c414e339-fe83-4a17-a431-f34b5320a94d",
   "metadata": {},
   "outputs": [],
   "source": [
    "# Interate through the elements in the variable\n",
    "for value in mixed_data:\n",
    "    if isinstance(value, str) and not value.isnumeric():\n",
    "        non_numeric_values.append(value)\n"
   ]
  },
  {
   "cell_type": "code",
   "execution_count": 36,
   "id": "6cd70203-35bd-4ec3-9b2a-fdb2364dfb13",
   "metadata": {},
   "outputs": [
    {
     "name": "stdout",
     "output_type": "stream",
     "text": [
      "Non-numeric Values: \n",
      "['XXX']\n"
     ]
    }
   ],
   "source": [
    "# Print the non-numeric values\n",
    "print(\"Non-numeric Values: \")\n",
    "print(non_numeric_values)\n",
    "\n"
   ]
  },
  {
   "cell_type": "code",
   "execution_count": null,
   "id": "5037d79c-2ee7-4289-b29a-b392a384bcec",
   "metadata": {},
   "outputs": [],
   "source": []
  },
  {
   "cell_type": "code",
   "execution_count": null,
   "id": "18b905b2-4620-412f-a56b-7642752dc831",
   "metadata": {},
   "outputs": [],
   "source": []
  }
 ],
 "metadata": {
  "kernelspec": {
   "display_name": "Python 3 (ipykernel)",
   "language": "python",
   "name": "python3"
  },
  "language_info": {
   "codemirror_mode": {
    "name": "ipython",
    "version": 3
   },
   "file_extension": ".py",
   "mimetype": "text/x-python",
   "name": "python",
   "nbconvert_exporter": "python",
   "pygments_lexer": "ipython3",
   "version": "3.12.2"
  }
 },
 "nbformat": 4,
 "nbformat_minor": 5
}
