{
 "cells": [
  {
   "cell_type": "code",
   "execution_count": 1,
   "id": "f8f10f82-ce6b-43a9-b6b4-e1c5850893ea",
   "metadata": {},
   "outputs": [
    {
     "data": {
      "text/html": [
       "<div>\n",
       "<style scoped>\n",
       "    .dataframe tbody tr th:only-of-type {\n",
       "        vertical-align: middle;\n",
       "    }\n",
       "\n",
       "    .dataframe tbody tr th {\n",
       "        vertical-align: top;\n",
       "    }\n",
       "\n",
       "    .dataframe thead th {\n",
       "        text-align: right;\n",
       "    }\n",
       "</style>\n",
       "<table border=\"1\" class=\"dataframe\">\n",
       "  <thead>\n",
       "    <tr style=\"text-align: right;\">\n",
       "      <th></th>\n",
       "      <th>country</th>\n",
       "      <th>order_value_EUR</th>\n",
       "      <th>cost</th>\n",
       "      <th>date</th>\n",
       "      <th>category</th>\n",
       "      <th>customer_name</th>\n",
       "      <th>sales_manager</th>\n",
       "      <th>sales_rep</th>\n",
       "      <th>device_type</th>\n",
       "      <th>order_id</th>\n",
       "    </tr>\n",
       "  </thead>\n",
       "  <tbody>\n",
       "    <tr>\n",
       "      <th>0</th>\n",
       "      <td>Sweden</td>\n",
       "      <td>98320.37</td>\n",
       "      <td>77722.25</td>\n",
       "      <td>8/23/2020</td>\n",
       "      <td>Games</td>\n",
       "      <td>Konopelski LLC</td>\n",
       "      <td>Maxie Marrow</td>\n",
       "      <td>Tarrah Castelletti</td>\n",
       "      <td>Tablet</td>\n",
       "      <td>70-0511466</td>\n",
       "    </tr>\n",
       "    <tr>\n",
       "      <th>1</th>\n",
       "      <td>France</td>\n",
       "      <td>46296.26</td>\n",
       "      <td>40319.41</td>\n",
       "      <td>5/15/2020</td>\n",
       "      <td>Games</td>\n",
       "      <td>Wisoky Inc</td>\n",
       "      <td>Othello Bowes</td>\n",
       "      <td>Amelina Piscopiello</td>\n",
       "      <td>Tablet</td>\n",
       "      <td>77-3489084</td>\n",
       "    </tr>\n",
       "    <tr>\n",
       "      <th>2</th>\n",
       "      <td>Portugal</td>\n",
       "      <td>140337.34</td>\n",
       "      <td>115708.14</td>\n",
       "      <td>2020-04-09 00:00:00</td>\n",
       "      <td>Appliances</td>\n",
       "      <td>Hegmann Group</td>\n",
       "      <td>Celine Tumasian</td>\n",
       "      <td>Corene Shirer</td>\n",
       "      <td>PC</td>\n",
       "      <td>65-8218141</td>\n",
       "    </tr>\n",
       "    <tr>\n",
       "      <th>3</th>\n",
       "      <td>France</td>\n",
       "      <td>203604.46</td>\n",
       "      <td>175344.16</td>\n",
       "      <td>6/26/2019</td>\n",
       "      <td>Electronics</td>\n",
       "      <td>Kirlin and Sons</td>\n",
       "      <td>Othello Bowes</td>\n",
       "      <td>Crysta Halls</td>\n",
       "      <td>Mobile</td>\n",
       "      <td>29-5478106</td>\n",
       "    </tr>\n",
       "    <tr>\n",
       "      <th>4</th>\n",
       "      <td>UK</td>\n",
       "      <td>63979.04</td>\n",
       "      <td>56032.84</td>\n",
       "      <td>10/22/2019</td>\n",
       "      <td>Games</td>\n",
       "      <td>Schoen-Keeling</td>\n",
       "      <td>Jessamine Apark</td>\n",
       "      <td>Genevra Charrisson</td>\n",
       "      <td>PC</td>\n",
       "      <td>27-3437546</td>\n",
       "    </tr>\n",
       "  </tbody>\n",
       "</table>\n",
       "</div>"
      ],
      "text/plain": [
       "    country  order_value_EUR       cost                 date     category  \\\n",
       "0    Sweden         98320.37   77722.25            8/23/2020        Games   \n",
       "1    France         46296.26   40319.41            5/15/2020        Games   \n",
       "2  Portugal        140337.34  115708.14  2020-04-09 00:00:00   Appliances   \n",
       "3    France        203604.46  175344.16            6/26/2019  Electronics   \n",
       "4        UK         63979.04   56032.84           10/22/2019        Games   \n",
       "\n",
       "     customer_name    sales_manager            sales_rep device_type  \\\n",
       "0   Konopelski LLC     Maxie Marrow   Tarrah Castelletti      Tablet   \n",
       "1       Wisoky Inc    Othello Bowes  Amelina Piscopiello      Tablet   \n",
       "2    Hegmann Group  Celine Tumasian        Corene Shirer          PC   \n",
       "3  Kirlin and Sons    Othello Bowes         Crysta Halls      Mobile   \n",
       "4   Schoen-Keeling  Jessamine Apark   Genevra Charrisson          PC   \n",
       "\n",
       "     order_id  \n",
       "0  70-0511466  \n",
       "1  77-3489084  \n",
       "2  65-8218141  \n",
       "3  29-5478106  \n",
       "4  27-3437546  "
      ]
     },
     "execution_count": 1,
     "metadata": {},
     "output_type": "execute_result"
    }
   ],
   "source": [
    "import pandas as pd\n",
    "from sklearn.preprocessing import StandardScaler\n",
    "\n",
    "# Replace 'your_file.xlsx' with the path to your Excel file\n",
    "sales_data = 'sales data.xlsx'\n",
    "\n",
    "# Read the Excel file into a pandas DataFrame\n",
    "final_df = pd.read_excel(sales_data)\n",
    "\n",
    "# Now you can work with the DataFrame 'df'\n",
    "final_df.head()  # Display the first few rows of the DataFrame\n",
    "\n"
   ]
  },
  {
   "cell_type": "code",
   "execution_count": 2,
   "id": "894b6246-c79f-46f4-a656-d944bc19843f",
   "metadata": {},
   "outputs": [],
   "source": [
    "# Create a pivot table with median sales, median cost, and purchase frequency by customers\n",
    "pivot_table = final_df.pivot_table(\n",
    "                              index='customer_name', \n",
    "                              values=['order_value_EUR', 'cost'], \n",
    "                              aggfunc={'order_value_EUR': 'median', 'cost': 'median', 'customer_name': 'count'})\n",
    "\n",
    "# Rename the 'Customer' column to 'Purchase Frequency'\n",
    "pivot_table.columns=['Median Cost', 'Purchase Frequency', 'Median Cost']\n"
   ]
  },
  {
   "cell_type": "code",
   "execution_count": 3,
   "id": "dcb4e909-a4e2-4fb1-a463-e3008f6a4b64",
   "metadata": {},
   "outputs": [
    {
     "name": "stdout",
     "output_type": "stream",
     "text": [
      "                    Median Cost  Purchase Frequency   Median Cost\n",
      "customer_name                                                    \n",
      "Hegmann Group         115708.14                   1  1.403373e+05\n",
      "Kirlin and Sons       249788.24                   2  5.009896e+07\n",
      "Konopelski LLC         77722.25                   1  9.832037e+04\n",
      "Labadie and Sons      110924.13                   1  1.270754e+05\n",
      "Romaguera-Dietrich     55529.13                   3  6.968143e+04\n",
      "Schoen-Keeling         56032.84                   1  6.397904e+04\n",
      "Wisoky Inc             40319.41                   1  4.629626e+04\n"
     ]
    }
   ],
   "source": [
    "# Print the pivot table\n",
    "print(pivot_table)"
   ]
  },
  {
   "cell_type": "code",
   "execution_count": 4,
   "id": "c0009dbe-05f0-4fdf-aea4-9759af6c9f1f",
   "metadata": {},
   "outputs": [],
   "source": [
    "sorted_pivot_table = pivot_table.sort_values(by = 'Purchase Frequency', ascending=False)"
   ]
  },
  {
   "cell_type": "code",
   "execution_count": 5,
   "id": "a0b160f1-f622-420a-ac43-102e95fbdfa6",
   "metadata": {},
   "outputs": [
    {
     "data": {
      "text/html": [
       "<div>\n",
       "<style scoped>\n",
       "    .dataframe tbody tr th:only-of-type {\n",
       "        vertical-align: middle;\n",
       "    }\n",
       "\n",
       "    .dataframe tbody tr th {\n",
       "        vertical-align: top;\n",
       "    }\n",
       "\n",
       "    .dataframe thead th {\n",
       "        text-align: right;\n",
       "    }\n",
       "</style>\n",
       "<table border=\"1\" class=\"dataframe\">\n",
       "  <thead>\n",
       "    <tr style=\"text-align: right;\">\n",
       "      <th></th>\n",
       "      <th>Median Cost</th>\n",
       "      <th>Purchase Frequency</th>\n",
       "      <th>Median Cost</th>\n",
       "    </tr>\n",
       "    <tr>\n",
       "      <th>customer_name</th>\n",
       "      <th></th>\n",
       "      <th></th>\n",
       "      <th></th>\n",
       "    </tr>\n",
       "  </thead>\n",
       "  <tbody>\n",
       "    <tr>\n",
       "      <th>Romaguera-Dietrich</th>\n",
       "      <td>55529.13</td>\n",
       "      <td>3</td>\n",
       "      <td>6.968143e+04</td>\n",
       "    </tr>\n",
       "    <tr>\n",
       "      <th>Kirlin and Sons</th>\n",
       "      <td>249788.24</td>\n",
       "      <td>2</td>\n",
       "      <td>5.009896e+07</td>\n",
       "    </tr>\n",
       "    <tr>\n",
       "      <th>Hegmann Group</th>\n",
       "      <td>115708.14</td>\n",
       "      <td>1</td>\n",
       "      <td>1.403373e+05</td>\n",
       "    </tr>\n",
       "    <tr>\n",
       "      <th>Konopelski LLC</th>\n",
       "      <td>77722.25</td>\n",
       "      <td>1</td>\n",
       "      <td>9.832037e+04</td>\n",
       "    </tr>\n",
       "    <tr>\n",
       "      <th>Labadie and Sons</th>\n",
       "      <td>110924.13</td>\n",
       "      <td>1</td>\n",
       "      <td>1.270754e+05</td>\n",
       "    </tr>\n",
       "    <tr>\n",
       "      <th>Schoen-Keeling</th>\n",
       "      <td>56032.84</td>\n",
       "      <td>1</td>\n",
       "      <td>6.397904e+04</td>\n",
       "    </tr>\n",
       "    <tr>\n",
       "      <th>Wisoky Inc</th>\n",
       "      <td>40319.41</td>\n",
       "      <td>1</td>\n",
       "      <td>4.629626e+04</td>\n",
       "    </tr>\n",
       "  </tbody>\n",
       "</table>\n",
       "</div>"
      ],
      "text/plain": [
       "                    Median Cost  Purchase Frequency   Median Cost\n",
       "customer_name                                                    \n",
       "Romaguera-Dietrich     55529.13                   3  6.968143e+04\n",
       "Kirlin and Sons       249788.24                   2  5.009896e+07\n",
       "Hegmann Group         115708.14                   1  1.403373e+05\n",
       "Konopelski LLC         77722.25                   1  9.832037e+04\n",
       "Labadie and Sons      110924.13                   1  1.270754e+05\n",
       "Schoen-Keeling         56032.84                   1  6.397904e+04\n",
       "Wisoky Inc             40319.41                   1  4.629626e+04"
      ]
     },
     "execution_count": 5,
     "metadata": {},
     "output_type": "execute_result"
    }
   ],
   "source": [
    "sorted_pivot_table"
   ]
  },
  {
   "cell_type": "code",
   "execution_count": 6,
   "id": "90850a50-0988-4d0b-8fb0-3e5def30a604",
   "metadata": {},
   "outputs": [
    {
     "data": {
      "text/html": [
       "<div>\n",
       "<style scoped>\n",
       "    .dataframe tbody tr th:only-of-type {\n",
       "        vertical-align: middle;\n",
       "    }\n",
       "\n",
       "    .dataframe tbody tr th {\n",
       "        vertical-align: top;\n",
       "    }\n",
       "\n",
       "    .dataframe thead th {\n",
       "        text-align: right;\n",
       "    }\n",
       "</style>\n",
       "<table border=\"1\" class=\"dataframe\">\n",
       "  <thead>\n",
       "    <tr style=\"text-align: right;\">\n",
       "      <th></th>\n",
       "      <th>Median Cost</th>\n",
       "      <th>Purchase Frequency</th>\n",
       "      <th>Median Cost</th>\n",
       "    </tr>\n",
       "    <tr>\n",
       "      <th>customer_name</th>\n",
       "      <th></th>\n",
       "      <th></th>\n",
       "      <th></th>\n",
       "    </tr>\n",
       "  </thead>\n",
       "  <tbody>\n",
       "    <tr>\n",
       "      <th>Romaguera-Dietrich</th>\n",
       "      <td>55529.13</td>\n",
       "      <td>3</td>\n",
       "      <td>6.968143e+04</td>\n",
       "    </tr>\n",
       "    <tr>\n",
       "      <th>Kirlin and Sons</th>\n",
       "      <td>249788.24</td>\n",
       "      <td>2</td>\n",
       "      <td>5.009896e+07</td>\n",
       "    </tr>\n",
       "    <tr>\n",
       "      <th>Hegmann Group</th>\n",
       "      <td>115708.14</td>\n",
       "      <td>1</td>\n",
       "      <td>1.403373e+05</td>\n",
       "    </tr>\n",
       "    <tr>\n",
       "      <th>Konopelski LLC</th>\n",
       "      <td>77722.25</td>\n",
       "      <td>1</td>\n",
       "      <td>9.832037e+04</td>\n",
       "    </tr>\n",
       "  </tbody>\n",
       "</table>\n",
       "</div>"
      ],
      "text/plain": [
       "                    Median Cost  Purchase Frequency   Median Cost\n",
       "customer_name                                                    \n",
       "Romaguera-Dietrich     55529.13                   3  6.968143e+04\n",
       "Kirlin and Sons       249788.24                   2  5.009896e+07\n",
       "Hegmann Group         115708.14                   1  1.403373e+05\n",
       "Konopelski LLC         77722.25                   1  9.832037e+04"
      ]
     },
     "execution_count": 6,
     "metadata": {},
     "output_type": "execute_result"
    }
   ],
   "source": [
    "# sort by range\n",
    "top_4 = sorted_pivot_table[0:4]\n",
    "top_4"
   ]
  },
  {
   "cell_type": "code",
   "execution_count": 7,
   "id": "a5e3c43b-57cf-43cd-a068-baeeb5b56948",
   "metadata": {},
   "outputs": [
    {
     "data": {
      "text/plain": [
       "Index(['Romaguera-Dietrich', 'Kirlin and Sons', 'Hegmann Group',\n",
       "       'Konopelski LLC'],\n",
       "      dtype='object', name='customer_name')"
      ]
     },
     "execution_count": 7,
     "metadata": {},
     "output_type": "execute_result"
    }
   ],
   "source": [
    "top_4.index"
   ]
  },
  {
   "cell_type": "code",
   "execution_count": 8,
   "id": "1210677d-9649-41b2-a401-eeddd361b3b2",
   "metadata": {},
   "outputs": [],
   "source": [
    "\n",
    "# List of special customer names\n",
    "loyal_customer_names = ['Romaguera-Dietrich', 'Kirlin and Sons', 'Hegmann Group', 'Konopelski LLC']\n",
    "\n",
    "# Function to assign customer type\n",
    "def customer_type(name):\n",
    "    if name in loyal_customer_names:\n",
    "        return 'Loyal customer'\n",
    "    else:\n",
    "        return 'Regular customer'\n",
    "\n",
    "# Assigning new variable 'customer_type'\n",
    "final_df['customer_type'] = final_df['customer_name'].apply(customer_type)"
   ]
  },
  {
   "cell_type": "code",
   "execution_count": 9,
   "id": "06ceac12-3834-4f9a-9dda-d55bd7eb76d5",
   "metadata": {},
   "outputs": [
    {
     "data": {
      "text/html": [
       "<div>\n",
       "<style scoped>\n",
       "    .dataframe tbody tr th:only-of-type {\n",
       "        vertical-align: middle;\n",
       "    }\n",
       "\n",
       "    .dataframe tbody tr th {\n",
       "        vertical-align: top;\n",
       "    }\n",
       "\n",
       "    .dataframe thead th {\n",
       "        text-align: right;\n",
       "    }\n",
       "</style>\n",
       "<table border=\"1\" class=\"dataframe\">\n",
       "  <thead>\n",
       "    <tr style=\"text-align: right;\">\n",
       "      <th></th>\n",
       "      <th>country</th>\n",
       "      <th>order_value_EUR</th>\n",
       "      <th>cost</th>\n",
       "      <th>date</th>\n",
       "      <th>category</th>\n",
       "      <th>customer_name</th>\n",
       "      <th>sales_manager</th>\n",
       "      <th>sales_rep</th>\n",
       "      <th>device_type</th>\n",
       "      <th>order_id</th>\n",
       "      <th>customer_type</th>\n",
       "    </tr>\n",
       "  </thead>\n",
       "  <tbody>\n",
       "    <tr>\n",
       "      <th>0</th>\n",
       "      <td>Sweden</td>\n",
       "      <td>98320.37</td>\n",
       "      <td>77722.25</td>\n",
       "      <td>8/23/2020</td>\n",
       "      <td>Games</td>\n",
       "      <td>Konopelski LLC</td>\n",
       "      <td>Maxie Marrow</td>\n",
       "      <td>Tarrah Castelletti</td>\n",
       "      <td>Tablet</td>\n",
       "      <td>70-0511466</td>\n",
       "      <td>Loyal customer</td>\n",
       "    </tr>\n",
       "    <tr>\n",
       "      <th>1</th>\n",
       "      <td>France</td>\n",
       "      <td>46296.26</td>\n",
       "      <td>40319.41</td>\n",
       "      <td>5/15/2020</td>\n",
       "      <td>Games</td>\n",
       "      <td>Wisoky Inc</td>\n",
       "      <td>Othello Bowes</td>\n",
       "      <td>Amelina Piscopiello</td>\n",
       "      <td>Tablet</td>\n",
       "      <td>77-3489084</td>\n",
       "      <td>Regular customer</td>\n",
       "    </tr>\n",
       "    <tr>\n",
       "      <th>2</th>\n",
       "      <td>Portugal</td>\n",
       "      <td>140337.34</td>\n",
       "      <td>115708.14</td>\n",
       "      <td>2020-04-09 00:00:00</td>\n",
       "      <td>Appliances</td>\n",
       "      <td>Hegmann Group</td>\n",
       "      <td>Celine Tumasian</td>\n",
       "      <td>Corene Shirer</td>\n",
       "      <td>PC</td>\n",
       "      <td>65-8218141</td>\n",
       "      <td>Loyal customer</td>\n",
       "    </tr>\n",
       "    <tr>\n",
       "      <th>3</th>\n",
       "      <td>France</td>\n",
       "      <td>203604.46</td>\n",
       "      <td>175344.16</td>\n",
       "      <td>6/26/2019</td>\n",
       "      <td>Electronics</td>\n",
       "      <td>Kirlin and Sons</td>\n",
       "      <td>Othello Bowes</td>\n",
       "      <td>Crysta Halls</td>\n",
       "      <td>Mobile</td>\n",
       "      <td>29-5478106</td>\n",
       "      <td>Loyal customer</td>\n",
       "    </tr>\n",
       "    <tr>\n",
       "      <th>4</th>\n",
       "      <td>UK</td>\n",
       "      <td>63979.04</td>\n",
       "      <td>56032.84</td>\n",
       "      <td>10/22/2019</td>\n",
       "      <td>Games</td>\n",
       "      <td>Schoen-Keeling</td>\n",
       "      <td>Jessamine Apark</td>\n",
       "      <td>Genevra Charrisson</td>\n",
       "      <td>PC</td>\n",
       "      <td>27-3437546</td>\n",
       "      <td>Regular customer</td>\n",
       "    </tr>\n",
       "  </tbody>\n",
       "</table>\n",
       "</div>"
      ],
      "text/plain": [
       "    country  order_value_EUR       cost                 date     category  \\\n",
       "0    Sweden         98320.37   77722.25            8/23/2020        Games   \n",
       "1    France         46296.26   40319.41            5/15/2020        Games   \n",
       "2  Portugal        140337.34  115708.14  2020-04-09 00:00:00   Appliances   \n",
       "3    France        203604.46  175344.16            6/26/2019  Electronics   \n",
       "4        UK         63979.04   56032.84           10/22/2019        Games   \n",
       "\n",
       "     customer_name    sales_manager            sales_rep device_type  \\\n",
       "0   Konopelski LLC     Maxie Marrow   Tarrah Castelletti      Tablet   \n",
       "1       Wisoky Inc    Othello Bowes  Amelina Piscopiello      Tablet   \n",
       "2    Hegmann Group  Celine Tumasian        Corene Shirer          PC   \n",
       "3  Kirlin and Sons    Othello Bowes         Crysta Halls      Mobile   \n",
       "4   Schoen-Keeling  Jessamine Apark   Genevra Charrisson          PC   \n",
       "\n",
       "     order_id     customer_type  \n",
       "0  70-0511466    Loyal customer  \n",
       "1  77-3489084  Regular customer  \n",
       "2  65-8218141    Loyal customer  \n",
       "3  29-5478106    Loyal customer  \n",
       "4  27-3437546  Regular customer  "
      ]
     },
     "execution_count": 9,
     "metadata": {},
     "output_type": "execute_result"
    }
   ],
   "source": [
    "final_df.head()"
   ]
  },
  {
   "cell_type": "code",
   "execution_count": 10,
   "id": "9046f751-d876-4f33-8827-2c3d1531e4c6",
   "metadata": {},
   "outputs": [
    {
     "data": {
      "text/plain": [
       "customer_type\n",
       "Loyal customer      7\n",
       "Regular customer    3\n",
       "Name: count, dtype: int64"
      ]
     },
     "execution_count": 10,
     "metadata": {},
     "output_type": "execute_result"
    }
   ],
   "source": [
    "final_df['customer_type'].value_counts()"
   ]
  },
  {
   "cell_type": "code",
   "execution_count": 11,
   "id": "7cc280f6-6ff0-41b2-861d-cda632b0ebca",
   "metadata": {},
   "outputs": [],
   "source": [
    "# Give me a python code to extract day, month and a year form date variable in a dataframe"
   ]
  },
  {
   "cell_type": "raw",
   "id": "67887405-221f-4f7d-87c1-8c0151a0ff33",
   "metadata": {},
   "source": [
    "# Convert 'date' column to datetime type\n",
    "final_df['date'] = pd.to_datetime(final_df['date'])\n",
    "\n",
    "# Extract day, month, and year\n",
    "final_df['day'] = final_df['date'].dt.day\n",
    "final_df['month'] = final_df['date'].dt.month\n",
    "final_df['year'] = final_df['date'].dt.year\n",
    "\n",
    "final_df.head()\n",
    "final_df['year'].value_counts()"
   ]
  },
  {
   "cell_type": "code",
   "execution_count": 12,
   "id": "5eec806a-ab8c-47c5-8f4c-7c2f6108a7fb",
   "metadata": {},
   "outputs": [],
   "source": [
    "# Give me a python code to assign 1 for \"loyal customer\" and 0 for \"regular customer\" in a variable CustomerType in a dataframe"
   ]
  },
  {
   "cell_type": "code",
   "execution_count": 13,
   "id": "3a9452f8-c394-4428-bb87-7a9b21bc0e31",
   "metadata": {},
   "outputs": [
    {
     "name": "stderr",
     "output_type": "stream",
     "text": [
      "C:\\Users\\Gennie\\AppData\\Local\\Temp\\ipykernel_11960\\57327186.py:1: FutureWarning: Downcasting behavior in `replace` is deprecated and will be removed in a future version. To retain the old behavior, explicitly call `result.infer_objects(copy=False)`. To opt-in to the future behavior, set `pd.set_option('future.no_silent_downcasting', True)`\n",
      "  final_df['Customer_Type_encoded'] = final_df['customer_type'].replace({'Loyal customer': 1, 'Regular customer': 0})\n"
     ]
    }
   ],
   "source": [
    "final_df['Customer_Type_encoded'] = final_df['customer_type'].replace({'Loyal customer': 1, 'Regular customer': 0})"
   ]
  },
  {
   "cell_type": "code",
   "execution_count": 14,
   "id": "376e1e88-f203-47f0-97c3-0f2cf798d954",
   "metadata": {},
   "outputs": [
    {
     "data": {
      "text/html": [
       "<div>\n",
       "<style scoped>\n",
       "    .dataframe tbody tr th:only-of-type {\n",
       "        vertical-align: middle;\n",
       "    }\n",
       "\n",
       "    .dataframe tbody tr th {\n",
       "        vertical-align: top;\n",
       "    }\n",
       "\n",
       "    .dataframe thead th {\n",
       "        text-align: right;\n",
       "    }\n",
       "</style>\n",
       "<table border=\"1\" class=\"dataframe\">\n",
       "  <thead>\n",
       "    <tr style=\"text-align: right;\">\n",
       "      <th></th>\n",
       "      <th>country</th>\n",
       "      <th>order_value_EUR</th>\n",
       "      <th>cost</th>\n",
       "      <th>date</th>\n",
       "      <th>category</th>\n",
       "      <th>customer_name</th>\n",
       "      <th>sales_manager</th>\n",
       "      <th>sales_rep</th>\n",
       "      <th>device_type</th>\n",
       "      <th>order_id</th>\n",
       "      <th>customer_type</th>\n",
       "      <th>Customer_Type_encoded</th>\n",
       "    </tr>\n",
       "  </thead>\n",
       "  <tbody>\n",
       "    <tr>\n",
       "      <th>0</th>\n",
       "      <td>Sweden</td>\n",
       "      <td>98320.37</td>\n",
       "      <td>77722.25</td>\n",
       "      <td>8/23/2020</td>\n",
       "      <td>Games</td>\n",
       "      <td>Konopelski LLC</td>\n",
       "      <td>Maxie Marrow</td>\n",
       "      <td>Tarrah Castelletti</td>\n",
       "      <td>Tablet</td>\n",
       "      <td>70-0511466</td>\n",
       "      <td>Loyal customer</td>\n",
       "      <td>1</td>\n",
       "    </tr>\n",
       "    <tr>\n",
       "      <th>1</th>\n",
       "      <td>France</td>\n",
       "      <td>46296.26</td>\n",
       "      <td>40319.41</td>\n",
       "      <td>5/15/2020</td>\n",
       "      <td>Games</td>\n",
       "      <td>Wisoky Inc</td>\n",
       "      <td>Othello Bowes</td>\n",
       "      <td>Amelina Piscopiello</td>\n",
       "      <td>Tablet</td>\n",
       "      <td>77-3489084</td>\n",
       "      <td>Regular customer</td>\n",
       "      <td>0</td>\n",
       "    </tr>\n",
       "    <tr>\n",
       "      <th>2</th>\n",
       "      <td>Portugal</td>\n",
       "      <td>140337.34</td>\n",
       "      <td>115708.14</td>\n",
       "      <td>2020-04-09 00:00:00</td>\n",
       "      <td>Appliances</td>\n",
       "      <td>Hegmann Group</td>\n",
       "      <td>Celine Tumasian</td>\n",
       "      <td>Corene Shirer</td>\n",
       "      <td>PC</td>\n",
       "      <td>65-8218141</td>\n",
       "      <td>Loyal customer</td>\n",
       "      <td>1</td>\n",
       "    </tr>\n",
       "    <tr>\n",
       "      <th>3</th>\n",
       "      <td>France</td>\n",
       "      <td>203604.46</td>\n",
       "      <td>175344.16</td>\n",
       "      <td>6/26/2019</td>\n",
       "      <td>Electronics</td>\n",
       "      <td>Kirlin and Sons</td>\n",
       "      <td>Othello Bowes</td>\n",
       "      <td>Crysta Halls</td>\n",
       "      <td>Mobile</td>\n",
       "      <td>29-5478106</td>\n",
       "      <td>Loyal customer</td>\n",
       "      <td>1</td>\n",
       "    </tr>\n",
       "    <tr>\n",
       "      <th>4</th>\n",
       "      <td>UK</td>\n",
       "      <td>63979.04</td>\n",
       "      <td>56032.84</td>\n",
       "      <td>10/22/2019</td>\n",
       "      <td>Games</td>\n",
       "      <td>Schoen-Keeling</td>\n",
       "      <td>Jessamine Apark</td>\n",
       "      <td>Genevra Charrisson</td>\n",
       "      <td>PC</td>\n",
       "      <td>27-3437546</td>\n",
       "      <td>Regular customer</td>\n",
       "      <td>0</td>\n",
       "    </tr>\n",
       "  </tbody>\n",
       "</table>\n",
       "</div>"
      ],
      "text/plain": [
       "    country  order_value_EUR       cost                 date     category  \\\n",
       "0    Sweden         98320.37   77722.25            8/23/2020        Games   \n",
       "1    France         46296.26   40319.41            5/15/2020        Games   \n",
       "2  Portugal        140337.34  115708.14  2020-04-09 00:00:00   Appliances   \n",
       "3    France        203604.46  175344.16            6/26/2019  Electronics   \n",
       "4        UK         63979.04   56032.84           10/22/2019        Games   \n",
       "\n",
       "     customer_name    sales_manager            sales_rep device_type  \\\n",
       "0   Konopelski LLC     Maxie Marrow   Tarrah Castelletti      Tablet   \n",
       "1       Wisoky Inc    Othello Bowes  Amelina Piscopiello      Tablet   \n",
       "2    Hegmann Group  Celine Tumasian        Corene Shirer          PC   \n",
       "3  Kirlin and Sons    Othello Bowes         Crysta Halls      Mobile   \n",
       "4   Schoen-Keeling  Jessamine Apark   Genevra Charrisson          PC   \n",
       "\n",
       "     order_id     customer_type  Customer_Type_encoded  \n",
       "0  70-0511466    Loyal customer                      1  \n",
       "1  77-3489084  Regular customer                      0  \n",
       "2  65-8218141    Loyal customer                      1  \n",
       "3  29-5478106    Loyal customer                      1  \n",
       "4  27-3437546  Regular customer                      0  "
      ]
     },
     "execution_count": 14,
     "metadata": {},
     "output_type": "execute_result"
    }
   ],
   "source": [
    "final_df.head(5)\n"
   ]
  },
  {
   "cell_type": "code",
   "execution_count": 15,
   "id": "8fea9e2c-459b-4cd5-9171-f9d6a94e92d2",
   "metadata": {},
   "outputs": [],
   "source": [
    "# give me a python code to create a new dummy var for the variables country, category, device_type in a dataframe"
   ]
  },
  {
   "cell_type": "code",
   "execution_count": 16,
   "id": "316a7a6c-40cd-4198-b0a9-fc045ec94739",
   "metadata": {},
   "outputs": [],
   "source": [
    "# Create dummy variables for multiple categorical variables\n",
    "prep_df = pd.get_dummies(final_df, columns=['country', 'category', 'device_type'], dtype=int)\n",
    "\n",
    "# Concatenate the dummy variables with the original DataFrame\n",
    "df = pd.concat([final_df, prep_df], axis=1)"
   ]
  },
  {
   "cell_type": "code",
   "execution_count": 17,
   "id": "2d725cac-09e0-4fd7-9ee0-c2fca217cd45",
   "metadata": {},
   "outputs": [
    {
     "data": {
      "text/html": [
       "<div>\n",
       "<style scoped>\n",
       "    .dataframe tbody tr th:only-of-type {\n",
       "        vertical-align: middle;\n",
       "    }\n",
       "\n",
       "    .dataframe tbody tr th {\n",
       "        vertical-align: top;\n",
       "    }\n",
       "\n",
       "    .dataframe thead th {\n",
       "        text-align: right;\n",
       "    }\n",
       "</style>\n",
       "<table border=\"1\" class=\"dataframe\">\n",
       "  <thead>\n",
       "    <tr style=\"text-align: right;\">\n",
       "      <th></th>\n",
       "      <th>country</th>\n",
       "      <th>order_value_EUR</th>\n",
       "      <th>cost</th>\n",
       "      <th>date</th>\n",
       "      <th>category</th>\n",
       "      <th>customer_name</th>\n",
       "      <th>sales_manager</th>\n",
       "      <th>sales_rep</th>\n",
       "      <th>device_type</th>\n",
       "      <th>order_id</th>\n",
       "      <th>...</th>\n",
       "      <th>country_Sweden</th>\n",
       "      <th>country_UK</th>\n",
       "      <th>category_Appliances</th>\n",
       "      <th>category_Clothing</th>\n",
       "      <th>category_Electronics</th>\n",
       "      <th>category_Games</th>\n",
       "      <th>device_type_MAC</th>\n",
       "      <th>device_type_Mobile</th>\n",
       "      <th>device_type_PC</th>\n",
       "      <th>device_type_Tablet</th>\n",
       "    </tr>\n",
       "  </thead>\n",
       "  <tbody>\n",
       "    <tr>\n",
       "      <th>0</th>\n",
       "      <td>Sweden</td>\n",
       "      <td>98320.37</td>\n",
       "      <td>77722.25</td>\n",
       "      <td>8/23/2020</td>\n",
       "      <td>Games</td>\n",
       "      <td>Konopelski LLC</td>\n",
       "      <td>Maxie Marrow</td>\n",
       "      <td>Tarrah Castelletti</td>\n",
       "      <td>Tablet</td>\n",
       "      <td>70-0511466</td>\n",
       "      <td>...</td>\n",
       "      <td>1</td>\n",
       "      <td>0</td>\n",
       "      <td>0</td>\n",
       "      <td>0</td>\n",
       "      <td>0</td>\n",
       "      <td>1</td>\n",
       "      <td>0</td>\n",
       "      <td>0</td>\n",
       "      <td>0</td>\n",
       "      <td>1</td>\n",
       "    </tr>\n",
       "    <tr>\n",
       "      <th>1</th>\n",
       "      <td>France</td>\n",
       "      <td>46296.26</td>\n",
       "      <td>40319.41</td>\n",
       "      <td>5/15/2020</td>\n",
       "      <td>Games</td>\n",
       "      <td>Wisoky Inc</td>\n",
       "      <td>Othello Bowes</td>\n",
       "      <td>Amelina Piscopiello</td>\n",
       "      <td>Tablet</td>\n",
       "      <td>77-3489084</td>\n",
       "      <td>...</td>\n",
       "      <td>0</td>\n",
       "      <td>0</td>\n",
       "      <td>0</td>\n",
       "      <td>0</td>\n",
       "      <td>0</td>\n",
       "      <td>1</td>\n",
       "      <td>0</td>\n",
       "      <td>0</td>\n",
       "      <td>0</td>\n",
       "      <td>1</td>\n",
       "    </tr>\n",
       "    <tr>\n",
       "      <th>2</th>\n",
       "      <td>Portugal</td>\n",
       "      <td>140337.34</td>\n",
       "      <td>115708.14</td>\n",
       "      <td>2020-04-09 00:00:00</td>\n",
       "      <td>Appliances</td>\n",
       "      <td>Hegmann Group</td>\n",
       "      <td>Celine Tumasian</td>\n",
       "      <td>Corene Shirer</td>\n",
       "      <td>PC</td>\n",
       "      <td>65-8218141</td>\n",
       "      <td>...</td>\n",
       "      <td>0</td>\n",
       "      <td>0</td>\n",
       "      <td>1</td>\n",
       "      <td>0</td>\n",
       "      <td>0</td>\n",
       "      <td>0</td>\n",
       "      <td>0</td>\n",
       "      <td>0</td>\n",
       "      <td>1</td>\n",
       "      <td>0</td>\n",
       "    </tr>\n",
       "    <tr>\n",
       "      <th>3</th>\n",
       "      <td>France</td>\n",
       "      <td>203604.46</td>\n",
       "      <td>175344.16</td>\n",
       "      <td>6/26/2019</td>\n",
       "      <td>Electronics</td>\n",
       "      <td>Kirlin and Sons</td>\n",
       "      <td>Othello Bowes</td>\n",
       "      <td>Crysta Halls</td>\n",
       "      <td>Mobile</td>\n",
       "      <td>29-5478106</td>\n",
       "      <td>...</td>\n",
       "      <td>0</td>\n",
       "      <td>0</td>\n",
       "      <td>0</td>\n",
       "      <td>0</td>\n",
       "      <td>1</td>\n",
       "      <td>0</td>\n",
       "      <td>0</td>\n",
       "      <td>1</td>\n",
       "      <td>0</td>\n",
       "      <td>0</td>\n",
       "    </tr>\n",
       "    <tr>\n",
       "      <th>4</th>\n",
       "      <td>UK</td>\n",
       "      <td>63979.04</td>\n",
       "      <td>56032.84</td>\n",
       "      <td>10/22/2019</td>\n",
       "      <td>Games</td>\n",
       "      <td>Schoen-Keeling</td>\n",
       "      <td>Jessamine Apark</td>\n",
       "      <td>Genevra Charrisson</td>\n",
       "      <td>PC</td>\n",
       "      <td>27-3437546</td>\n",
       "      <td>...</td>\n",
       "      <td>0</td>\n",
       "      <td>1</td>\n",
       "      <td>0</td>\n",
       "      <td>0</td>\n",
       "      <td>0</td>\n",
       "      <td>1</td>\n",
       "      <td>0</td>\n",
       "      <td>0</td>\n",
       "      <td>1</td>\n",
       "      <td>0</td>\n",
       "    </tr>\n",
       "  </tbody>\n",
       "</table>\n",
       "<p>5 rows × 35 columns</p>\n",
       "</div>"
      ],
      "text/plain": [
       "    country  order_value_EUR       cost                 date     category  \\\n",
       "0    Sweden         98320.37   77722.25            8/23/2020        Games   \n",
       "1    France         46296.26   40319.41            5/15/2020        Games   \n",
       "2  Portugal        140337.34  115708.14  2020-04-09 00:00:00   Appliances   \n",
       "3    France        203604.46  175344.16            6/26/2019  Electronics   \n",
       "4        UK         63979.04   56032.84           10/22/2019        Games   \n",
       "\n",
       "     customer_name    sales_manager            sales_rep device_type  \\\n",
       "0   Konopelski LLC     Maxie Marrow   Tarrah Castelletti      Tablet   \n",
       "1       Wisoky Inc    Othello Bowes  Amelina Piscopiello      Tablet   \n",
       "2    Hegmann Group  Celine Tumasian        Corene Shirer          PC   \n",
       "3  Kirlin and Sons    Othello Bowes         Crysta Halls      Mobile   \n",
       "4   Schoen-Keeling  Jessamine Apark   Genevra Charrisson          PC   \n",
       "\n",
       "     order_id  ... country_Sweden  country_UK  category_Appliances  \\\n",
       "0  70-0511466  ...              1           0                    0   \n",
       "1  77-3489084  ...              0           0                    0   \n",
       "2  65-8218141  ...              0           0                    1   \n",
       "3  29-5478106  ...              0           0                    0   \n",
       "4  27-3437546  ...              0           1                    0   \n",
       "\n",
       "   category_Clothing category_Electronics category_Games device_type_MAC  \\\n",
       "0                  0                    0              1               0   \n",
       "1                  0                    0              1               0   \n",
       "2                  0                    0              0               0   \n",
       "3                  0                    1              0               0   \n",
       "4                  0                    0              1               0   \n",
       "\n",
       "  device_type_Mobile device_type_PC device_type_Tablet  \n",
       "0                  0              0                  1  \n",
       "1                  0              0                  1  \n",
       "2                  0              1                  0  \n",
       "3                  1              0                  0  \n",
       "4                  0              1                  0  \n",
       "\n",
       "[5 rows x 35 columns]"
      ]
     },
     "execution_count": 17,
     "metadata": {},
     "output_type": "execute_result"
    }
   ],
   "source": [
    "df.head()"
   ]
  },
  {
   "cell_type": "code",
   "execution_count": 18,
   "id": "28e2ffab-81be-4095-a807-adf282f0e914",
   "metadata": {},
   "outputs": [],
   "source": [
    "y=prep_df['cost']"
   ]
  },
  {
   "cell_type": "code",
   "execution_count": 19,
   "id": "7ae187f9-95f7-42e7-bc54-03bca2c8a746",
   "metadata": {},
   "outputs": [
    {
     "data": {
      "text/plain": [
       "0     77722.25\n",
       "1     40319.41\n",
       "2    115708.14\n",
       "3    175344.16\n",
       "4     56032.84\n",
       "5    110924.13\n",
       "6     55529.13\n",
       "7     55529.13\n",
       "8     55529.13\n",
       "9    324232.32\n",
       "Name: cost, dtype: float64"
      ]
     },
     "execution_count": 19,
     "metadata": {},
     "output_type": "execute_result"
    }
   ],
   "source": [
    "y"
   ]
  },
  {
   "cell_type": "code",
   "execution_count": 20,
   "id": "4d3ca571-6bc8-482a-b104-6e0701c996c5",
   "metadata": {},
   "outputs": [
    {
     "data": {
      "text/plain": [
       "Index(['order_value_EUR', 'cost', 'date', 'customer_name', 'sales_manager',\n",
       "       'sales_rep', 'order_id', 'customer_type', 'Customer_Type_encoded',\n",
       "       'country_France', 'country_Italy', 'country_Korea', 'country_Portugal',\n",
       "       'country_Sweden', 'country_UK', 'category_Appliances',\n",
       "       'category_Clothing', 'category_Electronics', 'category_Games',\n",
       "       'device_type_MAC', 'device_type_Mobile', 'device_type_PC',\n",
       "       'device_type_Tablet'],\n",
       "      dtype='object')"
      ]
     },
     "execution_count": 20,
     "metadata": {},
     "output_type": "execute_result"
    }
   ],
   "source": [
    "prep_df.columns"
   ]
  },
  {
   "cell_type": "code",
   "execution_count": 21,
   "id": "9470f778-f6cd-4598-b602-d4174b1b52a1",
   "metadata": {},
   "outputs": [],
   "source": [
    "# give me a python code to drop 5 categorical variables from a dataframe"
   ]
  },
  {
   "cell_type": "code",
   "execution_count": 22,
   "id": "d5305281-632c-4e16-aa3b-20ea5ec26ade",
   "metadata": {},
   "outputs": [
    {
     "data": {
      "text/html": [
       "<div>\n",
       "<style scoped>\n",
       "    .dataframe tbody tr th:only-of-type {\n",
       "        vertical-align: middle;\n",
       "    }\n",
       "\n",
       "    .dataframe tbody tr th {\n",
       "        vertical-align: top;\n",
       "    }\n",
       "\n",
       "    .dataframe thead th {\n",
       "        text-align: right;\n",
       "    }\n",
       "</style>\n",
       "<table border=\"1\" class=\"dataframe\">\n",
       "  <thead>\n",
       "    <tr style=\"text-align: right;\">\n",
       "      <th></th>\n",
       "      <th>order_value_EUR</th>\n",
       "      <th>cost</th>\n",
       "    </tr>\n",
       "  </thead>\n",
       "  <tbody>\n",
       "    <tr>\n",
       "      <th>0</th>\n",
       "      <td>98320.37</td>\n",
       "      <td>77722.25</td>\n",
       "    </tr>\n",
       "    <tr>\n",
       "      <th>1</th>\n",
       "      <td>46296.26</td>\n",
       "      <td>40319.41</td>\n",
       "    </tr>\n",
       "    <tr>\n",
       "      <th>2</th>\n",
       "      <td>140337.34</td>\n",
       "      <td>115708.14</td>\n",
       "    </tr>\n",
       "    <tr>\n",
       "      <th>3</th>\n",
       "      <td>203604.46</td>\n",
       "      <td>175344.16</td>\n",
       "    </tr>\n",
       "    <tr>\n",
       "      <th>4</th>\n",
       "      <td>63979.04</td>\n",
       "      <td>56032.84</td>\n",
       "    </tr>\n",
       "    <tr>\n",
       "      <th>5</th>\n",
       "      <td>127075.41</td>\n",
       "      <td>110924.13</td>\n",
       "    </tr>\n",
       "    <tr>\n",
       "      <th>6</th>\n",
       "      <td>69681.43</td>\n",
       "      <td>55529.13</td>\n",
       "    </tr>\n",
       "    <tr>\n",
       "      <th>7</th>\n",
       "      <td>69681.43</td>\n",
       "      <td>55529.13</td>\n",
       "    </tr>\n",
       "    <tr>\n",
       "      <th>8</th>\n",
       "      <td>69681.43</td>\n",
       "      <td>55529.13</td>\n",
       "    </tr>\n",
       "    <tr>\n",
       "      <th>9</th>\n",
       "      <td>99994324.23</td>\n",
       "      <td>324232.32</td>\n",
       "    </tr>\n",
       "  </tbody>\n",
       "</table>\n",
       "</div>"
      ],
      "text/plain": [
       "   order_value_EUR       cost\n",
       "0         98320.37   77722.25\n",
       "1         46296.26   40319.41\n",
       "2        140337.34  115708.14\n",
       "3        203604.46  175344.16\n",
       "4         63979.04   56032.84\n",
       "5        127075.41  110924.13\n",
       "6         69681.43   55529.13\n",
       "7         69681.43   55529.13\n",
       "8         69681.43   55529.13\n",
       "9      99994324.23  324232.32"
      ]
     },
     "execution_count": 22,
     "metadata": {},
     "output_type": "execute_result"
    }
   ],
   "source": [
    "# List of categorical variables to drop\n",
    "categorical_vars_to_drop = [  'customer_type', 'Customer_Type_encoded',\n",
    "       'country_France', 'country_Italy', 'country_Korea', 'country_Portugal',\n",
    "       'country_Sweden', 'country_UK', 'category_Appliances',\n",
    "       'category_Clothing', 'category_Electronics', 'category_Games',\n",
    "       'device_type_MAC', 'device_type_Mobile', 'device_type_PC',\n",
    "       'device_type_Tablet', 'date', 'customer_name', 'sales_manager', 'sales_rep', 'order_id']\n",
    "\n",
    "# Drop the categorical variables from the DataFrame\n",
    "x = prep_df.drop(columns=categorical_vars_to_drop, axis=1)\n",
    "x\n"
   ]
  },
  {
   "cell_type": "code",
   "execution_count": 23,
   "id": "a77b76dd-8fca-410e-bf39-9334915de12c",
   "metadata": {},
   "outputs": [
    {
     "data": {
      "text/plain": [
       "Index(['order_value_EUR', 'cost'], dtype='object')"
      ]
     },
     "execution_count": 23,
     "metadata": {},
     "output_type": "execute_result"
    }
   ],
   "source": [
    "x.columns"
   ]
  },
  {
   "cell_type": "code",
   "execution_count": 24,
   "id": "c2c6456b-0851-4d09-a038-2fa66f5e1ac4",
   "metadata": {},
   "outputs": [],
   "source": [
    "# give me a python code to scale a dataframe with standardscaler."
   ]
  },
  {
   "cell_type": "code",
   "execution_count": 25,
   "id": "0262101f-b5b4-450d-b973-c76863c41283",
   "metadata": {},
   "outputs": [
    {
     "data": {
      "text/html": [
       "<div>\n",
       "<style scoped>\n",
       "    .dataframe tbody tr th:only-of-type {\n",
       "        vertical-align: middle;\n",
       "    }\n",
       "\n",
       "    .dataframe tbody tr th {\n",
       "        vertical-align: top;\n",
       "    }\n",
       "\n",
       "    .dataframe thead th {\n",
       "        text-align: right;\n",
       "    }\n",
       "</style>\n",
       "<table border=\"1\" class=\"dataframe\">\n",
       "  <thead>\n",
       "    <tr style=\"text-align: right;\">\n",
       "      <th></th>\n",
       "      <th>order_value_EUR</th>\n",
       "      <th>cost</th>\n",
       "    </tr>\n",
       "  </thead>\n",
       "  <tbody>\n",
       "    <tr>\n",
       "      <th>0</th>\n",
       "      <td>98320.37</td>\n",
       "      <td>77722.25</td>\n",
       "    </tr>\n",
       "    <tr>\n",
       "      <th>1</th>\n",
       "      <td>46296.26</td>\n",
       "      <td>40319.41</td>\n",
       "    </tr>\n",
       "    <tr>\n",
       "      <th>2</th>\n",
       "      <td>140337.34</td>\n",
       "      <td>115708.14</td>\n",
       "    </tr>\n",
       "    <tr>\n",
       "      <th>3</th>\n",
       "      <td>203604.46</td>\n",
       "      <td>175344.16</td>\n",
       "    </tr>\n",
       "    <tr>\n",
       "      <th>4</th>\n",
       "      <td>63979.04</td>\n",
       "      <td>56032.84</td>\n",
       "    </tr>\n",
       "    <tr>\n",
       "      <th>5</th>\n",
       "      <td>127075.41</td>\n",
       "      <td>110924.13</td>\n",
       "    </tr>\n",
       "    <tr>\n",
       "      <th>6</th>\n",
       "      <td>69681.43</td>\n",
       "      <td>55529.13</td>\n",
       "    </tr>\n",
       "    <tr>\n",
       "      <th>7</th>\n",
       "      <td>69681.43</td>\n",
       "      <td>55529.13</td>\n",
       "    </tr>\n",
       "    <tr>\n",
       "      <th>8</th>\n",
       "      <td>69681.43</td>\n",
       "      <td>55529.13</td>\n",
       "    </tr>\n",
       "    <tr>\n",
       "      <th>9</th>\n",
       "      <td>99994324.23</td>\n",
       "      <td>324232.32</td>\n",
       "    </tr>\n",
       "  </tbody>\n",
       "</table>\n",
       "</div>"
      ],
      "text/plain": [
       "   order_value_EUR       cost\n",
       "0         98320.37   77722.25\n",
       "1         46296.26   40319.41\n",
       "2        140337.34  115708.14\n",
       "3        203604.46  175344.16\n",
       "4         63979.04   56032.84\n",
       "5        127075.41  110924.13\n",
       "6         69681.43   55529.13\n",
       "7         69681.43   55529.13\n",
       "8         69681.43   55529.13\n",
       "9      99994324.23  324232.32"
      ]
     },
     "execution_count": 25,
     "metadata": {},
     "output_type": "execute_result"
    }
   ],
   "source": [
    "# Initialize the StandardScaler\n",
    "scaler = StandardScaler()\n",
    "\n",
    "# Fit and transform the DataFrame\n",
    "scaled_data = scaler.fit_transform(x)\n",
    "x\n"
   ]
  },
  {
   "cell_type": "code",
   "execution_count": 26,
   "id": "5f66e56a-dcdc-4c84-8dd6-983835260c07",
   "metadata": {},
   "outputs": [
    {
     "data": {
      "text/plain": [
       "array([[-0.33334695, -0.35176779],\n",
       "       [-0.3350829 , -0.80601252],\n",
       "       [-0.33194493,  0.10955789],\n",
       "       [-0.32983382,  0.83381702],\n",
       "       [-0.33449286, -0.61517828],\n",
       "       [-0.33238745,  0.05145772],\n",
       "       [-0.33430258, -0.62129566],\n",
       "       [-0.33430258, -0.62129566],\n",
       "       [-0.33430258, -0.62129566],\n",
       "       [ 2.99999666,  2.64201294]])"
      ]
     },
     "execution_count": 26,
     "metadata": {},
     "output_type": "execute_result"
    }
   ],
   "source": [
    "scaled_data"
   ]
  },
  {
   "cell_type": "code",
   "execution_count": 27,
   "id": "1c0c1cae-9f51-4564-99e0-dd1bd79248cb",
   "metadata": {},
   "outputs": [],
   "source": [
    "from sklearn.model_selection import train_test_split"
   ]
  },
  {
   "cell_type": "code",
   "execution_count": 28,
   "id": "850c96d6-8612-4932-8306-402c775439ea",
   "metadata": {},
   "outputs": [],
   "source": [
    "\n",
    "# Assuming you have your data stored in variables x and y\n",
    "\n",
    "# Split the data into training and testing sets\n",
    "train_x, test_x, train_y, test_y = train_test_split(scaled_data, y, test_size=0.2, random_state=42)\n",
    "\n"
   ]
  },
  {
   "cell_type": "code",
   "execution_count": 29,
   "id": "634321b1-28b9-4c21-a3cf-b03381153792",
   "metadata": {},
   "outputs": [
    {
     "data": {
      "text/plain": [
       "array([[-0.33238745,  0.05145772],\n",
       "       [-0.33334695, -0.35176779],\n",
       "       [-0.33430258, -0.62129566],\n",
       "       [-0.33194493,  0.10955789],\n",
       "       [ 2.99999666,  2.64201294],\n",
       "       [-0.33449286, -0.61517828],\n",
       "       [-0.32983382,  0.83381702],\n",
       "       [-0.33430258, -0.62129566]])"
      ]
     },
     "execution_count": 29,
     "metadata": {},
     "output_type": "execute_result"
    }
   ],
   "source": [
    "train_x"
   ]
  },
  {
   "cell_type": "code",
   "execution_count": 30,
   "id": "59ff9254-a15e-4c94-bd36-2d4e769c2495",
   "metadata": {},
   "outputs": [
    {
     "data": {
      "text/plain": [
       "array([[-0.33430258, -0.62129566],\n",
       "       [-0.3350829 , -0.80601252]])"
      ]
     },
     "execution_count": 30,
     "metadata": {},
     "output_type": "execute_result"
    }
   ],
   "source": [
    "test_x"
   ]
  },
  {
   "cell_type": "code",
   "execution_count": 31,
   "id": "0baf7dc1-61f3-4d04-816e-1520c1ceaf9c",
   "metadata": {},
   "outputs": [
    {
     "data": {
      "text/plain": [
       "5    110924.13\n",
       "0     77722.25\n",
       "7     55529.13\n",
       "2    115708.14\n",
       "9    324232.32\n",
       "4     56032.84\n",
       "3    175344.16\n",
       "6     55529.13\n",
       "Name: cost, dtype: float64"
      ]
     },
     "execution_count": 31,
     "metadata": {},
     "output_type": "execute_result"
    }
   ],
   "source": [
    "train_y"
   ]
  },
  {
   "cell_type": "code",
   "execution_count": 32,
   "id": "1b289606-8ae7-448c-8fad-58628004c56a",
   "metadata": {},
   "outputs": [
    {
     "data": {
      "text/plain": [
       "8    55529.13\n",
       "1    40319.41\n",
       "Name: cost, dtype: float64"
      ]
     },
     "execution_count": 32,
     "metadata": {},
     "output_type": "execute_result"
    }
   ],
   "source": [
    "test_y"
   ]
  },
  {
   "cell_type": "code",
   "execution_count": 33,
   "id": "65398fd9-0b25-4681-a0c5-8dc208d5be12",
   "metadata": {},
   "outputs": [],
   "source": [
    "from sklearn.linear_model import LinearRegression\n",
    "from sklearn.metrics import mean_absolute_error"
   ]
  },
  {
   "cell_type": "code",
   "execution_count": 34,
   "id": "030ea846-9511-4472-934b-0c9ab1673e8e",
   "metadata": {},
   "outputs": [],
   "source": [
    "# Give me a python code build Linear Regression ML modelon train data, \n",
    "# make prediction on test data, measure accuracy with MAPE, a plot to visualize y_pred against test_y\n",
    "# and kde plot to visualize the disturbution of a residual"
   ]
  },
  {
   "cell_type": "code",
   "execution_count": 35,
   "id": "bf37185d-7f54-4e4f-a04b-4376c1fc461b",
   "metadata": {},
   "outputs": [],
   "source": [
    "from sklearn.linear_model import LinearRegression\n",
    "from sklearn.metrics import mean_absolute_percentage_error"
   ]
  },
  {
   "cell_type": "code",
   "execution_count": 36,
   "id": "3f3832e5-2874-4cec-8678-004ef21e5fee",
   "metadata": {},
   "outputs": [],
   "source": [
    "# Train linear regression model\n",
    "model = LinearRegression()\n",
    "\n",
    "# Train (fit) the model z\n",
    "model.fit(train_x, train_y)\n",
    "\n",
    "# Make predictions of the test data\n",
    "y_pred = model.predict(test_x)"
   ]
  },
  {
   "cell_type": "code",
   "execution_count": 37,
   "id": "28c85e28-42ee-4700-9118-b41f248ebe03",
   "metadata": {},
   "outputs": [],
   "source": [
    "import numpy as np"
   ]
  },
  {
   "cell_type": "code",
   "execution_count": 38,
   "id": "c044a923-6b41-4923-b158-08440d35629a",
   "metadata": {},
   "outputs": [],
   "source": [
    "# Define a function to calculate Mean Absolute Percentage Error (MAPE)\n",
    "def calculate_mape(test_y, y_pred):\n",
    "    return np.mean(np.abs((test_y - y_pred) / test_y)) * 100\n",
    "# Calculating the Mean Absolute Percentage Error (MAPE) using the custom function\n",
    "mape = calculate_mape(test_y, y_pred)\n"
   ]
  },
  {
   "cell_type": "code",
   "execution_count": 39,
   "id": "f54edae4-99e6-42fa-b112-163840677960",
   "metadata": {},
   "outputs": [],
   "source": [
    "import numpy as np\n",
    "import pandas as pd\n",
    "import matplotlib.pyplot as plt\n",
    "from sklearn.model_selection import train_test_split\n",
    "from sklearn.linear_model import LinearRegression\n",
    "from sklearn.metrics import mean_absolute_percentage_error"
   ]
  },
  {
   "cell_type": "code",
   "execution_count": 40,
   "id": "211175c2-8024-4b31-a928-0684a994f177",
   "metadata": {},
   "outputs": [
    {
     "data": {
      "image/png": "[encoded data removed]",
      "text/plain": [
       "<Figure size 640x480 with 1 Axes>"
      ]
     },
     "metadata": {},
     "output_type": "display_data"
    }
   ],
   "source": [
    "plt.scatter(y_pred, test_y, color=\"blue\")\n",
    "plt.xlabel('Prediction')\n",
    "plt.ylabel('Actual data')\n",
    "plt.title('Linear Regression prediction vs actual data')\n",
    "plt.show()"
   ]
  },
  {
   "cell_type": "code",
   "execution_count": 41,
   "id": "aaf86767-ba96-4f4f-b6a1-d296962b975c",
   "metadata": {},
   "outputs": [],
   "source": [
    "# pip install seaborn\n",
    "import seaborn as sns"
   ]
  },
  {
   "cell_type": "code",
   "execution_count": 42,
   "id": "c1e5f713-7968-4453-bfc2-b6f7e4faeeb9",
   "metadata": {},
   "outputs": [
    {
     "data": {
      "image/png": "[encoded data removed]",
      "text/plain": [
       "<Figure size 640x480 with 1 Axes>"
      ]
     },
     "metadata": {},
     "output_type": "display_data"
    }
   ],
   "source": [
    "# Plot KDE of residuals\n",
    "residentuals=test_y - y_pred\n",
    "sns.kdeplot(residentuals, fill=True)\n",
    "plt.xlabel('Residuals')\n",
    "plt.ylabel('Density')\n",
    "plt.title('Distribution of Residuals')\n",
    "plt.show()"
   ]
  },
  {
   "cell_type": "code",
   "execution_count": 43,
   "id": "82992d82-ad69-47b6-a3c8-84a290b1a1fe",
   "metadata": {},
   "outputs": [
    {
     "name": "stdout",
     "output_type": "stream",
     "text": [
      "Mean Absolute Percentage Error (MAPE): 0.00%\n"
     ]
    }
   ],
   "source": [
    "# print MAPE\n",
    "print(f\"Mean Absolute Percentage Error (MAPE): {mape:.2f}%\")"
   ]
  },
  {
   "cell_type": "code",
   "execution_count": 44,
   "id": "5e32df44-d0a1-43f1-8e28-c525df4048e2",
   "metadata": {},
   "outputs": [
    {
     "data": {
      "text/plain": [
       "'\\nGive me a python code build decision tree regressor ml model on traindata, make prediction on test data, measure\\naccuracy with MAPE, a plot to visualize y_pred against test_y, and a kde plot to visualize the disturbution of a residual\\n\\n'"
      ]
     },
     "execution_count": 44,
     "metadata": {},
     "output_type": "execute_result"
    }
   ],
   "source": [
    "'''\n",
    "Give me a python code build decision tree regressor ml model on traindata, make prediction on test data, measure\n",
    "accuracy with MAPE, a plot to visualize y_pred against test_y, and a kde plot to visualize the disturbution of a residual\n",
    "\n",
    "'''"
   ]
  },
  {
   "cell_type": "code",
   "execution_count": 45,
   "id": "8a77c82b-e6cc-4595-bc6e-43295730432d",
   "metadata": {},
   "outputs": [],
   "source": [
    "from sklearn.tree import DecisionTreeRegressor"
   ]
  },
  {
   "cell_type": "code",
   "execution_count": 46,
   "id": "0699cc79-20b7-467a-8218-6bec2f87c030",
   "metadata": {},
   "outputs": [],
   "source": [
    "# Building decision tree regressor model\n",
    "model_decTree= DecisionTreeRegressor()\n",
    "model_decTree.fit(train_x, train_y)\n",
    "\n",
    "# Making predictions on test data\n",
    "y_pred_decTree = model_decTree.predict(test_x)"
   ]
  },
  {
   "cell_type": "code",
   "execution_count": 47,
   "id": "a568d9a8-2be4-4cce-9874-3d3de4af9e10",
   "metadata": {},
   "outputs": [],
   "source": [
    "# line 52\n",
    "mape_decTree = calculate_mape(test_y, y_pred_decTree)"
   ]
  },
  {
   "cell_type": "code",
   "execution_count": 48,
   "id": "dfb3d0da-17be-4538-a727-23e93a86ffb6",
   "metadata": {},
   "outputs": [
    {
     "data": {
      "text/plain": [
       "18.861535920292475"
      ]
     },
     "execution_count": 48,
     "metadata": {},
     "output_type": "execute_result"
    }
   ],
   "source": [
    "mape_decTree"
   ]
  },
  {
   "cell_type": "code",
   "execution_count": 49,
   "id": "3dcc5c84-636f-42f3-b1fc-5cb42880d821",
   "metadata": {},
   "outputs": [
    {
     "data": {
      "image/png": "[encoded data removed]",
      "text/plain": [
       "<Figure size 640x480 with 1 Axes>"
      ]
     },
     "metadata": {},
     "output_type": "display_data"
    }
   ],
   "source": [
    "plt.scatter(y_pred_decTree, test_y, color=\"blue\")\n",
    "plt.xlabel('Prediction')\n",
    "plt.ylabel('Actual data')\n",
    "plt.title('Decision Tree Regression prediction vs actual data')\n",
    "plt.show()"
   ]
  },
  {
   "cell_type": "code",
   "execution_count": 50,
   "id": "7415feb8-8ca9-4514-890b-aead84f67506",
   "metadata": {},
   "outputs": [
    {
     "data": {
      "image/png": "[encoded data removed]",
      "text/plain": [
       "<Figure size 640x480 with 1 Axes>"
      ]
     },
     "metadata": {},
     "output_type": "display_data"
    }
   ],
   "source": [
    "# Plot KDE of residuals\n",
    "decTree_residentual=test_y - y_pred_decTree\n",
    "sns.kdeplot(decTree_residentual, fill=True)\n",
    "plt.xlabel('Residuals')\n",
    "plt.ylabel('Density')\n",
    "plt.title('Distribution of Residuals')\n",
    "plt.show()"
   ]
  },
  {
   "cell_type": "code",
   "execution_count": 51,
   "id": "8afaf773-3153-44ea-9b90-5c6983897d30",
   "metadata": {},
   "outputs": [
    {
     "name": "stdout",
     "output_type": "stream",
     "text": [
      "Mean Absolute Percentage Error (MAPE): 18.86%\n"
     ]
    }
   ],
   "source": [
    "# print MAPE\n",
    "print(f\"Mean Absolute Percentage Error (MAPE): {mape_decTree:.2f}%\")"
   ]
  },
  {
   "cell_type": "code",
   "execution_count": 52,
   "id": "bf9d33c0-3990-4895-9cbf-f5119a5abddc",
   "metadata": {},
   "outputs": [
    {
     "data": {
      "text/plain": [
       "'\\nGive me a python code build Random Forest Regressor  ml model on traindata, make prediction on test data, measure\\naccuracy with MAPE, a plot to visualize y_pred against test_y, and a kde plot to visualize the disturbution of a residual\\n\\n'"
      ]
     },
     "execution_count": 52,
     "metadata": {},
     "output_type": "execute_result"
    }
   ],
   "source": [
    "'''\n",
    "Give me a python code build Random Forest Regressor  ml model on traindata, make prediction on test data, measure\n",
    "accuracy with MAPE, a plot to visualize y_pred against test_y, and a kde plot to visualize the disturbution of a residual\n",
    "\n",
    "'''"
   ]
  },
  {
   "cell_type": "code",
   "execution_count": 53,
   "id": "3cee8372-7f39-483f-8a4b-41abe48c544d",
   "metadata": {},
   "outputs": [],
   "source": [
    "from sklearn.ensemble import RandomForestRegressor"
   ]
  },
  {
   "cell_type": "code",
   "execution_count": 54,
   "id": "6fc0dab5-5eb2-4abb-aa71-e371c30ec489",
   "metadata": {},
   "outputs": [],
   "source": [
    "# Create and fit the Random Forest Regressor model\n",
    "model_rfreg= RandomForestRegressor()\n",
    "model_rfreg.fit(train_x, train_y)\n",
    "\n",
    "# Make predictions on the test data\n",
    "y_pred_rfreg = model_rfreg.predict(test_x)"
   ]
  },
  {
   "cell_type": "code",
   "execution_count": 55,
   "id": "5323e305-3bb1-4230-8b30-2c16b7d57597",
   "metadata": {},
   "outputs": [
    {
     "data": {
      "text/plain": [
       "array([57106.0779, 57297.4877])"
      ]
     },
     "execution_count": 55,
     "metadata": {},
     "output_type": "execute_result"
    }
   ],
   "source": [
    "y_pred_rfreg\n"
   ]
  },
  {
   "cell_type": "code",
   "execution_count": 56,
   "id": "2b3a1359-8a99-489a-94e2-0dc0bb50a39f",
   "metadata": {},
   "outputs": [],
   "source": [
    "# line 52\n",
    "mape_rfreg = calculate_mape(test_y, y_pred_rfreg)"
   ]
  },
  {
   "cell_type": "code",
   "execution_count": 57,
   "id": "82a35fe6-19eb-4e29-82f8-fc6708859400",
   "metadata": {},
   "outputs": [
    {
     "data": {
      "text/plain": [
       "22.474400416431102"
      ]
     },
     "execution_count": 57,
     "metadata": {},
     "output_type": "execute_result"
    }
   ],
   "source": [
    "mape_rfreg"
   ]
  },
  {
   "cell_type": "code",
   "execution_count": 58,
   "id": "71da136a-e9a2-44d3-8544-c282281e598b",
   "metadata": {},
   "outputs": [
    {
     "data": {
      "image/png": "[encoded data removed]",
      "text/plain": [
       "<Figure size 640x480 with 1 Axes>"
      ]
     },
     "metadata": {},
     "output_type": "display_data"
    }
   ],
   "source": [
    "# Visualize y_pred against test_y\n",
    "plt.scatter(y_pred_rfreg, test_y, color=\"blue\")\n",
    "plt.xlabel('Prediction')\n",
    "plt.ylabel('Actual data')\n",
    "plt.title('Random Forest Regression prediction vs actual data')\n",
    "plt.show()"
   ]
  },
  {
   "cell_type": "code",
   "execution_count": 59,
   "id": "6849770b-8d6a-4c58-911f-e86e4b3488b2",
   "metadata": {},
   "outputs": [
    {
     "name": "stdout",
     "output_type": "stream",
     "text": [
      "Mean Absolute Percentage Error (MAPE): 22.47%\n"
     ]
    }
   ],
   "source": [
    "# print MAPE\n",
    "print(f\"Mean Absolute Percentage Error (MAPE): {mape_rfreg:.2f}%\")"
   ]
  },
  {
   "cell_type": "code",
   "execution_count": 60,
   "id": "e6447b1c-6a7e-4e7c-82fb-4875f0afe29f",
   "metadata": {},
   "outputs": [
    {
     "data": {
      "text/plain": [
       "'\\ngive a python code build Support Vector Regressor ML model on train data \\nmake prediction on test data, \\nmeasure accurace with MAPE, \\na plot to visualise y_pred against test_y, \\nand a kde plot to visualise the disturbution of a residual\\n'"
      ]
     },
     "execution_count": 60,
     "metadata": {},
     "output_type": "execute_result"
    }
   ],
   "source": [
    "'''\n",
    "give a python code build Support Vector Regressor ML model on train data \n",
    "make prediction on test data, \n",
    "measure accurace with MAPE, \n",
    "a plot to visualise y_pred against test_y, \n",
    "and a kde plot to visualise the disturbution of a residual\n",
    "'''"
   ]
  },
  {
   "cell_type": "code",
   "execution_count": 61,
   "id": "a6ecde90-104e-4212-9ae7-b17b1ea638a2",
   "metadata": {},
   "outputs": [],
   "source": [
    "from sklearn.svm import SVR"
   ]
  },
  {
   "cell_type": "code",
   "execution_count": 62,
   "id": "b3844951-8735-4547-acda-1e550e0c3c7e",
   "metadata": {},
   "outputs": [],
   "source": [
    "# Build SVR model\n",
    "model_svr= SVR()\n",
    "model_svr.fit(train_x, train_y)\n",
    "\n",
    "# Make predictions on test data\n",
    "y_pred_svr = model_svr.predict(test_x)"
   ]
  },
  {
   "cell_type": "code",
   "execution_count": 63,
   "id": "b0237287-04ae-42d5-b362-01ef07468889",
   "metadata": {},
   "outputs": [],
   "source": [
    "# line 52\n",
    "mape_svr= calculate_mape(test_y, y_pred_svr)"
   ]
  },
  {
   "cell_type": "code",
   "execution_count": 64,
   "id": "288b5b40-8565-447d-b17a-c1465237465d",
   "metadata": {},
   "outputs": [
    {
     "data": {
      "image/png": "[encoded data removed]",
      "text/plain": [
       "<Figure size 640x480 with 1 Axes>"
      ]
     },
     "metadata": {},
     "output_type": "display_data"
    }
   ],
   "source": [
    "# Visualize y_pred against test_y\n",
    "plt.scatter(y_pred_svr, test_y, color=\"blue\")\n",
    "plt.xlabel('Prediction')\n",
    "plt.ylabel('Actual data')\n",
    "plt.title('Random Forest Regression prediction vs actual data')\n",
    "plt.show()"
   ]
  },
  {
   "cell_type": "code",
   "execution_count": 65,
   "id": "01cbf46a-8d8c-4700-9360-f1c6f79cbc72",
   "metadata": {},
   "outputs": [
    {
     "data": {
      "image/png": "[encoded data removed]",
      "text/plain": [
       "<Figure size 640x480 with 1 Axes>"
      ]
     },
     "metadata": {},
     "output_type": "display_data"
    }
   ],
   "source": [
    "# Plot KDE of residuals\n",
    "svr_residentual=test_y - y_pred_svr\n",
    "sns.kdeplot(svr_residentual, fill=True)\n",
    "plt.xlabel('Residuals')\n",
    "plt.ylabel('Density')\n",
    "plt.title('Distribution of Residuals')\n",
    "plt.show()"
   ]
  },
  {
   "cell_type": "code",
   "execution_count": 66,
   "id": "13e8faa8-20e5-496b-b418-ddb2aba5bdf0",
   "metadata": {},
   "outputs": [
    {
     "name": "stdout",
     "output_type": "stream",
     "text": [
      "Mean Absolute Percentage Error (MAPE): 101.90%\n"
     ]
    }
   ],
   "source": [
    "# print MAPE\n",
    "print(f\"Mean Absolute Percentage Error (MAPE): {mape_svr:.2f}%\")"
   ]
  },
  {
   "cell_type": "code",
   "execution_count": 67,
   "id": "d20bf5a0-d9dd-4237-aac3-826c2b72bda6",
   "metadata": {},
   "outputs": [
    {
     "data": {
      "text/plain": [
       "'\\nGive me a python code build Xgboost Regressor ML model on train data, \\nmake prediction on test data, measure accurace with MAPE, a plot to visualize y_pred against test_y\\nand a kde plot to visualize the distirbution of a residual\\n\\n'"
      ]
     },
     "execution_count": 67,
     "metadata": {},
     "output_type": "execute_result"
    }
   ],
   "source": [
    "'''\n",
    "Give me a python code build Xgboost Regressor ML model on train data, \n",
    "make prediction on test data, measure accurace with MAPE, a plot to visualize y_pred against test_y\n",
    "and a kde plot to visualize the distirbution of a residual\n",
    "\n",
    "'''"
   ]
  },
  {
   "cell_type": "code",
   "execution_count": 68,
   "id": "52468c24-dbc9-4045-97c2-6bffa61bf0cc",
   "metadata": {},
   "outputs": [],
   "source": [
    "import xgboost as xgb"
   ]
  },
  {
   "cell_type": "code",
   "execution_count": 69,
   "id": "b9fc78da-a0db-4e16-952c-38193cfeef1e",
   "metadata": {},
   "outputs": [],
   "source": [
    "# pip install xgboost"
   ]
  },
  {
   "cell_type": "code",
   "execution_count": 70,
   "id": "6f4d2aa0-badf-4606-bd16-9985c0763d02",
   "metadata": {},
   "outputs": [],
   "source": [
    "# Train XGBoost model\n",
    "model_xgboost = xgb.XGBRegressor()\n",
    "model_xgboost .fit(train_x, train_y)\n",
    "\n",
    "# Make predictions on test data\n",
    "y_pred_xgbboost = model_xgboost .predict(test_x)"
   ]
  },
  {
   "cell_type": "code",
   "execution_count": 71,
   "id": "adf82e73-5a2d-41f8-8ed3-2bc76a3a626e",
   "metadata": {},
   "outputs": [],
   "source": [
    "# line 52\n",
    "mape_xgbboost= calculate_mape(test_y, y_pred_xgbboost)"
   ]
  },
  {
   "cell_type": "code",
   "execution_count": 72,
   "id": "5cd58b59-2690-4bf6-86fa-f8b875d12287",
   "metadata": {},
   "outputs": [
    {
     "data": {
      "image/png": "[encoded data removed]",
      "text/plain": [
       "<Figure size 640x480 with 1 Axes>"
      ]
     },
     "metadata": {},
     "output_type": "display_data"
    }
   ],
   "source": [
    "# Visualize y_pred against test_y\n",
    "plt.scatter(y_pred_xgbboost, test_y, color=\"blue\")\n",
    "plt.xlabel('Prediction')\n",
    "plt.ylabel('Actual data')\n",
    "plt.title('XGBboost prediction vs actual data')\n",
    "plt.show()"
   ]
  },
  {
   "cell_type": "code",
   "execution_count": 73,
   "id": "a46757e1-a2d6-4332-bfc4-720c02486793",
   "metadata": {},
   "outputs": [
    {
     "data": {
      "image/png": "[encoded data removed]",
      "text/plain": [
       "<Figure size 640x480 with 1 Axes>"
      ]
     },
     "metadata": {},
     "output_type": "display_data"
    }
   ],
   "source": [
    "# Plot KDE of residuals\n",
    "xgbboost_residentual=test_y - y_pred_xgbboost\n",
    "sns.kdeplot(xgbboost_residentual, fill=True)\n",
    "plt.xlabel('Residuals')\n",
    "plt.ylabel('Density')\n",
    "plt.title('Distribution of Residuals')\n",
    "plt.show()"
   ]
  },
  {
   "cell_type": "code",
   "execution_count": 74,
   "id": "effdf4da-8ab1-4ff3-9edb-dfb3725e4a21",
   "metadata": {},
   "outputs": [
    {
     "name": "stdout",
     "output_type": "stream",
     "text": [
      "Mean Absolute Percentage Error (MAPE): 18.86%\n"
     ]
    }
   ],
   "source": [
    "# print MAPE\n",
    "print(f\"Mean Absolute Percentage Error (MAPE): {mape_xgbboost:.2f}%\")"
   ]
  },
  {
   "cell_type": "code",
   "execution_count": 75,
   "id": "20842694-b84b-4c3f-996a-f6379cfb7cf7",
   "metadata": {},
   "outputs": [
    {
     "data": {
      "text/html": [
       "<div>\n",
       "<style scoped>\n",
       "    .dataframe tbody tr th:only-of-type {\n",
       "        vertical-align: middle;\n",
       "    }\n",
       "\n",
       "    .dataframe tbody tr th {\n",
       "        vertical-align: top;\n",
       "    }\n",
       "\n",
       "    .dataframe thead th {\n",
       "        text-align: right;\n",
       "    }\n",
       "</style>\n",
       "<table border=\"1\" class=\"dataframe\">\n",
       "  <thead>\n",
       "    <tr style=\"text-align: right;\">\n",
       "      <th></th>\n",
       "      <th>order_value_EUR</th>\n",
       "      <th>cost</th>\n",
       "      <th>date</th>\n",
       "      <th>customer_name</th>\n",
       "      <th>sales_manager</th>\n",
       "      <th>sales_rep</th>\n",
       "      <th>order_id</th>\n",
       "      <th>customer_type</th>\n",
       "      <th>Customer_Type_encoded</th>\n",
       "      <th>country_France</th>\n",
       "      <th>...</th>\n",
       "      <th>country_Sweden</th>\n",
       "      <th>country_UK</th>\n",
       "      <th>category_Appliances</th>\n",
       "      <th>category_Clothing</th>\n",
       "      <th>category_Electronics</th>\n",
       "      <th>category_Games</th>\n",
       "      <th>device_type_MAC</th>\n",
       "      <th>device_type_Mobile</th>\n",
       "      <th>device_type_PC</th>\n",
       "      <th>device_type_Tablet</th>\n",
       "    </tr>\n",
       "  </thead>\n",
       "  <tbody>\n",
       "    <tr>\n",
       "      <th>0</th>\n",
       "      <td>98320.37</td>\n",
       "      <td>77722.25</td>\n",
       "      <td>8/23/2020</td>\n",
       "      <td>Konopelski LLC</td>\n",
       "      <td>Maxie Marrow</td>\n",
       "      <td>Tarrah Castelletti</td>\n",
       "      <td>70-0511466</td>\n",
       "      <td>Loyal customer</td>\n",
       "      <td>1</td>\n",
       "      <td>0</td>\n",
       "      <td>...</td>\n",
       "      <td>1</td>\n",
       "      <td>0</td>\n",
       "      <td>0</td>\n",
       "      <td>0</td>\n",
       "      <td>0</td>\n",
       "      <td>1</td>\n",
       "      <td>0</td>\n",
       "      <td>0</td>\n",
       "      <td>0</td>\n",
       "      <td>1</td>\n",
       "    </tr>\n",
       "    <tr>\n",
       "      <th>1</th>\n",
       "      <td>46296.26</td>\n",
       "      <td>40319.41</td>\n",
       "      <td>5/15/2020</td>\n",
       "      <td>Wisoky Inc</td>\n",
       "      <td>Othello Bowes</td>\n",
       "      <td>Amelina Piscopiello</td>\n",
       "      <td>77-3489084</td>\n",
       "      <td>Regular customer</td>\n",
       "      <td>0</td>\n",
       "      <td>1</td>\n",
       "      <td>...</td>\n",
       "      <td>0</td>\n",
       "      <td>0</td>\n",
       "      <td>0</td>\n",
       "      <td>0</td>\n",
       "      <td>0</td>\n",
       "      <td>1</td>\n",
       "      <td>0</td>\n",
       "      <td>0</td>\n",
       "      <td>0</td>\n",
       "      <td>1</td>\n",
       "    </tr>\n",
       "    <tr>\n",
       "      <th>2</th>\n",
       "      <td>140337.34</td>\n",
       "      <td>115708.14</td>\n",
       "      <td>2020-04-09 00:00:00</td>\n",
       "      <td>Hegmann Group</td>\n",
       "      <td>Celine Tumasian</td>\n",
       "      <td>Corene Shirer</td>\n",
       "      <td>65-8218141</td>\n",
       "      <td>Loyal customer</td>\n",
       "      <td>1</td>\n",
       "      <td>0</td>\n",
       "      <td>...</td>\n",
       "      <td>0</td>\n",
       "      <td>0</td>\n",
       "      <td>1</td>\n",
       "      <td>0</td>\n",
       "      <td>0</td>\n",
       "      <td>0</td>\n",
       "      <td>0</td>\n",
       "      <td>0</td>\n",
       "      <td>1</td>\n",
       "      <td>0</td>\n",
       "    </tr>\n",
       "    <tr>\n",
       "      <th>3</th>\n",
       "      <td>203604.46</td>\n",
       "      <td>175344.16</td>\n",
       "      <td>6/26/2019</td>\n",
       "      <td>Kirlin and Sons</td>\n",
       "      <td>Othello Bowes</td>\n",
       "      <td>Crysta Halls</td>\n",
       "      <td>29-5478106</td>\n",
       "      <td>Loyal customer</td>\n",
       "      <td>1</td>\n",
       "      <td>1</td>\n",
       "      <td>...</td>\n",
       "      <td>0</td>\n",
       "      <td>0</td>\n",
       "      <td>0</td>\n",
       "      <td>0</td>\n",
       "      <td>1</td>\n",
       "      <td>0</td>\n",
       "      <td>0</td>\n",
       "      <td>1</td>\n",
       "      <td>0</td>\n",
       "      <td>0</td>\n",
       "    </tr>\n",
       "    <tr>\n",
       "      <th>4</th>\n",
       "      <td>63979.04</td>\n",
       "      <td>56032.84</td>\n",
       "      <td>10/22/2019</td>\n",
       "      <td>Schoen-Keeling</td>\n",
       "      <td>Jessamine Apark</td>\n",
       "      <td>Genevra Charrisson</td>\n",
       "      <td>27-3437546</td>\n",
       "      <td>Regular customer</td>\n",
       "      <td>0</td>\n",
       "      <td>0</td>\n",
       "      <td>...</td>\n",
       "      <td>0</td>\n",
       "      <td>1</td>\n",
       "      <td>0</td>\n",
       "      <td>0</td>\n",
       "      <td>0</td>\n",
       "      <td>1</td>\n",
       "      <td>0</td>\n",
       "      <td>0</td>\n",
       "      <td>1</td>\n",
       "      <td>0</td>\n",
       "    </tr>\n",
       "  </tbody>\n",
       "</table>\n",
       "<p>5 rows × 23 columns</p>\n",
       "</div>"
      ],
      "text/plain": [
       "   order_value_EUR       cost                 date    customer_name  \\\n",
       "0         98320.37   77722.25            8/23/2020   Konopelski LLC   \n",
       "1         46296.26   40319.41            5/15/2020       Wisoky Inc   \n",
       "2        140337.34  115708.14  2020-04-09 00:00:00    Hegmann Group   \n",
       "3        203604.46  175344.16            6/26/2019  Kirlin and Sons   \n",
       "4         63979.04   56032.84           10/22/2019   Schoen-Keeling   \n",
       "\n",
       "     sales_manager            sales_rep    order_id     customer_type  \\\n",
       "0     Maxie Marrow   Tarrah Castelletti  70-0511466    Loyal customer   \n",
       "1    Othello Bowes  Amelina Piscopiello  77-3489084  Regular customer   \n",
       "2  Celine Tumasian        Corene Shirer  65-8218141    Loyal customer   \n",
       "3    Othello Bowes         Crysta Halls  29-5478106    Loyal customer   \n",
       "4  Jessamine Apark   Genevra Charrisson  27-3437546  Regular customer   \n",
       "\n",
       "   Customer_Type_encoded  country_France  ...  country_Sweden  country_UK  \\\n",
       "0                      1               0  ...               1           0   \n",
       "1                      0               1  ...               0           0   \n",
       "2                      1               0  ...               0           0   \n",
       "3                      1               1  ...               0           0   \n",
       "4                      0               0  ...               0           1   \n",
       "\n",
       "   category_Appliances  category_Clothing  category_Electronics  \\\n",
       "0                    0                  0                     0   \n",
       "1                    0                  0                     0   \n",
       "2                    1                  0                     0   \n",
       "3                    0                  0                     1   \n",
       "4                    0                  0                     0   \n",
       "\n",
       "   category_Games  device_type_MAC  device_type_Mobile  device_type_PC  \\\n",
       "0               1                0                   0               0   \n",
       "1               1                0                   0               0   \n",
       "2               0                0                   0               1   \n",
       "3               0                0                   1               0   \n",
       "4               1                0                   0               1   \n",
       "\n",
       "   device_type_Tablet  \n",
       "0                   1  \n",
       "1                   1  \n",
       "2                   0  \n",
       "3                   0  \n",
       "4                   0  \n",
       "\n",
       "[5 rows x 23 columns]"
      ]
     },
     "execution_count": 75,
     "metadata": {},
     "output_type": "execute_result"
    }
   ],
   "source": [
    "prep_df.head()"
   ]
  },
  {
   "cell_type": "code",
   "execution_count": null,
   "id": "28a89f72-e22f-4941-9f21-c5cb2f0461d1",
   "metadata": {},
   "outputs": [],
   "source": []
  },
  {
   "cell_type": "code",
   "execution_count": 77,
   "id": "806d50d1-8081-46c6-b844-e7c3bd9e47cf",
   "metadata": {},
   "outputs": [],
   "source": [
    "y_cat = prep_df['Customer_Type_encoded']"
   ]
  },
  {
   "cell_type": "code",
   "execution_count": 78,
   "id": "61e12ccc-4fbd-4c1d-9873-c3a4ead14cf0",
   "metadata": {},
   "outputs": [
    {
     "data": {
      "text/plain": [
       "0    1\n",
       "1    0\n",
       "2    1\n",
       "3    1\n",
       "4    0\n",
       "5    0\n",
       "6    1\n",
       "7    1\n",
       "8    1\n",
       "9    1\n",
       "Name: Customer_Type_encoded, dtype: int64"
      ]
     },
     "execution_count": 78,
     "metadata": {},
     "output_type": "execute_result"
    }
   ],
   "source": [
    "y_cat"
   ]
  },
  {
   "cell_type": "code",
   "execution_count": null,
   "id": "86f119c1-3fff-44ec-a4de-8f57985be017",
   "metadata": {},
   "outputs": [],
   "source": []
  },
  {
   "cell_type": "raw",
   "id": "23d580de-4452-45b7-82fc-16dda0e7f8ba",
   "metadata": {},
   "source": [
    "# List of categorical variables to drop\n",
    "categorical_vars_to_drop = ['date', 'customer_name', 'sales_manager', 'sales_rep', 'order_id', 'customer_type', 'Customer_Type_encoded']\n",
    "\n",
    "# Drop the categorical variables from the DataFrame\n",
    "x_cat = prep_df.drop(categorical_vars_to_drop, axis=1)\n",
    "x_cat.columns"
   ]
  },
  {
   "cell_type": "code",
   "execution_count": 88,
   "id": "d6e8eb12-9f4b-4a05-944f-74dea6ee2c6f",
   "metadata": {},
   "outputs": [
    {
     "data": {
      "text/plain": [
       "array([[-0.33334695, -0.35176779, -0.5       , -0.33333333, -0.33333333,\n",
       "        -0.33333333,  1.22474487, -0.33333333, -0.33333333, -0.81649658,\n",
       "        -0.33333333,  1.22474487, -0.33333333, -0.33333333, -1.22474487,\n",
       "         2.        ],\n",
       "       [-0.3350829 , -0.80601252,  2.        , -0.33333333, -0.33333333,\n",
       "        -0.33333333, -0.81649658, -0.33333333, -0.33333333, -0.81649658,\n",
       "        -0.33333333,  1.22474487, -0.33333333, -0.33333333, -1.22474487,\n",
       "         2.        ],\n",
       "       [-0.33194493,  0.10955789, -0.5       , -0.33333333, -0.33333333,\n",
       "         3.        , -0.81649658, -0.33333333,  3.        , -0.81649658,\n",
       "        -0.33333333, -0.81649658, -0.33333333, -0.33333333,  0.81649658,\n",
       "        -0.5       ],\n",
       "       [-0.32983382,  0.83381702,  2.        , -0.33333333, -0.33333333,\n",
       "        -0.33333333, -0.81649658, -0.33333333, -0.33333333, -0.81649658,\n",
       "         3.        , -0.81649658, -0.33333333,  3.        , -1.22474487,\n",
       "        -0.5       ],\n",
       "       [-0.33449286, -0.61517828, -0.5       , -0.33333333, -0.33333333,\n",
       "        -0.33333333, -0.81649658,  3.        , -0.33333333, -0.81649658,\n",
       "        -0.33333333,  1.22474487, -0.33333333, -0.33333333,  0.81649658,\n",
       "        -0.5       ],\n",
       "       [-0.33238745,  0.05145772, -0.5       ,  3.        , -0.33333333,\n",
       "        -0.33333333, -0.81649658, -0.33333333, -0.33333333,  1.22474487,\n",
       "        -0.33333333, -0.81649658, -0.33333333, -0.33333333,  0.81649658,\n",
       "        -0.5       ],\n",
       "       [-0.33430258, -0.62129566, -0.5       , -0.33333333, -0.33333333,\n",
       "        -0.33333333,  1.22474487, -0.33333333, -0.33333333,  1.22474487,\n",
       "        -0.33333333, -0.81649658, -0.33333333, -0.33333333,  0.81649658,\n",
       "        -0.5       ],\n",
       "       [-0.33430258, -0.62129566, -0.5       , -0.33333333, -0.33333333,\n",
       "        -0.33333333,  1.22474487, -0.33333333, -0.33333333,  1.22474487,\n",
       "        -0.33333333, -0.81649658, -0.33333333, -0.33333333,  0.81649658,\n",
       "        -0.5       ],\n",
       "       [-0.33430258, -0.62129566, -0.5       , -0.33333333, -0.33333333,\n",
       "        -0.33333333,  1.22474487, -0.33333333, -0.33333333,  1.22474487,\n",
       "        -0.33333333, -0.81649658, -0.33333333, -0.33333333,  0.81649658,\n",
       "        -0.5       ],\n",
       "       [ 2.99999666,  2.64201294, -0.5       , -0.33333333,  3.        ,\n",
       "        -0.33333333, -0.81649658, -0.33333333, -0.33333333, -0.81649658,\n",
       "        -0.33333333,  1.22474487,  3.        , -0.33333333, -1.22474487,\n",
       "        -0.5       ]])"
      ]
     },
     "execution_count": 88,
     "metadata": {},
     "output_type": "execute_result"
    }
   ],
   "source": [
    "# Initialize the StandardScaler\n",
    "scaler = StandardScaler()\n",
    "\n",
    "# Fit and transform the DataFrame\n",
    "scaled_cat = scaler.fit_transform(x_cat)\n",
    "x_cat\n",
    "scaled_cat "
   ]
  },
  {
   "cell_type": "code",
   "execution_count": 89,
   "id": "e8ec9bb8-79e8-4a80-a476-afbf6f1d8d10",
   "metadata": {},
   "outputs": [],
   "source": [
    "# Split the data into training and testing sets\n",
    "train_x_cat, test_x_cat, train_y_cat, test_y_cat = train_test_split(scaled_cat, y_cat, test_size=0.2, random_state=42)\n"
   ]
  },
  {
   "cell_type": "code",
   "execution_count": null,
   "id": "edf0ab05-b470-440a-a365-88fe073e174f",
   "metadata": {},
   "outputs": [],
   "source": [
    "'''\n",
    "give me a python code builld Logistic classification ML model on train data,\n",
    "make prediction on test data,\n",
    "accuracy classification table and\n",
    "a graph to visualize the table, \n",
    "and percentage of error in a prediction\n",
    "\n",
    "'''"
   ]
  },
  {
   "cell_type": "code",
   "execution_count": 91,
   "id": "4991a37b-b6e5-4c22-9290-ac437bac810d",
   "metadata": {},
   "outputs": [],
   "source": [
    "from sklearn.linear_model import LogisticRegression\n",
    "from sklearn.metrics import accuracy_score, confusion_matrix"
   ]
  },
  {
   "cell_type": "code",
   "execution_count": 94,
   "id": "c7c74e79-e597-4e16-8924-0169778df27b",
   "metadata": {},
   "outputs": [],
   "source": [
    " # Building the Logistic Regression model\n",
    "model = LogisticRegression()\n",
    "model.fit(train_x_cat, train_y_cat)\n",
    " \n",
    "# Making predictions on the test data\n",
    "y_pred= model.predict(test_x_cat)\n",
    " "
   ]
  },
  {
   "cell_type": "code",
   "execution_count": 95,
   "id": "6fc5784d-62c3-460e-868f-66c3b5db83df",
   "metadata": {},
   "outputs": [],
   "source": [
    "# Generate accuracy classification table\n",
    "confusion = confusion_matrix(test_y_cat, y_pred)\n",
    "accuracy = accuracy_score(test_y_cat, y_pred)"
   ]
  },
  {
   "cell_type": "code",
   "execution_count": 96,
   "id": "4d9187ce-bcf0-43d2-afb7-68da4b9a1c24",
   "metadata": {},
   "outputs": [
    {
     "data": {
      "text/plain": [
       "array([[0, 1],\n",
       "       [0, 1]], dtype=int64)"
      ]
     },
     "execution_count": 96,
     "metadata": {},
     "output_type": "execute_result"
    }
   ],
   "source": [
    "confusion"
   ]
  },
  {
   "cell_type": "code",
   "execution_count": 97,
   "id": "becdefe9-fc73-48a8-a3fc-fd5bd3b27638",
   "metadata": {},
   "outputs": [
    {
     "data": {
      "text/plain": [
       "0.5"
      ]
     },
     "execution_count": 97,
     "metadata": {},
     "output_type": "execute_result"
    }
   ],
   "source": [
    "accuracy"
   ]
  },
  {
   "cell_type": "code",
   "execution_count": 99,
   "id": "cd4b374c-5573-40e6-b262-d796641c5b3d",
   "metadata": {},
   "outputs": [
    {
     "data": {
      "text/plain": [
       "Text(50.722222222222214, 0.5, 'True labels')"
      ]
     },
     "execution_count": 99,
     "metadata": {},
     "output_type": "execute_result"
    },
    {
     "data": {
      "image/png": "[encoded data removed]",
      "text/plain": [
       "<Figure size 640x480 with 2 Axes>"
      ]
     },
     "metadata": {},
     "output_type": "display_data"
    }
   ],
   "source": [
    "# Visualize the accuracy classification table\n",
    "fig, ax = plt.subplots()\n",
    "sns.heatmap(confusion, annot=True, cmap=\"Blues\", fmt='d', ax=ax)\n",
    "ax.set_title('Confusion Matrix')\n",
    "ax.set_xlabel('Predicted labels')\n",
    "ax.set_ylabel('True labels')"
   ]
  },
  {
   "cell_type": "code",
   "execution_count": 102,
   "id": "6fc52a18-f0e1-4041-b392-02149098a9e5",
   "metadata": {},
   "outputs": [
    {
     "ename": "SyntaxError",
     "evalue": "invalid syntax. Perhaps you forgot a comma? (4065945872.py, line 3)",
     "output_type": "error",
     "traceback": [
      "\u001b[1;36m  Cell \u001b[1;32mIn[102], line 3\u001b[1;36m\u001b[0m\n\u001b[1;33m    print(\"Accuracy:\" accuracy)\u001b[0m\n\u001b[1;37m          ^\u001b[0m\n\u001b[1;31mSyntaxError\u001b[0m\u001b[1;31m:\u001b[0m invalid syntax. Perhaps you forgot a comma?\n"
     ]
    }
   ],
   "source": [
    "# Calculate percentage of error in predictions\n",
    "error_percentage = (1 - accuracy) * 100\n",
    "print(\"Accuracy: {accuracy:.2f)\")\n",
    "print(\"Error Percentage: {error_percentage: .2f}%\")\n",
    "\n",
    "plt.show()"
   ]
  },
  {
   "cell_type": "code",
   "execution_count": null,
   "id": "2becc50a-1d97-4b1e-ae28-6f725e2a403f",
   "metadata": {},
   "outputs": [],
   "source": []
  }
 ],
 "metadata": {
  "kernelspec": {
   "display_name": "Python 3 (ipykernel)",
   "language": "python",
   "name": "python3"
  },
  "language_info": {
   "codemirror_mode": {
    "name": "ipython",
    "version": 3
   },
   "file_extension": ".py",
   "mimetype": "text/x-python",
   "name": "python",
   "nbconvert_exporter": "python",
   "pygments_lexer": "ipython3",
   "version": "3.12.2"
  }
 },
 "nbformat": 4,
 "nbformat_minor": 5
}
